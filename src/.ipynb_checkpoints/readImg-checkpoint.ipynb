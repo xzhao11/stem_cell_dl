{
 "cells": [
  {
   "cell_type": "code",
   "execution_count": 1,
   "id": "9cbf54da-bbfc-4e78-922e-b71dd09ed57a",
   "metadata": {},
   "outputs": [],
   "source": [
    "from PIL import Image\n",
    "import numpy as np\n",
    "from os import listdir\n",
    "from os.path import isfile, join, dirname\n",
    "import os\n",
    "import cv2"
   ]
  },
  {
   "cell_type": "code",
   "execution_count": 6,
   "id": "59497c55-9204-4666-99fb-5f7fe7bf56d1",
   "metadata": {},
   "outputs": [
    {
     "name": "stdout",
     "output_type": "stream",
     "text": [
      "../images\n",
      "uint16\n",
      "[[102 103 102 ... 101 102 102]\n",
      " [102 104 101 ... 102 102  99]\n",
      " [101 102 103 ... 103 103 106]\n",
      " ...\n",
      " [103 106 100 ... 100  98 103]\n",
      " [103 100 105 ... 105 101 100]\n",
      " [101 101 103 ... 106 101 104]]\n",
      "uint16\n",
      "[[101 102 104 ... 106 102 101]\n",
      " [102 104 103 ... 100 102 103]\n",
      " [ 99 103 103 ... 102 105 102]\n",
      " ...\n",
      " [106 105 105 ... 102 103 104]\n",
      " [103 101 101 ... 102 104 103]\n",
      " [102 103 105 ... 101 101 101]]\n",
      "uint16\n",
      "[[104 101 101 ... 101 103 103]\n",
      " [103 104 103 ... 102 102 104]\n",
      " [100 100 108 ... 103 101 101]\n",
      " ...\n",
      " [109 107 106 ... 104 103 102]\n",
      " [103 101 103 ... 104 101 103]\n",
      " [100 106 101 ... 105 103 104]]\n"
     ]
    }
   ],
   "source": [
    "# mypath = dirname(os.getcwd())+\"/image\"\n",
    "mypath = \"../images\"\n",
    "\n",
    "print(mypath)\n",
    "files = [f for f in listdir(mypath) if isfile(join(mypath, f))]\n",
    "# print(onlyfiles)\n",
    "for file in files:\n",
    "    im = cv2.imread(join(mypath, file), -1)\n",
    "    print(im.dtype)\n",
    "    print(im)\n",
    "    cv2.imshow('image',im)\n",
    "    # cv2.waitKey(0)\n",
    "    # with Image.open(join(mypath, file)) as im:\n",
    "    #     im.show()\n"
   ]
  },
  {
   "cell_type": "code",
   "execution_count": null,
   "id": "90049b60-9bf5-4c36-99db-698f41948bc6",
   "metadata": {},
   "outputs": [],
   "source": []
  }
 ],
 "metadata": {
  "kernelspec": {
   "display_name": "Python 3 (ipykernel)",
   "language": "python",
   "name": "python3"
  },
  "language_info": {
   "codemirror_mode": {
    "name": "ipython",
    "version": 3
   },
   "file_extension": ".py",
   "mimetype": "text/x-python",
   "name": "python",
   "nbconvert_exporter": "python",
   "pygments_lexer": "ipython3",
   "version": "3.8.10"
  }
 },
 "nbformat": 4,
 "nbformat_minor": 5
}
