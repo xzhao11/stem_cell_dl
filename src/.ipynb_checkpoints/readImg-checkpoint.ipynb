{
 "cells": [
  {
   "cell_type": "code",
   "execution_count": 13,
   "id": "9cbf54da-bbfc-4e78-922e-b71dd09ed57a",
   "metadata": {},
   "outputs": [],
   "source": [
    "import numpy as np\n",
    "import os\n",
    "import tifffile\n",
    "import cv2\n",
    "from os.path import join, isfile, exists"
   ]
  },
  {
   "cell_type": "code",
   "execution_count": 15,
   "id": "59497c55-9204-4666-99fb-5f7fe7bf56d1",
   "metadata": {},
   "outputs": [
    {
     "name": "stderr",
     "output_type": "stream",
     "text": [
      "TiffPage 0: TypeError: read_bytes() missing 3 required positional arguments: 'dtype', 'count', and 'offsetsize'\n",
      "TiffPage 0: TypeError: read_bytes() missing 3 required positional arguments: 'dtype', 'count', and 'offsetsize'\n",
      "TiffPage 0: TypeError: read_bytes() missing 3 required positional arguments: 'dtype', 'count', and 'offsetsize'\n",
      "TiffPage 0: TypeError: read_bytes() missing 3 required positional arguments: 'dtype', 'count', and 'offsetsize'\n",
      "TiffPage 0: TypeError: read_bytes() missing 3 required positional arguments: 'dtype', 'count', and 'offsetsize'\n"
     ]
    }
   ],
   "source": [
    "input_dir = \"../images\"\n",
    "output_dir = \"../images/png\"\n",
    "lable_map = {\"BMP4\" :0, \"CHIR\": 1, \"DS\": 2, \"DSandCHIR\": 3,  \"WT\": 4}\n",
    "# raw_images = []\n",
    "labels = []\n",
    "if not exists(output_dir):\n",
    "    os.makedirs(output_dir)\n",
    "    \n",
    "files = [f for f in os.listdir(input_dir) if isfile(join(input_dir, f))]\n",
    "# print(onlyfiles)\n",
    "for file in files:\n",
    "    path = os.path.join(input_dir, file)\n",
    "    image = tifffile.imread(path)\n",
    "    img_rescaled = 255 * (image - image.min()) / (image.max() - image.min())\n",
    "    img_col = cv2.applyColorMap(img_rescaled.astype(np.uint8), cv2.COLORMAP_DEEPGREEN)\n",
    "    # raw_images.append(img_col)\n",
    "    # cv2.imwrite(os.path.join(output_dir, os.path.splitext(file)[0] + \".png\"), img_col)\n",
    "    name = file.split(\"_\")[0]\n",
    "    labels.append(lable_map[name])\n",
    "# images = np.array(images)\n",
    "# labels = to_categorical(labels, num_classes=num_classes)\n",
    "# print(labels)\n"
   ]
  }
 ],
 "metadata": {
  "kernelspec": {
   "display_name": "Python 3 (ipykernel)",
   "language": "python",
   "name": "python3"
  },
  "language_info": {
   "codemirror_mode": {
    "name": "ipython",
    "version": 3
   },
   "file_extension": ".py",
   "mimetype": "text/x-python",
   "name": "python",
   "nbconvert_exporter": "python",
   "pygments_lexer": "ipython3",
   "version": "3.9.16"
  }
 },
 "nbformat": 4,
 "nbformat_minor": 5
}
