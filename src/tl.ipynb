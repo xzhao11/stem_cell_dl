{
 "cells": [
  {
   "cell_type": "code",
   "execution_count": null,
   "id": "d2857016",
   "metadata": {
    "tags": []
   },
   "outputs": [],
   "source": [
    "import numpy as np\n",
    "import pandas as pd\n",
    "import torch\n",
    "import torchvision.models as models\n",
    "import torch.optim as optim\n",
    "import torch.nn as nn\n",
    "import warnings\n",
    "import contextlib\n",
    "from datetime import datetime\n",
    "import torch.multiprocessing as mp\n",
    "import sys\n",
    "mp.set_start_method('spawn')"
   ]
  },
  {
   "cell_type": "code",
   "execution_count": 17,
   "id": "54ec7dc7-0b89-4c31-a860-9fed0d121334",
   "metadata": {},
   "outputs": [],
   "source": [
    "from utils.datasets import *\n",
    "from utils.eval import *\n",
    "from utils.model import *"
   ]
  },
  {
   "cell_type": "code",
   "execution_count": 18,
   "id": "d0cb4a97",
   "metadata": {},
   "outputs": [
    {
     "name": "stdout",
     "output_type": "stream",
     "text": [
      "cuda\n"
     ]
    }
   ],
   "source": [
    "device = torch.device(\"cuda\" if torch.cuda.is_available() else \"cpu\")\n",
    "print(device)\n",
    "model_names = [\n",
    "    \"resnet50\",\n",
    "    \"resnet18\", \"alexnet\", \"vgg16\",\n",
    "    \"densenet\", \"inception\", \"googlenet\", \n",
    "    \"resnext50_32x4d\", \"wide_resnet50_2\"\n",
    "]"
   ]
  },
  {
   "cell_type": "code",
   "execution_count": 19,
   "id": "38922992",
   "metadata": {},
   "outputs": [],
   "source": [
    "# freezed model\n",
    "def get_original_model(net):\n",
    "    if net == \"resnet50\":\n",
    "        model = models.resnet50(weights=models.ResNet50_Weights.DEFAULT)\n",
    "        # models.resnet18(pretrained=True)\n",
    "    elif net == \"resnet18\":\n",
    "        model = models.resnet18(weights=models.ResNet18_Weights.DEFAULT)\n",
    "        # model = models.resnet18(pretrained=True)\n",
    "    elif net == \"alexnet\":\n",
    "        # model = models.alexnet(pretrained=True)\n",
    "        model = models.alexnet(weights=models.AlexNet_Weights.DEFAULT)\n",
    "    elif net == \"vgg16\":\n",
    "        model = models.vgg16(weights=models.VGG16_Weights.DEFAULT)\n",
    "        # model = models.vgg16(pretrained=True)\n",
    "    elif net == \"densenet\":\n",
    "        model = models.densenet161(weights=models.DenseNet161_Weights.DEFAULT)\n",
    "        # model = models.densenet161(pretrained=True)\n",
    "    elif net == \"inception\":\n",
    "        model = models.inception_v3(weights=models.Inception_V3_Weights.DEFAULT)\n",
    "        # model = models.inception_v3(pretrained=True)\n",
    "    elif net == \"googlenet\":\n",
    "        model = models.googlenet(weights=models.GoogLeNet_Weights.DEFAULT)\n",
    "        # model = models.googlenet(pretrained=True)\n",
    "    elif net == \"resnext50_32x4d\":\n",
    "        model = models.resnext50_32x4d(weights=models.ResNeXt50_32X4D_Weights.DEFAULT)\n",
    "        # model = models.resnext50_32x4d(pretrained=True)\n",
    "    elif net == \"wide_resnet50_2\":\n",
    "        model = models.wide_resnet50_2(weights=models.Wide_ResNet50_2_Weights.DEFAULT)\n",
    "        # model = models.wide_resnet50_2(pretrained=True)\n",
    "    else:\n",
    "        raise ValueError(\"Invalid model name\")\n",
    "    for param in model.parameters():\n",
    "        param.requires_grad = False\n",
    "    # Remove the last fully connected layer\n",
    "    if \"inception\" in net:\n",
    "        model.aux_logits=False\n",
    "        num_ftrs = model.fc.in_features\n",
    "        model.fc = nn.Identity()\n",
    "        model.fc = nn.Linear(2048, num_classes)\n",
    "        model.fc.requires_grad = True\n",
    "        optimizer = optim.SGD(model.fc.parameters(), lr=0.001, momentum=0.9)\n",
    "    if \"alexnet\" in net or \"vgg\" in net or  \"mobilenet_v3_large\" in net:\n",
    "        last_fc_layer = model.classifier[-1]\n",
    "        num_ftrs = last_fc_layer.in_features\n",
    "        model.classifier[-1] = nn.Linear(num_ftrs, num_classes)\n",
    "        model.classifier[-1].requires_grad = True\n",
    "        optimizer = optim.SGD(model.parameters(), lr=0.001, momentum=0.9)\n",
    "    elif \"densenet\" in net:\n",
    "        last_fc_layer = model.classifier\n",
    "        num_ftrs = last_fc_layer.in_features\n",
    "        model.classifier = nn.Linear(num_ftrs, num_classes)\n",
    "        model.classifier.requires_grad = True\n",
    "        optimizer = optim.SGD(model.parameters(), lr=0.001, momentum=0.9)\n",
    "    else:\n",
    "        num_ftrs = model.fc.in_features\n",
    "        model.fc = nn.Identity()\n",
    "        model.fc.requires_grad = True\n",
    "        model.fc = nn.Linear(num_ftrs, num_classes)\n",
    "        optimizer = optim.SGD(model.fc.parameters(), lr=0.001, momentum=0.9)\n",
    "    model = model.to(device)\n",
    "    criterion = nn.CrossEntropyLoss()\n",
    "    \n",
    "    return model,criterion, optimizer"
   ]
  },
  {
   "cell_type": "code",
   "execution_count": 20,
   "id": "745f0217",
   "metadata": {},
   "outputs": [],
   "source": [
    "def train_net(net):\n",
    "    model, criterion, optimizer = get_original_model(net)\n",
    "    original_stderr = sys.stderr\n",
    "    accuracy_list = []\n",
    "    precision_list = []\n",
    "    recall_list = []\n",
    "    f1_list = []\n",
    "    tps, tns, fps, fns = [], [], [], []\n",
    "    current_date = datetime.now().strftime('%Y-%m-%d')\n",
    "    save_dir = os.path.join(\"saved_models/tl\", current_date)\n",
    "    os.makedirs(save_dir, exist_ok=True)\n",
    "    num_epochs = 10\n",
    "    sys.stderr = open(os.devnull, 'w')\n",
    "    \n",
    "    for timestamp in range(1, 290):\n",
    "    # for timestamp in range(1, 20):\n",
    "        debug = False\n",
    "        if timestamp in  [1, 20, 40, 60, 80, 100, 120, 140, 160, 180, 200, 220, 240, 260, 280, 289]:\n",
    "            debug = True\n",
    "        if debug:\n",
    "            print(\"timestamp: \", timestamp)\n",
    "        if \"inception\" in net:\n",
    "            dataloaders = get_dataloaders(timestamp, inception=True)\n",
    "        else:\n",
    "            dataloaders = get_dataloaders(timestamp)\n",
    "        model_trained, loss_values = train_model(model, criterion, optimizer, dataloaders, num_epochs=num_epochs, inception=(\"inception\" in net), output=debug)\n",
    "        model_filename = os.path.join(save_dir, f\"model_{net}_time_{timestamp}_epochs{num_epochs}.pt\")\n",
    "        torch.save(model_trained.state_dict(), model_filename)\n",
    "    \n",
    "        accuracy, precision, recall, f1, tp, tn, fp, fn = get_metrics(model_trained, dataloaders['test'], inception=(\"inception\" in net))\n",
    "        accuracy_list.append(accuracy)\n",
    "        precision_list.append(precision)\n",
    "        if debug:\n",
    "            print(\"Accuracy: \", accuracy)\n",
    "        recall_list.append(recall)\n",
    "        f1_list.append(f1)\n",
    "        tps.append(tp)\n",
    "        tns.append(tn)\n",
    "        fps.append(fp)\n",
    "        fns.append(fn)\n",
    "    sys.stderr = original_stderr\n",
    "    return accuracy_list, precision_list, recall_list, f1_list, tps, tns, fps, fns"
   ]
  },
  {
   "cell_type": "code",
   "execution_count": 21,
   "id": "f59250d2",
   "metadata": {},
   "outputs": [
    {
     "name": "stdout",
     "output_type": "stream",
     "text": [
      "training resnet50...\n",
      "timestamp:  1\n",
      "Training complete in 0m 4s\n",
      "Best val Acc: 0.500000\n",
      "Accuracy:  0.25\n",
      "timestamp:  20\n",
      "Training complete in 0m 1s\n",
      "Best val Acc: 0.750000\n",
      "Accuracy:  0.625\n",
      "timestamp:  40\n",
      "Training complete in 0m 3s\n",
      "Best val Acc: 0.750000\n",
      "Accuracy:  0.375\n",
      "timestamp:  60\n",
      "Training complete in 0m 3s\n",
      "Best val Acc: 0.625000\n",
      "Accuracy:  0.875\n",
      "timestamp:  80\n",
      "Training complete in 0m 3s\n",
      "Best val Acc: 0.875000\n",
      "Accuracy:  0.875\n",
      "timestamp:  100\n",
      "Training complete in 0m 3s\n",
      "Best val Acc: 0.875000\n",
      "Accuracy:  0.875\n",
      "timestamp:  120\n",
      "Training complete in 0m 2s\n",
      "Best val Acc: 0.875000\n",
      "Accuracy:  0.875\n",
      "timestamp:  140\n",
      "Training complete in 0m 2s\n",
      "Best val Acc: 1.000000\n",
      "Accuracy:  0.875\n",
      "timestamp:  160\n",
      "Training complete in 0m 2s\n",
      "Best val Acc: 1.000000\n",
      "Accuracy:  0.875\n",
      "timestamp:  180\n",
      "Training complete in 0m 2s\n",
      "Best val Acc: 1.000000\n",
      "Accuracy:  1.0\n",
      "timestamp:  200\n",
      "Training complete in 0m 2s\n",
      "Best val Acc: 1.000000\n",
      "Accuracy:  1.0\n",
      "timestamp:  220\n",
      "Training complete in 0m 2s\n",
      "Best val Acc: 1.000000\n",
      "Accuracy:  1.0\n",
      "timestamp:  240\n",
      "Training complete in 0m 2s\n",
      "Best val Acc: 1.000000\n",
      "Accuracy:  1.0\n",
      "timestamp:  260\n",
      "Training complete in 0m 3s\n",
      "Best val Acc: 1.000000\n",
      "Accuracy:  0.875\n",
      "timestamp:  280\n",
      "Training complete in 0m 3s\n",
      "Best val Acc: 1.000000\n",
      "Accuracy:  1.0\n",
      "timestamp:  289\n",
      "Training complete in 0m 2s\n",
      "Best val Acc: 0.875000\n",
      "Accuracy:  1.0\n",
      "resnet50 average accuracy: 0.8641868512110726\n",
      "training resnet18...\n",
      "timestamp:  1\n",
      "Training complete in 0m 1s\n",
      "Best val Acc: 0.750000\n",
      "Accuracy:  0.75\n",
      "timestamp:  20\n",
      "Training complete in 0m 1s\n",
      "Best val Acc: 0.875000\n",
      "Accuracy:  0.875\n",
      "timestamp:  40\n",
      "Training complete in 0m 2s\n",
      "Best val Acc: 0.875000\n",
      "Accuracy:  0.75\n",
      "timestamp:  60\n",
      "Training complete in 0m 1s\n",
      "Best val Acc: 1.000000\n",
      "Accuracy:  0.875\n",
      "timestamp:  80\n",
      "Training complete in 0m 1s\n",
      "Best val Acc: 0.875000\n",
      "Accuracy:  0.75\n",
      "timestamp:  100\n",
      "Training complete in 0m 1s\n",
      "Best val Acc: 0.875000\n",
      "Accuracy:  0.875\n",
      "timestamp:  120\n",
      "Training complete in 0m 1s\n",
      "Best val Acc: 1.000000\n",
      "Accuracy:  1.0\n",
      "timestamp:  140\n",
      "Training complete in 0m 1s\n",
      "Best val Acc: 1.000000\n",
      "Accuracy:  0.75\n",
      "timestamp:  160\n",
      "Training complete in 0m 1s\n",
      "Best val Acc: 1.000000\n",
      "Accuracy:  0.75\n",
      "timestamp:  180\n",
      "Training complete in 0m 1s\n",
      "Best val Acc: 1.000000\n",
      "Accuracy:  0.75\n",
      "timestamp:  200\n",
      "Training complete in 0m 2s\n",
      "Best val Acc: 1.000000\n",
      "Accuracy:  0.875\n",
      "timestamp:  220\n",
      "Training complete in 0m 2s\n",
      "Best val Acc: 1.000000\n",
      "Accuracy:  0.875\n",
      "timestamp:  240\n",
      "Training complete in 0m 1s\n",
      "Best val Acc: 1.000000\n",
      "Accuracy:  0.875\n",
      "timestamp:  260\n",
      "Training complete in 0m 2s\n",
      "Best val Acc: 1.000000\n",
      "Accuracy:  1.0\n",
      "timestamp:  280\n",
      "Training complete in 0m 2s\n",
      "Best val Acc: 1.000000\n",
      "Accuracy:  1.0\n",
      "timestamp:  289\n",
      "Training complete in 0m 2s\n",
      "Best val Acc: 1.000000\n",
      "Accuracy:  0.875\n"
     ]
    },
    {
     "name": "stderr",
     "output_type": "stream",
     "text": [
      "/home/myuser/projects/thesis/stem_cell_dl/src/utils/eval.py:84: RuntimeWarning: More than 20 figures have been opened. Figures created through the pyplot interface (`matplotlib.pyplot.figure`) are retained until explicitly closed and may consume too much memory. (To control this warning, see the rcParam `figure.max_open_warning`).\n",
      "  plt.figure(figsize=(10, 8))\n"
     ]
    },
    {
     "name": "stdout",
     "output_type": "stream",
     "text": [
      "resnet18 average accuracy: 0.8957612456747405\n",
      "training alexnet...\n",
      "timestamp:  1\n",
      "Training complete in 0m 1s\n",
      "Best val Acc: 0.625000\n",
      "Accuracy:  0.75\n",
      "timestamp:  20\n",
      "Training complete in 0m 1s\n",
      "Best val Acc: 0.625000\n",
      "Accuracy:  0.75\n",
      "timestamp:  40\n",
      "Training complete in 0m 1s\n",
      "Best val Acc: 1.000000\n",
      "Accuracy:  0.75\n",
      "timestamp:  60\n",
      "Training complete in 0m 1s\n",
      "Best val Acc: 0.875000\n",
      "Accuracy:  0.875\n",
      "timestamp:  80\n",
      "Training complete in 0m 0s\n",
      "Best val Acc: 0.875000\n",
      "Accuracy:  0.875\n",
      "timestamp:  100\n",
      "Training complete in 0m 1s\n",
      "Best val Acc: 0.875000\n",
      "Accuracy:  1.0\n",
      "timestamp:  120\n",
      "Training complete in 0m 0s\n",
      "Best val Acc: 1.000000\n",
      "Accuracy:  0.875\n",
      "timestamp:  140\n",
      "Training complete in 0m 0s\n",
      "Best val Acc: 1.000000\n",
      "Accuracy:  0.875\n",
      "timestamp:  160\n",
      "Training complete in 0m 1s\n",
      "Best val Acc: 1.000000\n",
      "Accuracy:  0.75\n",
      "timestamp:  180\n",
      "Training complete in 0m 0s\n",
      "Best val Acc: 1.000000\n",
      "Accuracy:  0.75\n",
      "timestamp:  200\n",
      "Training complete in 0m 1s\n",
      "Best val Acc: 1.000000\n",
      "Accuracy:  0.875\n",
      "timestamp:  220\n",
      "Training complete in 0m 0s\n",
      "Best val Acc: 0.875000\n",
      "Accuracy:  0.875\n",
      "timestamp:  240\n",
      "Training complete in 0m 0s\n",
      "Best val Acc: 1.000000\n",
      "Accuracy:  1.0\n",
      "timestamp:  260\n",
      "Training complete in 0m 1s\n",
      "Best val Acc: 1.000000\n",
      "Accuracy:  1.0\n",
      "timestamp:  280\n",
      "Training complete in 0m 0s\n",
      "Best val Acc: 1.000000\n",
      "Accuracy:  0.75\n",
      "timestamp:  289\n",
      "Training complete in 0m 1s\n",
      "Best val Acc: 1.000000\n",
      "Accuracy:  0.875\n",
      "alexnet average accuracy: 0.870674740484429\n",
      "training vgg16...\n",
      "timestamp:  1\n",
      "Training complete in 0m 3s\n",
      "Best val Acc: 0.750000\n",
      "Accuracy:  0.75\n",
      "timestamp:  20\n",
      "Training complete in 0m 4s\n",
      "Best val Acc: 0.875000\n",
      "Accuracy:  0.875\n",
      "timestamp:  40\n",
      "Training complete in 0m 2s\n",
      "Best val Acc: 0.875000\n",
      "Accuracy:  1.0\n",
      "timestamp:  60\n",
      "Training complete in 0m 3s\n",
      "Best val Acc: 0.875000\n",
      "Accuracy:  0.875\n",
      "timestamp:  80\n",
      "Training complete in 0m 4s\n",
      "Best val Acc: 0.875000\n",
      "Accuracy:  0.875\n",
      "timestamp:  100\n",
      "Training complete in 0m 2s\n",
      "Best val Acc: 0.875000\n",
      "Accuracy:  1.0\n",
      "timestamp:  120\n",
      "Training complete in 0m 3s\n",
      "Best val Acc: 1.000000\n",
      "Accuracy:  0.875\n",
      "timestamp:  140\n",
      "Training complete in 0m 3s\n",
      "Best val Acc: 1.000000\n",
      "Accuracy:  0.875\n",
      "timestamp:  160\n",
      "Training complete in 0m 2s\n",
      "Best val Acc: 1.000000\n",
      "Accuracy:  1.0\n",
      "timestamp:  180\n",
      "Training complete in 0m 2s\n",
      "Best val Acc: 1.000000\n",
      "Accuracy:  0.75\n",
      "timestamp:  200\n",
      "Training complete in 0m 2s\n",
      "Best val Acc: 1.000000\n",
      "Accuracy:  0.875\n",
      "timestamp:  220\n",
      "Training complete in 0m 2s\n",
      "Best val Acc: 1.000000\n",
      "Accuracy:  1.0\n",
      "timestamp:  240\n",
      "Training complete in 0m 2s\n",
      "Best val Acc: 1.000000\n",
      "Accuracy:  1.0\n",
      "timestamp:  260\n",
      "Training complete in 0m 2s\n",
      "Best val Acc: 1.000000\n",
      "Accuracy:  1.0\n",
      "timestamp:  280\n",
      "Training complete in 0m 2s\n",
      "Best val Acc: 1.000000\n",
      "Accuracy:  0.875\n",
      "timestamp:  289\n",
      "Training complete in 0m 2s\n",
      "Best val Acc: 1.000000\n",
      "Accuracy:  1.0\n",
      "vgg16 average accuracy: 0.8927335640138409\n",
      "training densenet...\n",
      "timestamp:  1\n",
      "Training complete in 0m 5s\n",
      "Best val Acc: 0.750000\n",
      "Accuracy:  0.875\n",
      "timestamp:  20\n",
      "Training complete in 0m 6s\n",
      "Best val Acc: 0.875000\n",
      "Accuracy:  0.75\n",
      "timestamp:  40\n",
      "Training complete in 0m 7s\n",
      "Best val Acc: 0.875000\n",
      "Accuracy:  0.875\n",
      "timestamp:  60\n",
      "Training complete in 0m 6s\n",
      "Best val Acc: 0.750000\n",
      "Accuracy:  0.75\n",
      "timestamp:  80\n",
      "Training complete in 0m 5s\n",
      "Best val Acc: 1.000000\n",
      "Accuracy:  0.875\n",
      "timestamp:  100\n",
      "Training complete in 0m 5s\n",
      "Best val Acc: 0.750000\n",
      "Accuracy:  0.875\n",
      "timestamp:  120\n",
      "Training complete in 0m 5s\n",
      "Best val Acc: 0.875000\n",
      "Accuracy:  1.0\n",
      "timestamp:  140\n",
      "Training complete in 0m 5s\n",
      "Best val Acc: 1.000000\n",
      "Accuracy:  1.0\n",
      "timestamp:  160\n",
      "Training complete in 0m 5s\n",
      "Best val Acc: 1.000000\n",
      "Accuracy:  1.0\n",
      "timestamp:  180\n",
      "Training complete in 0m 5s\n",
      "Best val Acc: 0.875000\n",
      "Accuracy:  0.75\n",
      "timestamp:  200\n",
      "Training complete in 0m 5s\n",
      "Best val Acc: 0.875000\n",
      "Accuracy:  1.0\n",
      "timestamp:  220\n",
      "Training complete in 0m 6s\n",
      "Best val Acc: 1.000000\n",
      "Accuracy:  1.0\n",
      "timestamp:  240\n",
      "Training complete in 0m 6s\n",
      "Best val Acc: 1.000000\n",
      "Accuracy:  1.0\n",
      "timestamp:  260\n",
      "Training complete in 0m 6s\n",
      "Best val Acc: 1.000000\n",
      "Accuracy:  1.0\n",
      "timestamp:  280\n",
      "Training complete in 0m 5s\n",
      "Best val Acc: 1.000000\n",
      "Accuracy:  1.0\n",
      "timestamp:  289\n",
      "Training complete in 0m 6s\n",
      "Best val Acc: 1.000000\n",
      "Accuracy:  0.875\n",
      "densenet average accuracy: 0.9126297577854672\n",
      "training inception...\n",
      "timestamp:  1\n",
      "Training complete in 0m 4s\n",
      "Best val Acc: 0.500000\n",
      "Accuracy:  0.375\n",
      "timestamp:  20\n",
      "Training complete in 0m 4s\n",
      "Best val Acc: 0.750000\n",
      "Accuracy:  0.75\n",
      "timestamp:  40\n",
      "Training complete in 0m 4s\n",
      "Best val Acc: 0.875000\n",
      "Accuracy:  0.875\n",
      "timestamp:  60\n",
      "Training complete in 0m 3s\n",
      "Best val Acc: 0.875000\n",
      "Accuracy:  0.75\n",
      "timestamp:  80\n",
      "Training complete in 0m 4s\n",
      "Best val Acc: 1.000000\n",
      "Accuracy:  0.875\n",
      "timestamp:  100\n",
      "Training complete in 0m 4s\n",
      "Best val Acc: 0.875000\n",
      "Accuracy:  1.0\n",
      "timestamp:  120\n",
      "Training complete in 0m 4s\n",
      "Best val Acc: 1.000000\n",
      "Accuracy:  1.0\n",
      "timestamp:  140\n",
      "Training complete in 0m 3s\n",
      "Best val Acc: 1.000000\n",
      "Accuracy:  0.875\n",
      "timestamp:  160\n",
      "Training complete in 0m 3s\n",
      "Best val Acc: 1.000000\n",
      "Accuracy:  0.875\n",
      "timestamp:  180\n",
      "Training complete in 0m 3s\n",
      "Best val Acc: 1.000000\n",
      "Accuracy:  0.875\n",
      "timestamp:  200\n",
      "Training complete in 0m 3s\n",
      "Best val Acc: 1.000000\n",
      "Accuracy:  0.75\n",
      "timestamp:  220\n",
      "Training complete in 0m 4s\n",
      "Best val Acc: 0.875000\n",
      "Accuracy:  0.875\n",
      "timestamp:  240\n",
      "Training complete in 0m 5s\n",
      "Best val Acc: 1.000000\n",
      "Accuracy:  0.875\n",
      "timestamp:  260\n",
      "Training complete in 0m 4s\n",
      "Best val Acc: 0.875000\n",
      "Accuracy:  1.0\n",
      "timestamp:  280\n",
      "Training complete in 0m 3s\n",
      "Best val Acc: 1.000000\n",
      "Accuracy:  1.0\n",
      "timestamp:  289\n",
      "Training complete in 0m 4s\n",
      "Best val Acc: 1.000000\n",
      "Accuracy:  1.0\n",
      "inception average accuracy: 0.8771626297577855\n",
      "training googlenet...\n",
      "timestamp:  1\n",
      "Training complete in 0m 3s\n",
      "Best val Acc: 0.500000\n",
      "Accuracy:  0.625\n",
      "timestamp:  20\n",
      "Training complete in 0m 2s\n",
      "Best val Acc: 0.750000\n",
      "Accuracy:  0.875\n",
      "timestamp:  40\n",
      "Training complete in 0m 3s\n",
      "Best val Acc: 0.750000\n",
      "Accuracy:  0.875\n",
      "timestamp:  60\n",
      "Training complete in 0m 3s\n",
      "Best val Acc: 0.750000\n",
      "Accuracy:  0.875\n",
      "timestamp:  80\n",
      "Training complete in 0m 3s\n",
      "Best val Acc: 0.750000\n",
      "Accuracy:  0.875\n",
      "timestamp:  100\n",
      "Training complete in 0m 2s\n",
      "Best val Acc: 0.875000\n",
      "Accuracy:  0.875\n",
      "timestamp:  120\n",
      "Training complete in 0m 2s\n",
      "Best val Acc: 0.750000\n",
      "Accuracy:  0.875\n",
      "timestamp:  140\n",
      "Training complete in 0m 3s\n",
      "Best val Acc: 0.750000\n",
      "Accuracy:  0.875\n",
      "timestamp:  160\n",
      "Training complete in 0m 3s\n",
      "Best val Acc: 1.000000\n",
      "Accuracy:  0.875\n",
      "timestamp:  180\n",
      "Training complete in 0m 3s\n",
      "Best val Acc: 0.875000\n",
      "Accuracy:  1.0\n",
      "timestamp:  200\n",
      "Training complete in 0m 2s\n",
      "Best val Acc: 1.000000\n",
      "Accuracy:  0.75\n",
      "timestamp:  220\n",
      "Training complete in 0m 3s\n",
      "Best val Acc: 0.875000\n",
      "Accuracy:  1.0\n",
      "timestamp:  240\n",
      "Training complete in 0m 1s\n",
      "Best val Acc: 1.000000\n",
      "Accuracy:  0.875\n",
      "timestamp:  260\n",
      "Training complete in 0m 3s\n",
      "Best val Acc: 1.000000\n",
      "Accuracy:  1.0\n",
      "timestamp:  280\n",
      "Training complete in 0m 2s\n",
      "Best val Acc: 0.875000\n",
      "Accuracy:  1.0\n",
      "timestamp:  289\n",
      "Training complete in 0m 3s\n",
      "Best val Acc: 0.875000\n",
      "Accuracy:  0.75\n",
      "googlenet average accuracy: 0.8871107266435986\n",
      "training resnext50_32x4d...\n",
      "timestamp:  1\n",
      "Training complete in 0m 4s\n",
      "Best val Acc: 0.625000\n",
      "Accuracy:  0.375\n",
      "timestamp:  20\n",
      "Training complete in 0m 4s\n",
      "Best val Acc: 0.500000\n",
      "Accuracy:  0.625\n",
      "timestamp:  40\n",
      "Training complete in 0m 2s\n",
      "Best val Acc: 0.875000\n",
      "Accuracy:  0.75\n",
      "timestamp:  60\n",
      "Training complete in 0m 2s\n",
      "Best val Acc: 0.875000\n",
      "Accuracy:  0.875\n",
      "timestamp:  80\n",
      "Training complete in 0m 3s\n",
      "Best val Acc: 0.750000\n",
      "Accuracy:  0.875\n",
      "timestamp:  100\n",
      "Training complete in 0m 3s\n",
      "Best val Acc: 0.750000\n",
      "Accuracy:  1.0\n",
      "timestamp:  120\n",
      "Training complete in 0m 3s\n",
      "Best val Acc: 0.875000\n",
      "Accuracy:  1.0\n",
      "timestamp:  140\n",
      "Training complete in 0m 2s\n",
      "Best val Acc: 1.000000\n",
      "Accuracy:  1.0\n",
      "timestamp:  160\n",
      "Training complete in 0m 4s\n",
      "Best val Acc: 0.750000\n",
      "Accuracy:  0.875\n",
      "timestamp:  180\n",
      "Training complete in 0m 2s\n",
      "Best val Acc: 0.875000\n",
      "Accuracy:  0.875\n",
      "timestamp:  200\n",
      "Training complete in 0m 2s\n",
      "Best val Acc: 1.000000\n",
      "Accuracy:  1.0\n",
      "timestamp:  220\n",
      "Training complete in 0m 2s\n",
      "Best val Acc: 0.875000\n",
      "Accuracy:  1.0\n",
      "timestamp:  240\n",
      "Training complete in 0m 2s\n",
      "Best val Acc: 1.000000\n",
      "Accuracy:  0.875\n",
      "timestamp:  260\n",
      "Training complete in 0m 2s\n",
      "Best val Acc: 1.000000\n",
      "Accuracy:  1.0\n",
      "timestamp:  280\n",
      "Training complete in 0m 2s\n",
      "Best val Acc: 0.875000\n",
      "Accuracy:  0.875\n",
      "timestamp:  289\n",
      "Training complete in 0m 4s\n",
      "Best val Acc: 0.875000\n",
      "Accuracy:  1.0\n",
      "resnext50_32x4d average accuracy: 0.8905709342560554\n",
      "training wide_resnet50_2...\n",
      "timestamp:  1\n",
      "Training complete in 0m 5s\n",
      "Best val Acc: 0.375000\n",
      "Accuracy:  0.375\n",
      "timestamp:  20\n",
      "Training complete in 0m 3s\n",
      "Best val Acc: 0.875000\n",
      "Accuracy:  0.75\n",
      "timestamp:  40\n",
      "Training complete in 0m 5s\n",
      "Best val Acc: 0.750000\n",
      "Accuracy:  0.625\n",
      "timestamp:  60\n",
      "Training complete in 0m 4s\n",
      "Best val Acc: 0.625000\n",
      "Accuracy:  0.625\n",
      "timestamp:  80\n",
      "Training complete in 0m 5s\n",
      "Best val Acc: 0.750000\n",
      "Accuracy:  0.75\n",
      "timestamp:  100\n",
      "Training complete in 0m 5s\n",
      "Best val Acc: 0.750000\n",
      "Accuracy:  0.875\n",
      "timestamp:  120\n",
      "Training complete in 0m 5s\n",
      "Best val Acc: 0.875000\n",
      "Accuracy:  0.875\n",
      "timestamp:  140\n",
      "Training complete in 0m 5s\n",
      "Best val Acc: 1.000000\n",
      "Accuracy:  0.75\n",
      "timestamp:  160\n",
      "Training complete in 0m 5s\n",
      "Best val Acc: 1.000000\n",
      "Accuracy:  0.875\n",
      "timestamp:  180\n",
      "Training complete in 0m 2s\n",
      "Best val Acc: 1.000000\n",
      "Accuracy:  0.875\n",
      "timestamp:  200\n",
      "Training complete in 0m 5s\n",
      "Best val Acc: 1.000000\n",
      "Accuracy:  1.0\n",
      "timestamp:  220\n",
      "Training complete in 0m 5s\n",
      "Best val Acc: 1.000000\n",
      "Accuracy:  0.875\n",
      "timestamp:  240\n",
      "Training complete in 0m 5s\n",
      "Best val Acc: 1.000000\n",
      "Accuracy:  0.875\n",
      "timestamp:  260\n",
      "Training complete in 0m 5s\n",
      "Best val Acc: 0.750000\n",
      "Accuracy:  1.0\n",
      "timestamp:  280\n",
      "Training complete in 0m 2s\n",
      "Best val Acc: 0.875000\n",
      "Accuracy:  1.0\n",
      "timestamp:  289\n",
      "Training complete in 0m 5s\n",
      "Best val Acc: 0.875000\n",
      "Accuracy:  1.0\n",
      "wide_resnet50_2 average accuracy: 0.8438581314878892\n"
     ]
    },
    {
     "data": {
      "text/plain": [
       "<Figure size 640x480 with 0 Axes>"
      ]
     },
     "metadata": {},
     "output_type": "display_data"
    },
    {
     "data": {
      "text/plain": [
       "<Figure size 1000x800 with 0 Axes>"
      ]
     },
     "metadata": {},
     "output_type": "display_data"
    },
    {
     "data": {
      "text/plain": [
       "<Figure size 1000x800 with 0 Axes>"
      ]
     },
     "metadata": {},
     "output_type": "display_data"
    },
    {
     "data": {
      "text/plain": [
       "<Figure size 1000x800 with 0 Axes>"
      ]
     },
     "metadata": {},
     "output_type": "display_data"
    },
    {
     "data": {
      "text/plain": [
       "<Figure size 1000x800 with 0 Axes>"
      ]
     },
     "metadata": {},
     "output_type": "display_data"
    },
    {
     "data": {
      "text/plain": [
       "<Figure size 1000x800 with 0 Axes>"
      ]
     },
     "metadata": {},
     "output_type": "display_data"
    },
    {
     "data": {
      "text/plain": [
       "<Figure size 1000x800 with 0 Axes>"
      ]
     },
     "metadata": {},
     "output_type": "display_data"
    },
    {
     "data": {
      "text/plain": [
       "<Figure size 1000x800 with 0 Axes>"
      ]
     },
     "metadata": {},
     "output_type": "display_data"
    },
    {
     "data": {
      "text/plain": [
       "<Figure size 1000x800 with 0 Axes>"
      ]
     },
     "metadata": {},
     "output_type": "display_data"
    },
    {
     "data": {
      "text/plain": [
       "<Figure size 1000x800 with 0 Axes>"
      ]
     },
     "metadata": {},
     "output_type": "display_data"
    },
    {
     "data": {
      "text/plain": [
       "<Figure size 1000x800 with 0 Axes>"
      ]
     },
     "metadata": {},
     "output_type": "display_data"
    },
    {
     "data": {
      "text/plain": [
       "<Figure size 1000x800 with 0 Axes>"
      ]
     },
     "metadata": {},
     "output_type": "display_data"
    },
    {
     "data": {
      "text/plain": [
       "<Figure size 1000x800 with 0 Axes>"
      ]
     },
     "metadata": {},
     "output_type": "display_data"
    },
    {
     "data": {
      "text/plain": [
       "<Figure size 1000x800 with 0 Axes>"
      ]
     },
     "metadata": {},
     "output_type": "display_data"
    },
    {
     "data": {
      "text/plain": [
       "<Figure size 1000x800 with 0 Axes>"
      ]
     },
     "metadata": {},
     "output_type": "display_data"
    },
    {
     "data": {
      "text/plain": [
       "<Figure size 1000x800 with 0 Axes>"
      ]
     },
     "metadata": {},
     "output_type": "display_data"
    },
    {
     "data": {
      "text/plain": [
       "<Figure size 1000x800 with 0 Axes>"
      ]
     },
     "metadata": {},
     "output_type": "display_data"
    },
    {
     "data": {
      "text/plain": [
       "<Figure size 1000x800 with 0 Axes>"
      ]
     },
     "metadata": {},
     "output_type": "display_data"
    },
    {
     "data": {
      "text/plain": [
       "<Figure size 1000x800 with 0 Axes>"
      ]
     },
     "metadata": {},
     "output_type": "display_data"
    },
    {
     "data": {
      "text/plain": [
       "<Figure size 1000x800 with 0 Axes>"
      ]
     },
     "metadata": {},
     "output_type": "display_data"
    },
    {
     "data": {
      "text/plain": [
       "<Figure size 1000x800 with 0 Axes>"
      ]
     },
     "metadata": {},
     "output_type": "display_data"
    },
    {
     "data": {
      "text/plain": [
       "<Figure size 1000x800 with 0 Axes>"
      ]
     },
     "metadata": {},
     "output_type": "display_data"
    },
    {
     "data": {
      "text/plain": [
       "<Figure size 1000x800 with 0 Axes>"
      ]
     },
     "metadata": {},
     "output_type": "display_data"
    },
    {
     "data": {
      "text/plain": [
       "<Figure size 1000x800 with 0 Axes>"
      ]
     },
     "metadata": {},
     "output_type": "display_data"
    },
    {
     "data": {
      "text/plain": [
       "<Figure size 1000x800 with 0 Axes>"
      ]
     },
     "metadata": {},
     "output_type": "display_data"
    },
    {
     "data": {
      "text/plain": [
       "<Figure size 1000x800 with 0 Axes>"
      ]
     },
     "metadata": {},
     "output_type": "display_data"
    },
    {
     "data": {
      "text/plain": [
       "<Figure size 1000x800 with 0 Axes>"
      ]
     },
     "metadata": {},
     "output_type": "display_data"
    },
    {
     "data": {
      "text/plain": [
       "<Figure size 1000x800 with 0 Axes>"
      ]
     },
     "metadata": {},
     "output_type": "display_data"
    },
    {
     "data": {
      "text/plain": [
       "<Figure size 1000x800 with 0 Axes>"
      ]
     },
     "metadata": {},
     "output_type": "display_data"
    },
    {
     "data": {
      "text/plain": [
       "<Figure size 1000x800 with 0 Axes>"
      ]
     },
     "metadata": {},
     "output_type": "display_data"
    },
    {
     "data": {
      "text/plain": [
       "<Figure size 1000x800 with 0 Axes>"
      ]
     },
     "metadata": {},
     "output_type": "display_data"
    },
    {
     "data": {
      "text/plain": [
       "<Figure size 1000x800 with 0 Axes>"
      ]
     },
     "metadata": {},
     "output_type": "display_data"
    },
    {
     "data": {
      "text/plain": [
       "<Figure size 1000x800 with 0 Axes>"
      ]
     },
     "metadata": {},
     "output_type": "display_data"
    },
    {
     "data": {
      "text/plain": [
       "<Figure size 1000x800 with 0 Axes>"
      ]
     },
     "metadata": {},
     "output_type": "display_data"
    },
    {
     "data": {
      "text/plain": [
       "<Figure size 1000x800 with 0 Axes>"
      ]
     },
     "metadata": {},
     "output_type": "display_data"
    },
    {
     "data": {
      "text/plain": [
       "<Figure size 1000x800 with 0 Axes>"
      ]
     },
     "metadata": {},
     "output_type": "display_data"
    },
    {
     "data": {
      "text/plain": [
       "<Figure size 1000x800 with 0 Axes>"
      ]
     },
     "metadata": {},
     "output_type": "display_data"
    },
    {
     "data": {
      "text/plain": [
       "<Figure size 1000x800 with 0 Axes>"
      ]
     },
     "metadata": {},
     "output_type": "display_data"
    },
    {
     "data": {
      "text/plain": [
       "<Figure size 1000x800 with 0 Axes>"
      ]
     },
     "metadata": {},
     "output_type": "display_data"
    },
    {
     "data": {
      "text/plain": [
       "<Figure size 1000x800 with 0 Axes>"
      ]
     },
     "metadata": {},
     "output_type": "display_data"
    },
    {
     "data": {
      "text/plain": [
       "<Figure size 1000x800 with 0 Axes>"
      ]
     },
     "metadata": {},
     "output_type": "display_data"
    },
    {
     "data": {
      "text/plain": [
       "<Figure size 1000x800 with 0 Axes>"
      ]
     },
     "metadata": {},
     "output_type": "display_data"
    },
    {
     "data": {
      "text/plain": [
       "<Figure size 1000x800 with 0 Axes>"
      ]
     },
     "metadata": {},
     "output_type": "display_data"
    },
    {
     "data": {
      "text/plain": [
       "<Figure size 1000x800 with 0 Axes>"
      ]
     },
     "metadata": {},
     "output_type": "display_data"
    },
    {
     "data": {
      "text/plain": [
       "<Figure size 1000x800 with 0 Axes>"
      ]
     },
     "metadata": {},
     "output_type": "display_data"
    },
    {
     "data": {
      "text/plain": [
       "<Figure size 1000x800 with 0 Axes>"
      ]
     },
     "metadata": {},
     "output_type": "display_data"
    },
    {
     "data": {
      "text/plain": [
       "<Figure size 1000x800 with 0 Axes>"
      ]
     },
     "metadata": {},
     "output_type": "display_data"
    },
    {
     "data": {
      "text/plain": [
       "<Figure size 1000x800 with 0 Axes>"
      ]
     },
     "metadata": {},
     "output_type": "display_data"
    },
    {
     "data": {
      "text/plain": [
       "<Figure size 1000x800 with 0 Axes>"
      ]
     },
     "metadata": {},
     "output_type": "display_data"
    },
    {
     "data": {
      "text/plain": [
       "<Figure size 1000x800 with 0 Axes>"
      ]
     },
     "metadata": {},
     "output_type": "display_data"
    },
    {
     "data": {
      "text/plain": [
       "<Figure size 1000x800 with 0 Axes>"
      ]
     },
     "metadata": {},
     "output_type": "display_data"
    },
    {
     "data": {
      "text/plain": [
       "<Figure size 1000x800 with 0 Axes>"
      ]
     },
     "metadata": {},
     "output_type": "display_data"
    },
    {
     "data": {
      "text/plain": [
       "<Figure size 1000x800 with 0 Axes>"
      ]
     },
     "metadata": {},
     "output_type": "display_data"
    },
    {
     "data": {
      "text/plain": [
       "<Figure size 1000x800 with 0 Axes>"
      ]
     },
     "metadata": {},
     "output_type": "display_data"
    },
    {
     "data": {
      "text/plain": [
       "<Figure size 1000x800 with 0 Axes>"
      ]
     },
     "metadata": {},
     "output_type": "display_data"
    },
    {
     "data": {
      "text/plain": [
       "<Figure size 1000x800 with 0 Axes>"
      ]
     },
     "metadata": {},
     "output_type": "display_data"
    },
    {
     "data": {
      "text/plain": [
       "<Figure size 1000x800 with 0 Axes>"
      ]
     },
     "metadata": {},
     "output_type": "display_data"
    },
    {
     "data": {
      "text/plain": [
       "<Figure size 1000x800 with 0 Axes>"
      ]
     },
     "metadata": {},
     "output_type": "display_data"
    },
    {
     "data": {
      "text/plain": [
       "<Figure size 1000x800 with 0 Axes>"
      ]
     },
     "metadata": {},
     "output_type": "display_data"
    },
    {
     "data": {
      "text/plain": [
       "<Figure size 1000x800 with 0 Axes>"
      ]
     },
     "metadata": {},
     "output_type": "display_data"
    },
    {
     "data": {
      "text/plain": [
       "<Figure size 1000x800 with 0 Axes>"
      ]
     },
     "metadata": {},
     "output_type": "display_data"
    },
    {
     "data": {
      "text/plain": [
       "<Figure size 1000x800 with 0 Axes>"
      ]
     },
     "metadata": {},
     "output_type": "display_data"
    },
    {
     "data": {
      "text/plain": [
       "<Figure size 1000x800 with 0 Axes>"
      ]
     },
     "metadata": {},
     "output_type": "display_data"
    },
    {
     "data": {
      "text/plain": [
       "<Figure size 1000x800 with 0 Axes>"
      ]
     },
     "metadata": {},
     "output_type": "display_data"
    },
    {
     "data": {
      "text/plain": [
       "<Figure size 1000x800 with 0 Axes>"
      ]
     },
     "metadata": {},
     "output_type": "display_data"
    },
    {
     "data": {
      "text/plain": [
       "<Figure size 1000x800 with 0 Axes>"
      ]
     },
     "metadata": {},
     "output_type": "display_data"
    },
    {
     "data": {
      "text/plain": [
       "<Figure size 1000x800 with 0 Axes>"
      ]
     },
     "metadata": {},
     "output_type": "display_data"
    },
    {
     "data": {
      "text/plain": [
       "<Figure size 1000x800 with 0 Axes>"
      ]
     },
     "metadata": {},
     "output_type": "display_data"
    },
    {
     "data": {
      "text/plain": [
       "<Figure size 1000x800 with 0 Axes>"
      ]
     },
     "metadata": {},
     "output_type": "display_data"
    },
    {
     "data": {
      "text/plain": [
       "<Figure size 1000x800 with 0 Axes>"
      ]
     },
     "metadata": {},
     "output_type": "display_data"
    },
    {
     "data": {
      "text/plain": [
       "<Figure size 1000x800 with 0 Axes>"
      ]
     },
     "metadata": {},
     "output_type": "display_data"
    },
    {
     "data": {
      "text/plain": [
       "<Figure size 1000x800 with 0 Axes>"
      ]
     },
     "metadata": {},
     "output_type": "display_data"
    },
    {
     "data": {
      "text/plain": [
       "<Figure size 1000x800 with 0 Axes>"
      ]
     },
     "metadata": {},
     "output_type": "display_data"
    },
    {
     "data": {
      "text/plain": [
       "<Figure size 1000x800 with 0 Axes>"
      ]
     },
     "metadata": {},
     "output_type": "display_data"
    },
    {
     "data": {
      "text/plain": [
       "<Figure size 1000x800 with 0 Axes>"
      ]
     },
     "metadata": {},
     "output_type": "display_data"
    },
    {
     "data": {
      "text/plain": [
       "<Figure size 1000x800 with 0 Axes>"
      ]
     },
     "metadata": {},
     "output_type": "display_data"
    },
    {
     "data": {
      "text/plain": [
       "<Figure size 1000x800 with 0 Axes>"
      ]
     },
     "metadata": {},
     "output_type": "display_data"
    },
    {
     "data": {
      "text/plain": [
       "<Figure size 1000x800 with 0 Axes>"
      ]
     },
     "metadata": {},
     "output_type": "display_data"
    },
    {
     "data": {
      "text/plain": [
       "<Figure size 1000x800 with 0 Axes>"
      ]
     },
     "metadata": {},
     "output_type": "display_data"
    },
    {
     "data": {
      "text/plain": [
       "<Figure size 1000x800 with 0 Axes>"
      ]
     },
     "metadata": {},
     "output_type": "display_data"
    },
    {
     "data": {
      "text/plain": [
       "<Figure size 1000x800 with 0 Axes>"
      ]
     },
     "metadata": {},
     "output_type": "display_data"
    },
    {
     "data": {
      "text/plain": [
       "<Figure size 1000x800 with 0 Axes>"
      ]
     },
     "metadata": {},
     "output_type": "display_data"
    },
    {
     "data": {
      "text/plain": [
       "<Figure size 1000x800 with 0 Axes>"
      ]
     },
     "metadata": {},
     "output_type": "display_data"
    },
    {
     "data": {
      "text/plain": [
       "<Figure size 1000x800 with 0 Axes>"
      ]
     },
     "metadata": {},
     "output_type": "display_data"
    },
    {
     "data": {
      "text/plain": [
       "<Figure size 1000x800 with 0 Axes>"
      ]
     },
     "metadata": {},
     "output_type": "display_data"
    },
    {
     "data": {
      "text/plain": [
       "<Figure size 1000x800 with 0 Axes>"
      ]
     },
     "metadata": {},
     "output_type": "display_data"
    },
    {
     "data": {
      "text/plain": [
       "<Figure size 1000x800 with 0 Axes>"
      ]
     },
     "metadata": {},
     "output_type": "display_data"
    },
    {
     "data": {
      "text/plain": [
       "<Figure size 1000x800 with 0 Axes>"
      ]
     },
     "metadata": {},
     "output_type": "display_data"
    },
    {
     "data": {
      "text/plain": [
       "<Figure size 1000x800 with 0 Axes>"
      ]
     },
     "metadata": {},
     "output_type": "display_data"
    },
    {
     "data": {
      "text/plain": [
       "<Figure size 1000x800 with 0 Axes>"
      ]
     },
     "metadata": {},
     "output_type": "display_data"
    },
    {
     "data": {
      "text/plain": [
       "<Figure size 1000x800 with 0 Axes>"
      ]
     },
     "metadata": {},
     "output_type": "display_data"
    },
    {
     "data": {
      "text/plain": [
       "<Figure size 1000x800 with 0 Axes>"
      ]
     },
     "metadata": {},
     "output_type": "display_data"
    },
    {
     "data": {
      "text/plain": [
       "<Figure size 1000x800 with 0 Axes>"
      ]
     },
     "metadata": {},
     "output_type": "display_data"
    },
    {
     "data": {
      "text/plain": [
       "<Figure size 1000x800 with 0 Axes>"
      ]
     },
     "metadata": {},
     "output_type": "display_data"
    },
    {
     "data": {
      "text/plain": [
       "<Figure size 1000x800 with 0 Axes>"
      ]
     },
     "metadata": {},
     "output_type": "display_data"
    },
    {
     "data": {
      "text/plain": [
       "<Figure size 1000x800 with 0 Axes>"
      ]
     },
     "metadata": {},
     "output_type": "display_data"
    },
    {
     "data": {
      "text/plain": [
       "<Figure size 1000x800 with 0 Axes>"
      ]
     },
     "metadata": {},
     "output_type": "display_data"
    },
    {
     "data": {
      "text/plain": [
       "<Figure size 1000x800 with 0 Axes>"
      ]
     },
     "metadata": {},
     "output_type": "display_data"
    },
    {
     "data": {
      "text/plain": [
       "<Figure size 1000x800 with 0 Axes>"
      ]
     },
     "metadata": {},
     "output_type": "display_data"
    },
    {
     "data": {
      "text/plain": [
       "<Figure size 1000x800 with 0 Axes>"
      ]
     },
     "metadata": {},
     "output_type": "display_data"
    },
    {
     "data": {
      "text/plain": [
       "<Figure size 1000x800 with 0 Axes>"
      ]
     },
     "metadata": {},
     "output_type": "display_data"
    },
    {
     "data": {
      "text/plain": [
       "<Figure size 1000x800 with 0 Axes>"
      ]
     },
     "metadata": {},
     "output_type": "display_data"
    },
    {
     "data": {
      "text/plain": [
       "<Figure size 1000x800 with 0 Axes>"
      ]
     },
     "metadata": {},
     "output_type": "display_data"
    },
    {
     "data": {
      "text/plain": [
       "<Figure size 1000x800 with 0 Axes>"
      ]
     },
     "metadata": {},
     "output_type": "display_data"
    },
    {
     "data": {
      "text/plain": [
       "<Figure size 1000x800 with 0 Axes>"
      ]
     },
     "metadata": {},
     "output_type": "display_data"
    },
    {
     "data": {
      "text/plain": [
       "<Figure size 1000x800 with 0 Axes>"
      ]
     },
     "metadata": {},
     "output_type": "display_data"
    },
    {
     "data": {
      "text/plain": [
       "<Figure size 1000x800 with 0 Axes>"
      ]
     },
     "metadata": {},
     "output_type": "display_data"
    },
    {
     "data": {
      "text/plain": [
       "<Figure size 1000x800 with 0 Axes>"
      ]
     },
     "metadata": {},
     "output_type": "display_data"
    },
    {
     "data": {
      "text/plain": [
       "<Figure size 1000x800 with 0 Axes>"
      ]
     },
     "metadata": {},
     "output_type": "display_data"
    },
    {
     "data": {
      "text/plain": [
       "<Figure size 1000x800 with 0 Axes>"
      ]
     },
     "metadata": {},
     "output_type": "display_data"
    },
    {
     "data": {
      "text/plain": [
       "<Figure size 1000x800 with 0 Axes>"
      ]
     },
     "metadata": {},
     "output_type": "display_data"
    },
    {
     "data": {
      "text/plain": [
       "<Figure size 1000x800 with 0 Axes>"
      ]
     },
     "metadata": {},
     "output_type": "display_data"
    },
    {
     "data": {
      "text/plain": [
       "<Figure size 1000x800 with 0 Axes>"
      ]
     },
     "metadata": {},
     "output_type": "display_data"
    },
    {
     "data": {
      "text/plain": [
       "<Figure size 1000x800 with 0 Axes>"
      ]
     },
     "metadata": {},
     "output_type": "display_data"
    },
    {
     "data": {
      "text/plain": [
       "<Figure size 1000x800 with 0 Axes>"
      ]
     },
     "metadata": {},
     "output_type": "display_data"
    },
    {
     "data": {
      "text/plain": [
       "<Figure size 1000x800 with 0 Axes>"
      ]
     },
     "metadata": {},
     "output_type": "display_data"
    },
    {
     "data": {
      "text/plain": [
       "<Figure size 1000x800 with 0 Axes>"
      ]
     },
     "metadata": {},
     "output_type": "display_data"
    },
    {
     "data": {
      "text/plain": [
       "<Figure size 1000x800 with 0 Axes>"
      ]
     },
     "metadata": {},
     "output_type": "display_data"
    },
    {
     "data": {
      "text/plain": [
       "<Figure size 1000x800 with 0 Axes>"
      ]
     },
     "metadata": {},
     "output_type": "display_data"
    },
    {
     "data": {
      "text/plain": [
       "<Figure size 1000x800 with 0 Axes>"
      ]
     },
     "metadata": {},
     "output_type": "display_data"
    },
    {
     "data": {
      "text/plain": [
       "<Figure size 1000x800 with 0 Axes>"
      ]
     },
     "metadata": {},
     "output_type": "display_data"
    },
    {
     "data": {
      "text/plain": [
       "<Figure size 1000x800 with 0 Axes>"
      ]
     },
     "metadata": {},
     "output_type": "display_data"
    },
    {
     "data": {
      "text/plain": [
       "<Figure size 1000x800 with 0 Axes>"
      ]
     },
     "metadata": {},
     "output_type": "display_data"
    },
    {
     "data": {
      "text/plain": [
       "<Figure size 1000x800 with 0 Axes>"
      ]
     },
     "metadata": {},
     "output_type": "display_data"
    },
    {
     "data": {
      "text/plain": [
       "<Figure size 1000x800 with 0 Axes>"
      ]
     },
     "metadata": {},
     "output_type": "display_data"
    },
    {
     "data": {
      "text/plain": [
       "<Figure size 1000x800 with 0 Axes>"
      ]
     },
     "metadata": {},
     "output_type": "display_data"
    },
    {
     "data": {
      "text/plain": [
       "<Figure size 1000x800 with 0 Axes>"
      ]
     },
     "metadata": {},
     "output_type": "display_data"
    },
    {
     "data": {
      "text/plain": [
       "<Figure size 1000x800 with 0 Axes>"
      ]
     },
     "metadata": {},
     "output_type": "display_data"
    },
    {
     "data": {
      "text/plain": [
       "<Figure size 1000x800 with 0 Axes>"
      ]
     },
     "metadata": {},
     "output_type": "display_data"
    },
    {
     "data": {
      "text/plain": [
       "<Figure size 1000x800 with 0 Axes>"
      ]
     },
     "metadata": {},
     "output_type": "display_data"
    },
    {
     "data": {
      "text/plain": [
       "<Figure size 1000x800 with 0 Axes>"
      ]
     },
     "metadata": {},
     "output_type": "display_data"
    },
    {
     "data": {
      "text/plain": [
       "<Figure size 1000x800 with 0 Axes>"
      ]
     },
     "metadata": {},
     "output_type": "display_data"
    },
    {
     "data": {
      "text/plain": [
       "<Figure size 1000x800 with 0 Axes>"
      ]
     },
     "metadata": {},
     "output_type": "display_data"
    },
    {
     "data": {
      "text/plain": [
       "<Figure size 1000x800 with 0 Axes>"
      ]
     },
     "metadata": {},
     "output_type": "display_data"
    },
    {
     "data": {
      "text/plain": [
       "<Figure size 1000x800 with 0 Axes>"
      ]
     },
     "metadata": {},
     "output_type": "display_data"
    },
    {
     "data": {
      "text/plain": [
       "<Figure size 1000x800 with 0 Axes>"
      ]
     },
     "metadata": {},
     "output_type": "display_data"
    },
    {
     "data": {
      "text/plain": [
       "<Figure size 1000x800 with 0 Axes>"
      ]
     },
     "metadata": {},
     "output_type": "display_data"
    },
    {
     "data": {
      "text/plain": [
       "<Figure size 1000x800 with 0 Axes>"
      ]
     },
     "metadata": {},
     "output_type": "display_data"
    },
    {
     "data": {
      "text/plain": [
       "<Figure size 1000x800 with 0 Axes>"
      ]
     },
     "metadata": {},
     "output_type": "display_data"
    },
    {
     "data": {
      "text/plain": [
       "<Figure size 1000x800 with 0 Axes>"
      ]
     },
     "metadata": {},
     "output_type": "display_data"
    },
    {
     "data": {
      "text/plain": [
       "<Figure size 1000x800 with 0 Axes>"
      ]
     },
     "metadata": {},
     "output_type": "display_data"
    },
    {
     "data": {
      "text/plain": [
       "<Figure size 1000x800 with 0 Axes>"
      ]
     },
     "metadata": {},
     "output_type": "display_data"
    },
    {
     "data": {
      "text/plain": [
       "<Figure size 1000x800 with 0 Axes>"
      ]
     },
     "metadata": {},
     "output_type": "display_data"
    },
    {
     "data": {
      "text/plain": [
       "<Figure size 1000x800 with 0 Axes>"
      ]
     },
     "metadata": {},
     "output_type": "display_data"
    },
    {
     "data": {
      "image/png": "[encoded data removed]",
      "text/plain": [
       "<Figure size 1000x800 with 2 Axes>"
      ]
     },
     "metadata": {},
     "output_type": "display_data"
    }
   ],
   "source": [
    "# for model in \n",
    "# accuracy_list, precision_list, recall_list, f1_list, tps, tns, fps, fns = train_net(\"googlenet\")\n",
    "model_names = [\n",
    "    \"resnet50\",\n",
    "    \"resnet18\", \"alexnet\", \"vgg16\",\n",
    "    \"densenet\", \"inception\", \"googlenet\", \n",
    "    \"resnext50_32x4d\", \"wide_resnet50_2\"\n",
    "]\n",
    "acc_map = {}\n",
    "pre_map = {}\n",
    "rec_map = {}\n",
    "f1_map = {}\n",
    "tps_map = {}\n",
    "tns_map = {}\n",
    "fps_map = {}\n",
    "fns_map = {}\n",
    "\n",
    "for model_name in model_names:\n",
    "    print(f\"training {model_name}...\")\n",
    "    current_date = datetime.now().strftime('%Y-%m-%d')\n",
    "    os.makedirs(f\"./output/tl/{current_date}/{model_name}\", exist_ok=True)\n",
    "    show = False\n",
    "    save = True\n",
    "    accuracy_list, precision_list, recall_list, f1_list, tps, tns, fps, fns = train_net(model_name)\n",
    "    plot_metric(accuracy_list, 'Accuracy', model=model_name, save=save, show=show, output=f\"output/tl/{current_date}\")\n",
    "    plot_metric(precision_list, 'Precision', model=model_name, save=save, show=show,output=f\"output/tl/{current_date}\")\n",
    "    plot_metric(recall_list, 'Recall', model=model_name, save=save, show=show,output=f\"output/tl/{current_date}\")\n",
    "    plot_metric(f1_list, 'F1 Score', model=model_name, save=save, show=show,output=f\"output/tl/{current_date}\")\n",
    "    for time in [1, 20, 40, 60, 80, 100, 120, 140, 160, 180, 200, 220, 240, 260, 280, 289]: \n",
    "    # for time in [1, 3, 5]: \n",
    "        plot_confusion_matrix(tps, tns, fps, fns, time, save=save, show=show,output=f\"./output/tl/{current_date}/{model_name}\")\n",
    "    acc_map[model_name] = accuracy_list\n",
    "    pre_map[model_name] = precision_list\n",
    "    rec_map[model_name] = recall_list\n",
    "    f1_map[model_name] = f1_list\n",
    "    tps_map[model_name] = tps\n",
    "    tns_map[model_name] = tns\n",
    "    fps_map[model_name] = fps\n",
    "    fns_map[model_name] = fns\n",
    "\n",
    "    print(f\"{model_name} average accuracy:\", sum(accuracy_list) / len(accuracy_list))"
   ]
  },
  {
   "cell_type": "code",
   "execution_count": 22,
   "id": "66a38f81-162f-409a-8b5c-5f1d225b7a18",
   "metadata": {},
   "outputs": [
    {
     "name": "stdout",
     "output_type": "stream",
     "text": [
      "Average Accuracy:\n",
      "resnet50: 0.8641868512110726\n",
      "resnet18: 0.8957612456747405\n",
      "alexnet: 0.870674740484429\n",
      "vgg16: 0.8927335640138409\n",
      "densenet: 0.9126297577854672\n",
      "inception: 0.8771626297577855\n",
      "googlenet: 0.8871107266435986\n",
      "resnext50_32x4d: 0.8905709342560554\n",
      "wide_resnet50_2: 0.8438581314878892\n",
      "\n",
      "Average Precision:\n",
      "resnet50: 0.7976355247981545\n",
      "resnet18: 0.8194925028835044\n",
      "alexnet: 0.8416955017301037\n",
      "vgg16: 0.8527104959630913\n",
      "densenet: 0.8447520184544399\n",
      "inception: 0.8157900807381773\n",
      "googlenet: 0.8258938869665509\n",
      "resnext50_32x4d: 0.8340253748558241\n",
      "wide_resnet50_2: 0.7464244521337932\n",
      "\n",
      "Average Recall:\n",
      "resnet50: 0.8381776239907731\n",
      "resnet18: 0.860322952710497\n",
      "alexnet: 0.8755478662053083\n",
      "vgg16: 0.8826989619377175\n",
      "densenet: 0.8772779700115348\n",
      "inception: 0.8490196078431381\n",
      "googlenet: 0.8626297577854682\n",
      "resnext50_32x4d: 0.8663206459054221\n",
      "wide_resnet50_2: 0.8040369088812007\n",
      "\n",
      "Average F1 Score:\n",
      "resnet50: 0.8061262151919593\n",
      "resnet18: 0.8311649365628594\n",
      "alexnet: 0.8365167243367921\n",
      "vgg16: 0.8531454934915138\n",
      "densenet: 0.854335145823035\n",
      "inception: 0.8217366946778706\n",
      "googlenet: 0.8325193606854507\n",
      "resnext50_32x4d: 0.8397561377492172\n",
      "wide_resnet50_2: 0.7626989619377159\n"
     ]
    }
   ],
   "source": [
    "avg_acc_map = {model: sum(acc) / len(acc) for model, acc in acc_map.items()}\n",
    "avg_pre_map = {model: sum(pre) / len(pre) for model, pre in pre_map.items()}\n",
    "avg_rec_map = {model: sum(rec) / len(rec) for model, rec in rec_map.items()}\n",
    "avg_f1_map = {model: sum(f1) / len(f1) for model, f1 in f1_map.items()}\n",
    "print(\"Average Accuracy:\")\n",
    "for model, avg_acc in avg_acc_map.items():\n",
    "    print(f\"{model}: {avg_acc}\")\n",
    "\n",
    "print(\"\\nAverage Precision:\")\n",
    "for model, avg_pre in avg_pre_map.items():\n",
    "    print(f\"{model}: {avg_pre}\")\n",
    "\n",
    "print(\"\\nAverage Recall:\")\n",
    "for model, avg_rec in avg_rec_map.items():\n",
    "    print(f\"{model}: {avg_rec}\")\n",
    "\n",
    "print(\"\\nAverage F1 Score:\")\n",
    "for model, avg_f1 in avg_f1_map.items():\n",
    "    print(f\"{model}: {avg_f1}\")\n",
    "\n",
    "output_folder = f\"./output/tl/{current_date}\"\n",
    "output_file = \"average_metrics.txt\"\n",
    "\n",
    "# Combine average metric values for all models into a single string\n",
    "combined_metrics = \"\"\n",
    "for model in model_names:\n",
    "    if model in avg_acc_map:\n",
    "        combined_metrics += f\"{model} - Average Accuracy: {avg_acc_map[model]}, Average Precision: {avg_pre_map[model]}, Average Recall: {avg_rec_map[model]}, Average F1 Score: {avg_f1_map[model]}\\n\"\n",
    "\n",
    "# Write the combined metrics string to the output file\n",
    "with open(os.path.join(output_folder, output_file), \"w\") as f:\n",
    "    f.write(combined_metrics)\n",
    "    for model in model_names:\n",
    "        if model in avg_acc_map:\n",
    "            f.write(f\"\\n{model}:\\n\")\n",
    "            f.write(\"Accuracy: \" + str(acc_map[model]) + \"\\n\")\n",
    "            f.write(\"Precision: \" + str(pre_map[model]) + \"\\n\")\n",
    "            f.write(\"Recall: \" + str(rec_map[model]) + \"\\n\")\n",
    "            f.write(\"F1 Score: \" + str(f1_map[model]) + \"\\n\")\n",
    "            f.write(\"TPs: \" + str(tps_map[model]) + \"\\n\")\n",
    "            f.write(\"TNs: \" + str(tns_map[model]) + \"\\n\")\n",
    "            f.write(\"FPs: \" + str(fps_map[model]) + \"\\n\")\n",
    "            f.write(\"FNs: \" + str(fns_map[model]) + \"\\n\")"
   ]
  },
  {
   "cell_type": "code",
   "execution_count": 23,
   "id": "f1190f44-1b12-4cc9-b24f-0a4bddedbf84",
   "metadata": {},
   "outputs": [],
   "source": [
    "# # model_names = [\n",
    "# #     \"resnet18\",\n",
    "# #     \"alexnet\", \n",
    "# #     \"vgg16\",\n",
    "# #     \"densenet\",\n",
    "# show_ = False\n",
    "# save_ = True\n",
    "# model_name = \"densenet\"\n",
    "# accuracy_list = [0.625, 0.75, 0.75, 0.875, 0.75, 0.875, 1.0, 0.875, 0.875, 0.75, 1.0, 1.0, 0.625, 0.875, 0.75, 0.5, 0.75, 0.75, 0.75, 0.75, 0.875, 0.75, 1.0, 1.0, 0.875, 0.625, 0.75, 0.875, 0.875, 0.75, 1.0, 1.0, 0.75, 0.875, 1.0, 1.0, 0.875, 0.875, 0.875, 0.875, 0.875, 0.875, 0.875, 0.875, 0.875, 0.875, 0.875, 0.875, 0.875, 0.875, 0.875, 0.875, 0.875, 0.875, 0.875, 0.875, 0.875, 0.875, 0.875, 0.875, 0.75, 0.875, 0.875, 0.75, 0.875, 0.875, 0.875, 0.75, 0.75, 0.875, 1.0, 0.875, 0.875, 0.875, 0.875, 0.875, 0.875, 0.875, 0.875, 0.875, 0.75, 0.875, 0.875, 0.875, 0.75, 0.875, 0.875, 0.875, 0.875, 1.0, 0.875, 0.75, 1.0, 0.875, 1.0, 0.875, 1.0, 1.0, 0.875, 0.875, 0.875, 0.875, 0.875, 0.875, 0.875, 0.875, 0.75, 0.75, 0.875, 0.875, 0.875, 0.875, 0.875, 0.75, 0.875, 1.0, 1.0, 1.0, 1.0, 1.0, 1.0, 0.875, 0.875, 1.0, 1.0, 0.875, 0.75, 0.875, 1.0, 1.0, 1.0, 0.875, 1.0, 0.875, 0.75, 0.875, 1.0, 0.875, 0.875, 1.0, 0.875, 0.875, 0.75, 0.875, 0.875, 0.875, 0.875, 0.875, 0.875, 1.0, 1.0, 0.875, 1.0, 0.875, 1.0, 1.0, 0.875, 0.75, 0.75, 1.0, 1.0, 1.0, 0.875, 1.0, 1.0, 1.0, 1.0, 1.0, 1.0, 1.0, 0.875, 0.875, 1.0, 0.875, 0.875, 1.0, 0.875, 1.0, 0.875, 0.875, 0.875, 1.0, 1.0, 0.875, 0.75, 0.875, 1.0, 0.875, 0.875, 1.0, 1.0, 1.0, 1.0, 1.0, 0.875, 1.0, 1.0, 1.0, 1.0, 1.0, 1.0, 1.0, 1.0, 1.0, 1.0, 1.0, 1.0, 0.875, 1.0, 1.0, 1.0, 1.0, 0.875, 1.0, 1.0, 1.0, 1.0, 1.0, 1.0, 1.0, 0.875, 1.0, 1.0, 0.75, 1.0, 1.0, 1.0, 1.0, 1.0, 1.0, 1.0, 0.875, 0.875, 1.0, 0.875, 0.875, 1.0, 0.875, 0.875, 0.875, 0.875, 1.0, 1.0, 1.0, 1.0, 1.0, 0.875, 0.875, 1.0, 0.875, 1.0, 0.75, 1.0, 1.0, 1.0, 1.0, 0.875, 1.0, 1.0, 1.0, 1.0, 0.875, 1.0, 1.0, 0.75, 0.875, 0.875, 1.0, 1.0, 0.875, 1.0, 1.0, 1.0, 1.0, 1.0, 1.0, 1.0, 0.875, 1.0, 1.0, 1.0, 1.0, 1.0, 1.0, 0.875, 0.875, 1.0, 1.0, 0.875]\n",
    "# precision_list =[0.5666666666666667, 0.6, 0.7, 0.9, 0.7, 0.9, 1.0, 0.9, 0.9, 0.8, 1.0, 1.0, 0.4333333333333333, 0.7, 0.5333333333333333, 0.4, 0.5333333333333333, 0.5333333333333333, 0.5333333333333333, 0.5333333333333333, 0.7333333333333333, 0.5333333333333333, 1.0, 1.0, 0.7333333333333333, 0.4666666666666666, 0.5333333333333333, 0.7333333333333333, 0.7333333333333333, 0.5333333333333333, 1.0, 1.0, 0.5, 0.7333333333333333, 1.0, 1.0, 0.7333333333333333, 0.7333333333333333, 0.7333333333333333, 0.7333333333333333, 0.7333333333333333, 0.7333333333333333, 0.7333333333333333, 0.7333333333333333, 0.7333333333333333, 0.7333333333333333, 0.7333333333333333, 0.7333333333333333, 0.7333333333333333, 0.7333333333333333, 0.7333333333333333, 0.7333333333333333, 0.7333333333333333, 0.7333333333333333, 0.7333333333333333, 0.7333333333333333, 0.7333333333333333, 0.7333333333333333, 0.7333333333333333, 0.7333333333333333, 0.6, 0.7333333333333333, 0.7333333333333333, 0.5, 0.7333333333333333, 0.9, 0.7333333333333333, 0.5, 0.7, 0.9, 1.0, 0.7333333333333333, 0.7333333333333333, 0.7333333333333333, 0.7333333333333333, 0.7333333333333333, 0.7333333333333333, 0.7333333333333333, 0.7333333333333333, 0.7333333333333333, 0.6, 0.7333333333333333, 0.7333333333333333, 0.7333333333333333, 0.5, 0.7333333333333333, 0.9, 0.7333333333333333, 0.7333333333333333, 1.0, 0.7333333333333333, 0.6, 1.0, 0.7333333333333333, 1.0, 0.7333333333333333, 1.0, 1.0, 0.7333333333333333, 0.7333333333333333, 0.7333333333333333, 0.7333333333333333, 0.7333333333333333, 0.9, 0.7333333333333333, 0.9, 0.7, 0.7, 0.7333333333333333, 0.7333333333333333, 0.7333333333333333, 0.7333333333333333, 0.7333333333333333, 0.6, 0.7333333333333333, 1.0, 1.0, 1.0, 1.0, 1.0, 1.0, 0.95, 0.7333333333333333, 1.0, 1.0, 0.7333333333333333, 0.6, 0.7333333333333333, 1.0, 1.0, 1.0, 0.7333333333333333, 1.0, 0.7333333333333333, 0.6, 0.7333333333333333, 1.0, 0.7333333333333333, 0.7333333333333333, 1.0, 0.7333333333333333, 0.7333333333333333, 0.6, 0.7333333333333333, 0.7333333333333333, 0.7333333333333333, 0.7333333333333333, 0.7333333333333333, 0.7333333333333333, 1.0, 1.0, 0.7333333333333333, 1.0, 0.7333333333333333, 1.0, 1.0, 0.7333333333333333, 0.6, 0.6, 1.0, 1.0, 1.0, 0.7333333333333333, 1.0, 1.0, 1.0, 1.0, 1.0, 1.0, 1.0, 0.7333333333333333, 0.7333333333333333, 1.0, 0.9, 0.9, 1.0, 0.9, 1.0, 0.7333333333333333, 0.7333333333333333, 0.7333333333333333, 1.0, 1.0, 0.7333333333333333, 0.6, 0.7333333333333333, 1.0, 0.7333333333333333, 0.9, 1.0, 1.0, 1.0, 1.0, 1.0, 0.7333333333333333, 1.0, 1.0, 1.0, 1.0, 1.0, 1.0, 1.0, 1.0, 1.0, 1.0, 1.0, 1.0, 0.9, 1.0, 1.0, 1.0, 1.0, 0.7333333333333333, 1.0, 1.0, 1.0, 1.0, 1.0, 1.0, 1.0, 0.7333333333333333, 1.0, 1.0, 0.6666666666666666, 1.0, 1.0, 1.0, 1.0, 1.0, 1.0, 1.0, 0.9, 0.9, 1.0, 0.7333333333333333, 0.7333333333333333, 1.0, 0.7333333333333333, 0.7333333333333333, 0.7333333333333333, 0.7333333333333333, 1.0, 1.0, 1.0, 1.0, 1.0, 0.7333333333333333, 0.7333333333333333, 1.0, 0.7333333333333333, 1.0, 0.6, 1.0, 1.0, 1.0, 1.0, 0.9, 1.0, 1.0, 1.0, 1.0, 0.7333333333333333, 1.0, 1.0, 0.6666666666666666, 0.7333333333333333, 0.9, 1.0, 1.0, 0.7333333333333333, 1.0, 1.0, 1.0, 1.0, 1.0, 1.0, 1.0, 0.7333333333333333, 1.0, 1.0, 1.0, 1.0, 1.0, 1.0, 0.9, 0.7333333333333333, 1.0, 1.0, 0.9]\n",
    "# recall_list = [0.6333333333333333, 0.8, 0.7, 0.9, 0.7, 0.9, 1.0, 0.9, 0.9, 0.8333333333333333, 1.0, 1.0, 0.5333333333333333, 0.8, 0.6, 0.4333333333333333, 0.6, 0.6, 0.6, 0.6, 0.8, 0.6, 1.0, 1.0, 0.8, 0.5, 0.6, 0.8, 0.8, 0.6, 1.0, 1.0, 0.6, 0.8, 1.0, 1.0, 0.8, 0.8, 0.8, 0.8, 0.8, 0.8, 0.8, 0.8, 0.8, 0.8, 0.8, 0.8, 0.8, 0.8, 0.8, 0.8, 0.8, 0.8, 0.8, 0.8, 0.8, 0.8, 0.8, 0.8, 0.7, 0.8, 0.8, 0.6, 0.8, 0.9, 0.8, 0.6, 0.7, 0.9, 1.0, 0.8, 0.8, 0.8, 0.8, 0.8, 0.8, 0.8, 0.8, 0.8, 0.7, 0.8, 0.8, 0.8, 0.6, 0.8, 0.9, 0.8, 0.8, 1.0, 0.8, 0.7, 1.0, 0.8, 1.0, 0.8, 1.0, 1.0, 0.8, 0.8, 0.8, 0.8, 0.8, 0.9, 0.8, 0.9, 0.7, 0.7, 0.8, 0.8, 0.8, 0.8, 0.8, 0.7, 0.8, 1.0, 1.0, 1.0, 1.0, 1.0, 1.0, 0.9, 0.8, 1.0, 1.0, 0.8, 0.7, 0.8, 1.0, 1.0, 1.0, 0.8, 1.0, 0.8, 0.7, 0.8, 1.0, 0.8, 0.8, 1.0, 0.8, 0.8, 0.7, 0.8, 0.8, 0.8, 0.8, 0.8, 0.8, 1.0, 1.0, 0.8, 1.0, 0.8, 1.0, 1.0, 0.8, 0.7, 0.7, 1.0, 1.0, 1.0, 0.8, 1.0, 1.0, 1.0, 1.0, 1.0, 1.0, 1.0, 0.8, 0.8, 1.0, 0.9, 0.9, 1.0, 0.9, 1.0, 0.8, 0.8, 0.8, 1.0, 1.0, 0.8, 0.7, 0.8, 1.0, 0.8, 0.9, 1.0, 1.0, 1.0, 1.0, 1.0, 0.8, 1.0, 1.0, 1.0, 1.0, 1.0, 1.0, 1.0, 1.0, 1.0, 1.0, 1.0, 1.0, 0.9, 1.0, 1.0, 1.0, 1.0, 0.8, 1.0, 1.0, 1.0, 1.0, 1.0, 1.0, 1.0, 0.8, 1.0, 1.0, 0.8, 1.0, 1.0, 1.0, 1.0, 1.0, 1.0, 1.0, 0.9, 0.9, 1.0, 0.8, 0.8, 1.0, 0.8, 0.8, 0.8, 0.8, 1.0, 1.0, 1.0, 1.0, 1.0, 0.8, 0.8, 1.0, 0.8, 1.0, 0.7, 1.0, 1.0, 1.0, 1.0, 0.9, 1.0, 1.0, 1.0, 1.0, 0.8, 1.0, 1.0, 0.8, 0.8, 0.9, 1.0, 1.0, 0.8, 1.0, 1.0, 1.0, 1.0, 1.0, 1.0, 1.0, 0.8, 1.0, 1.0, 1.0, 1.0, 1.0, 1.0, 0.9, 0.8, 1.0, 1.0, 0.9]\n",
    "# f1_list = [0.5266666666666666, 0.6666666666666666, 0.7, 0.8666666666666666, 0.6666666666666666, 0.8666666666666666, 1.0, 0.8666666666666666, 0.8666666666666666, 0.76, 1.0, 1.0, 0.4533333333333333, 0.7333333333333333, 0.5599999999999999, 0.39333333333333337, 0.5599999999999999, 0.5599999999999999, 0.5599999999999999, 0.5599999999999999, 0.76, 0.5599999999999999, 1.0, 1.0, 0.76, 0.48, 0.5599999999999999, 0.76, 0.76, 0.5599999999999999, 1.0, 1.0, 0.5333333333333333, 0.76, 1.0, 1.0, 0.76, 0.76, 0.76, 0.76, 0.76, 0.76, 0.76, 0.76, 0.76, 0.76, 0.76, 0.76, 0.76, 0.76, 0.76, 0.76, 0.76, 0.76, 0.76, 0.76, 0.76, 0.76, 0.76, 0.76, 0.6333333333333333, 0.76, 0.76, 0.5333333333333333, 0.76, 0.8666666666666666, 0.76, 0.5333333333333333, 0.7, 0.8666666666666666, 1.0, 0.76, 0.76, 0.76, 0.76, 0.76, 0.76, 0.76, 0.76, 0.76, 0.6333333333333333, 0.76, 0.76, 0.76, 0.5333333333333333, 0.76, 0.8666666666666666, 0.76, 0.76, 1.0, 0.76, 0.6333333333333333, 1.0, 0.76, 1.0, 0.76, 1.0, 1.0, 0.76, 0.76, 0.76, 0.76, 0.76, 0.8666666666666666, 0.76, 0.8666666666666666, 0.7, 0.7, 0.76, 0.76, 0.76, 0.76, 0.76, 0.6333333333333333, 0.76, 1.0, 1.0, 1.0, 1.0, 1.0, 1.0, 0.9047619047619048, 0.76, 1.0, 1.0, 0.76, 0.6333333333333333, 0.76, 1.0, 1.0, 1.0, 0.76, 1.0, 0.76, 0.6333333333333333, 0.76, 1.0, 0.76, 0.76, 1.0, 0.76, 0.76, 0.6333333333333333, 0.76, 0.76, 0.76, 0.76, 0.76, 0.76, 1.0, 1.0, 0.76, 1.0, 0.76, 1.0, 1.0, 0.76, 0.6333333333333333, 0.6333333333333333, 1.0, 1.0, 1.0, 0.76, 1.0, 1.0, 1.0, 1.0, 1.0, 1.0, 1.0, 0.76, 0.76, 1.0, 0.8666666666666666, 0.8666666666666666, 1.0, 0.8666666666666666, 1.0, 0.76, 0.76, 0.76, 1.0, 1.0, 0.76, 0.6333333333333333, 0.76, 1.0, 0.76, 0.8666666666666666, 1.0, 1.0, 1.0, 1.0, 1.0, 0.76, 1.0, 1.0, 1.0, 1.0, 1.0, 1.0, 1.0, 1.0, 1.0, 1.0, 1.0, 1.0, 0.8666666666666666, 1.0, 1.0, 1.0, 1.0, 0.76, 1.0, 1.0, 1.0, 1.0, 1.0, 1.0, 1.0, 0.76, 1.0, 1.0, 0.7, 1.0, 1.0, 1.0, 1.0, 1.0, 1.0, 1.0, 0.8666666666666666, 0.8666666666666666, 1.0, 0.76, 0.76, 1.0, 0.76, 0.76, 0.76, 0.76, 1.0, 1.0, 1.0, 1.0, 1.0, 0.76, 0.76, 1.0, 0.76, 1.0, 0.6333333333333333, 1.0, 1.0, 1.0, 1.0, 0.8666666666666666, 1.0, 1.0, 1.0, 1.0, 0.76, 1.0, 1.0, 0.7, 0.76, 0.8666666666666666, 1.0, 1.0, 0.76, 1.0, 1.0, 1.0, 1.0, 1.0, 1.0, 1.0, 0.76, 1.0, 1.0, 1.0, 1.0, 1.0, 1.0, 0.8666666666666666, 0.76, 1.0, 1.0, 0.8666666666666666]"
   ]
  },
  {
   "cell_type": "code",
   "execution_count": 24,
   "id": "f65aaf01-2caf-4b36-9006-68e506e31e48",
   "metadata": {},
   "outputs": [],
   "source": [
    "# tps =[[1, 0, 2, 1, 1], [0, 1, 3, 1, 1], [1, 0, 3, 1, 1], [1, 1, 3, 1, 1], [1, 1, 3, 1, 0], [1, 1, 3, 1, 1], [2, 1, 3, 1, 1], [1, 1, 3, 1, 1], [1, 1, 3, 1, 1], [1, 1, 2, 1, 1], [2, 1, 3, 1, 1], [2, 1, 3, 1, 1], [2, 0, 2, 1, 0], [2, 1, 3, 1, 0], [2, 0, 3, 1, 0], [1, 0, 2, 1, 0], [2, 0, 3, 1, 0], [2, 0, 3, 1, 0], [2, 0, 3, 1, 0], [2, 0, 3, 1, 0], [2, 0, 3, 1, 1], [2, 0, 3, 1, 0], [2, 1, 3, 1, 1], [2, 1, 3, 1, 1], [2, 1, 3, 1, 0], [1, 0, 3, 1, 0], [2, 0, 3, 1, 0], [2, 1, 3, 1, 0], [2, 1, 3, 1, 0], [2, 0, 3, 1, 0], [2, 1, 3, 1, 1], [2, 1, 3, 1, 1], [2, 0, 3, 1, 0], [2, 0, 3, 1, 1], [2, 1, 3, 1, 1], [2, 1, 3, 1, 1], [2, 1, 3, 1, 0], [2, 1, 3, 1, 0], [2, 1, 3, 1, 0], [2, 1, 3, 1, 0], [2, 1, 3, 1, 0], [2, 1, 3, 1, 0], [2, 1, 3, 1, 0], [2, 1, 3, 1, 0], [2, 1, 3, 1, 0], [2, 1, 3, 1, 0], [2, 1, 3, 1, 0], [2, 1, 3, 1, 0], [2, 1, 3, 1, 0], [2, 1, 3, 1, 0], [2, 1, 3, 1, 0], [2, 1, 3, 1, 0], [2, 1, 3, 1, 0], [2, 1, 3, 1, 0], [2, 1, 3, 1, 0], [2, 1, 3, 1, 0], [2, 1, 3, 1, 0], [2, 1, 3, 1, 0], [2, 1, 3, 1, 0], [2, 1, 3, 1, 0], [1, 1, 3, 1, 0], [2, 1, 3, 1, 0], [2, 1, 3, 1, 0], [2, 0, 3, 1, 0], [2, 1, 3, 1, 0], [1, 1, 3, 1, 1], [2, 0, 3, 1, 1], [2, 0, 3, 1, 0], [1, 1, 3, 1, 0], [1, 1, 3, 1, 1], [2, 1, 3, 1, 1], [2, 1, 3, 1, 0], [2, 1, 3, 1, 0], [2, 1, 3, 1, 0], [2, 1, 3, 1, 0], [2, 1, 3, 1, 0], [2, 1, 3, 1, 0], [2, 1, 3, 1, 0], [2, 1, 3, 1, 0], [2, 1, 3, 1, 0], [1, 1, 3, 1, 0], [2, 1, 3, 1, 0], [2, 1, 3, 1, 0], [2, 1, 3, 1, 0], [2, 0, 3, 1, 0], [2, 1, 3, 1, 0], [1, 1, 3, 1, 1], [2, 1, 3, 1, 0], [2, 1, 3, 1, 0], [2, 1, 3, 1, 1], [2, 1, 3, 1, 0], [1, 1, 3, 1, 0], [2, 1, 3, 1, 1], [2, 1, 3, 1, 0], [2, 1, 3, 1, 1], [2, 1, 3, 1, 0], [2, 1, 3, 1, 1], [2, 1, 3, 1, 1], [2, 1, 3, 1, 0], [2, 1, 3, 1, 0], [2, 1, 3, 1, 0], [2, 1, 3, 1, 0], [2, 1, 3, 1, 0], [1, 1, 3, 1, 1], [2, 1, 3, 1, 0], [1, 1, 3, 1, 1], [1, 1, 3, 1, 0], [1, 1, 3, 1, 0], [2, 1, 3, 1, 0], [2, 1, 3, 1, 0], [2, 1, 3, 1, 0], [2, 1, 3, 1, 0], [2, 1, 3, 1, 0], [1, 1, 3, 1, 0], [2, 1, 3, 1, 0], [2, 1, 3, 1, 1], [2, 1, 3, 1, 1], [2, 1, 3, 1, 1], [2, 1, 3, 1, 1], [2, 1, 3, 1, 1], [2, 1, 3, 1, 1], [1, 1, 3, 1, 1], [2, 1, 3, 1, 0], [2, 1, 3, 1, 1], [2, 1, 3, 1, 1], [2, 1, 3, 1, 0], [1, 1, 3, 1, 0], [2, 1, 3, 1, 0], [2, 1, 3, 1, 1], [2, 1, 3, 1, 1], [2, 1, 3, 1, 1], [2, 1, 3, 1, 0], [2, 1, 3, 1, 1], [2, 1, 3, 1, 0], [1, 1, 3, 1, 0], [2, 1, 3, 1, 0], [2, 1, 3, 1, 1], [2, 1, 3, 1, 0], [2, 1, 3, 1, 0], [2, 1, 3, 1, 1], [2, 1, 3, 1, 0], [2, 1, 3, 1, 0], [1, 1, 3, 1, 0], [2, 1, 3, 1, 0], [2, 1, 3, 1, 0], [2, 1, 3, 1, 0], [2, 1, 3, 1, 0], [2, 1, 3, 1, 0], [2, 1, 3, 1, 0], [2, 1, 3, 1, 1], [2, 1, 3, 1, 1], [2, 1, 3, 1, 0], [2, 1, 3, 1, 1], [2, 1, 3, 1, 0], [2, 1, 3, 1, 1], [2, 1, 3, 1, 1], [2, 1, 3, 1, 0], [1, 1, 3, 1, 0], [1, 1, 3, 1, 0], [2, 1, 3, 1, 1], [2, 1, 3, 1, 1], [2, 1, 3, 1, 1], [2, 1, 3, 1, 0], [2, 1, 3, 1, 1], [2, 1, 3, 1, 1], [2, 1, 3, 1, 1], [2, 1, 3, 1, 1], [2, 1, 3, 1, 1], [2, 1, 3, 1, 1], [2, 1, 3, 1, 1], [2, 1, 3, 1, 0], [2, 1, 3, 1, 0], [2, 1, 3, 1, 1], [1, 1, 3, 1, 1], [1, 1, 3, 1, 1], [2, 1, 3, 1, 1], [1, 1, 3, 1, 1], [2, 1, 3, 1, 1], [2, 1, 3, 1, 0], [2, 1, 3, 1, 0], [2, 1, 3, 1, 0], [2, 1, 3, 1, 1], [2, 1, 3, 1, 1], [2, 1, 3, 1, 0], [1, 1, 3, 1, 0], [2, 1, 3, 1, 0], [2, 1, 3, 1, 1], [2, 1, 3, 1, 0], [1, 1, 3, 1, 1], [2, 1, 3, 1, 1], [2, 1, 3, 1, 1], [2, 1, 3, 1, 1], [2, 1, 3, 1, 1], [2, 1, 3, 1, 1], [2, 1, 3, 1, 0], [2, 1, 3, 1, 1], [2, 1, 3, 1, 1], [2, 1, 3, 1, 1], [2, 1, 3, 1, 1], [2, 1, 3, 1, 1], [2, 1, 3, 1, 1], [2, 1, 3, 1, 1], [2, 1, 3, 1, 1], [2, 1, 3, 1, 1], [2, 1, 3, 1, 1], [2, 1, 3, 1, 1], [2, 1, 3, 1, 1], [1, 1, 3, 1, 1], [2, 1, 3, 1, 1], [2, 1, 3, 1, 1], [2, 1, 3, 1, 1], [2, 1, 3, 1, 1], [2, 1, 3, 1, 0], [2, 1, 3, 1, 1], [2, 1, 3, 1, 1], [2, 1, 3, 1, 1], [2, 1, 3, 1, 1], [2, 1, 3, 1, 1], [2, 1, 3, 1, 1], [2, 1, 3, 1, 1], [2, 1, 3, 1, 0], [2, 1, 3, 1, 1], [2, 1, 3, 1, 1], [0, 1, 3, 1, 1], [2, 1, 3, 1, 1], [2, 1, 3, 1, 1], [2, 1, 3, 1, 1], [2, 1, 3, 1, 1], [2, 1, 3, 1, 1], [2, 1, 3, 1, 1], [2, 1, 3, 1, 1], [1, 1, 3, 1, 1], [1, 1, 3, 1, 1], [2, 1, 3, 1, 1], [2, 1, 3, 1, 0], [2, 1, 3, 1, 0], [2, 1, 3, 1, 1], [2, 1, 3, 1, 0], [2, 1, 3, 1, 0], [2, 1, 3, 1, 0], [2, 1, 3, 1, 0], [2, 1, 3, 1, 1], [2, 1, 3, 1, 1], [2, 1, 3, 1, 1], [2, 1, 3, 1, 1], [2, 1, 3, 1, 1], [2, 1, 3, 1, 0], [2, 1, 3, 1, 0], [2, 1, 3, 1, 1], [2, 1, 3, 1, 0], [2, 1, 3, 1, 1], [1, 1, 3, 1, 0], [2, 1, 3, 1, 1], [2, 1, 3, 1, 1], [2, 1, 3, 1, 1], [2, 1, 3, 1, 1], [1, 1, 3, 1, 1], [2, 1, 3, 1, 1], [2, 1, 3, 1, 1], [2, 1, 3, 1, 1], [2, 1, 3, 1, 1], [2, 1, 3, 1, 0], [2, 1, 3, 1, 1], [2, 1, 3, 1, 1], [0, 1, 3, 1, 1], [2, 1, 3, 1, 0], [1, 1, 3, 1, 1], [2, 1, 3, 1, 1], [2, 1, 3, 1, 1], [2, 1, 3, 1, 0], [2, 1, 3, 1, 1], [2, 1, 3, 1, 1], [2, 1, 3, 1, 1], [2, 1, 3, 1, 1], [2, 1, 3, 1, 1], [2, 1, 3, 1, 1], [2, 1, 3, 1, 1], [2, 1, 3, 1, 0], [2, 1, 3, 1, 1], [2, 1, 3, 1, 1], [2, 1, 3, 1, 1], [2, 1, 3, 1, 1], [2, 1, 3, 1, 1], [2, 1, 3, 1, 1], [1, 1, 3, 1, 1], [2, 1, 3, 1, 0], [2, 1, 3, 1, 1], [2, 1, 3, 1, 1], [1, 1, 3, 1, 1]]\n"
   ]
  },
  {
   "cell_type": "code",
   "execution_count": 25,
   "id": "1abaa615-3f0e-406f-816e-b6e6fe073908",
   "metadata": {},
   "outputs": [],
   "source": [
    "# tns = [[6, 7, 5, 6, 5], [6, 6, 5, 7, 6], [5, 6, 5, 7, 7], [6, 7, 5, 7, 6], [6, 6, 5, 7, 6], [6, 6, 5, 7, 7], [6, 7, 5, 7, 7], [6, 6, 5, 7, 7], [6, 6, 5, 7, 7], [6, 6, 5, 6, 7], [6, 7, 5, 7, 7], [6, 7, 5, 7, 7], [5, 6, 5, 6, 7], [6, 6, 5, 7, 7], [5, 6, 5, 7, 7], [5, 5, 5, 6, 7], [5, 6, 5, 7, 7], [5, 6, 5, 7, 7], [5, 6, 5, 7, 7], [5, 6, 5, 7, 7], [5, 7, 5, 7, 7], [5, 6, 5, 7, 7], [6, 7, 5, 7, 7], [6, 7, 5, 7, 7], [5, 7, 5, 7, 7], [4, 7, 5, 7, 6], [5, 6, 5, 7, 7], [5, 7, 5, 7, 7], [5, 7, 5, 7, 7], [5, 6, 5, 7, 7], [6, 7, 5, 7, 7], [6, 7, 5, 7, 7], [4, 7, 5, 7, 7], [5, 7, 5, 7, 7], [6, 7, 5, 7, 7], [6, 7, 5, 7, 7], [5, 7, 5, 7, 7], [5, 7, 5, 7, 7], [5, 7, 5, 7, 7], [5, 7, 5, 7, 7], [5, 7, 5, 7, 7], [5, 7, 5, 7, 7], [5, 7, 5, 7, 7], [5, 7, 5, 7, 7], [5, 7, 5, 7, 7], [5, 7, 5, 7, 7], [5, 7, 5, 7, 7], [5, 7, 5, 7, 7], [5, 7, 5, 7, 7], [5, 7, 5, 7, 7], [5, 7, 5, 7, 7], [5, 7, 5, 7, 7], [5, 7, 5, 7, 7], [5, 7, 5, 7, 7], [5, 7, 5, 7, 7], [5, 7, 5, 7, 7], [5, 7, 5, 7, 7], [5, 7, 5, 7, 7], [5, 7, 5, 7, 7], [5, 7, 5, 7, 7], [5, 6, 5, 7, 7], [5, 7, 5, 7, 7], [5, 7, 5, 7, 7], [4, 7, 5, 7, 7], [5, 7, 5, 7, 7], [6, 7, 5, 7, 6], [5, 7, 5, 7, 7], [4, 7, 5, 7, 7], [5, 7, 5, 7, 6], [6, 6, 5, 7, 7], [6, 7, 5, 7, 7], [5, 7, 5, 7, 7], [5, 7, 5, 7, 7], [5, 7, 5, 7, 7], [5, 7, 5, 7, 7], [5, 7, 5, 7, 7], [5, 7, 5, 7, 7], [5, 7, 5, 7, 7], [5, 7, 5, 7, 7], [5, 7, 5, 7, 7], [5, 6, 5, 7, 7], [5, 7, 5, 7, 7], [5, 7, 5, 7, 7], [5, 7, 5, 7, 7], [4, 7, 5, 7, 7], [5, 7, 5, 7, 7], [6, 7, 5, 7, 6], [5, 7, 5, 7, 7], [5, 7, 5, 7, 7], [6, 7, 5, 7, 7], [5, 7, 5, 7, 7], [5, 6, 5, 7, 7], [6, 7, 5, 7, 7], [5, 7, 5, 7, 7], [6, 7, 5, 7, 7], [5, 7, 5, 7, 7], [6, 7, 5, 7, 7], [6, 7, 5, 7, 7], [5, 7, 5, 7, 7], [5, 7, 5, 7, 7], [5, 7, 5, 7, 7], [5, 7, 5, 7, 7], [5, 7, 5, 7, 7], [6, 7, 5, 7, 6], [5, 7, 5, 7, 7], [6, 6, 5, 7, 7], [5, 7, 5, 7, 6], [5, 7, 5, 7, 6], [5, 7, 5, 7, 7], [5, 7, 5, 7, 7], [5, 7, 5, 7, 7], [5, 7, 5, 7, 7], [5, 7, 5, 7, 7], [5, 7, 5, 6, 7], [5, 7, 5, 7, 7], [6, 7, 5, 7, 7], [6, 7, 5, 7, 7], [6, 7, 5, 7, 7], [6, 7, 5, 7, 7], [6, 7, 5, 7, 7], [6, 7, 5, 7, 7], [6, 7, 4, 7, 7], [5, 7, 5, 7, 7], [6, 7, 5, 7, 7], [6, 7, 5, 7, 7], [5, 7, 5, 7, 7], [5, 6, 5, 7, 7], [5, 7, 5, 7, 7], [6, 7, 5, 7, 7], [6, 7, 5, 7, 7], [6, 7, 5, 7, 7], [5, 7, 5, 7, 7], [6, 7, 5, 7, 7], [5, 7, 5, 7, 7], [5, 6, 5, 7, 7], [5, 7, 5, 7, 7], [6, 7, 5, 7, 7], [5, 7, 5, 7, 7], [5, 7, 5, 7, 7], [6, 7, 5, 7, 7], [5, 7, 5, 7, 7], [5, 7, 5, 7, 7], [5, 6, 5, 7, 7], [5, 7, 5, 7, 7], [5, 7, 5, 7, 7], [5, 7, 5, 7, 7], [5, 7, 5, 7, 7], [5, 7, 5, 7, 7], [5, 7, 5, 7, 7], [6, 7, 5, 7, 7], [6, 7, 5, 7, 7], [5, 7, 5, 7, 7], [6, 7, 5, 7, 7], [5, 7, 5, 7, 7], [6, 7, 5, 7, 7], [6, 7, 5, 7, 7], [5, 7, 5, 7, 7], [5, 6, 5, 7, 7], [5, 6, 5, 7, 7], [6, 7, 5, 7, 7], [6, 7, 5, 7, 7], [6, 7, 5, 7, 7], [5, 7, 5, 7, 7], [6, 7, 5, 7, 7], [6, 7, 5, 7, 7], [6, 7, 5, 7, 7], [6, 7, 5, 7, 7], [6, 7, 5, 7, 7], [6, 7, 5, 7, 7], [6, 7, 5, 7, 7], [5, 7, 5, 7, 7], [5, 7, 5, 7, 7], [6, 7, 5, 7, 7], [6, 6, 5, 7, 7], [6, 6, 5, 7, 7], [6, 7, 5, 7, 7], [6, 6, 5, 7, 7], [6, 7, 5, 7, 7], [5, 7, 5, 7, 7], [5, 7, 5, 7, 7], [5, 7, 5, 7, 7], [6, 7, 5, 7, 7], [6, 7, 5, 7, 7], [5, 7, 5, 7, 7], [5, 6, 5, 7, 7], [5, 7, 5, 7, 7], [6, 7, 5, 7, 7], [5, 7, 5, 7, 7], [6, 6, 5, 7, 7], [6, 7, 5, 7, 7], [6, 7, 5, 7, 7], [6, 7, 5, 7, 7], [6, 7, 5, 7, 7], [6, 7, 5, 7, 7], [5, 7, 5, 7, 7], [6, 7, 5, 7, 7], [6, 7, 5, 7, 7], [6, 7, 5, 7, 7], [6, 7, 5, 7, 7], [6, 7, 5, 7, 7], [6, 7, 5, 7, 7], [6, 7, 5, 7, 7], [6, 7, 5, 7, 7], [6, 7, 5, 7, 7], [6, 7, 5, 7, 7], [6, 7, 5, 7, 7], [6, 7, 5, 7, 7], [6, 6, 5, 7, 7], [6, 7, 5, 7, 7], [6, 7, 5, 7, 7], [6, 7, 5, 7, 7], [6, 7, 5, 7, 7], [5, 7, 5, 7, 7], [6, 7, 5, 7, 7], [6, 7, 5, 7, 7], [6, 7, 5, 7, 7], [6, 7, 5, 7, 7], [6, 7, 5, 7, 7], [6, 7, 5, 7, 7], [6, 7, 5, 7, 7], [5, 7, 5, 7, 7], [6, 7, 5, 7, 7], [6, 7, 5, 7, 7], [6, 5, 5, 7, 7], [6, 7, 5, 7, 7], [6, 7, 5, 7, 7], [6, 7, 5, 7, 7], [6, 7, 5, 7, 7], [6, 7, 5, 7, 7], [6, 7, 5, 7, 7], [6, 7, 5, 7, 7], [6, 6, 5, 7, 7], [6, 6, 5, 7, 7], [6, 7, 5, 7, 7], [5, 7, 5, 7, 7], [5, 7, 5, 7, 7], [6, 7, 5, 7, 7], [5, 7, 5, 7, 7], [5, 7, 5, 7, 7], [5, 7, 5, 7, 7], [5, 7, 5, 7, 7], [6, 7, 5, 7, 7], [6, 7, 5, 7, 7], [6, 7, 5, 7, 7], [6, 7, 5, 7, 7], [6, 7, 5, 7, 7], [5, 7, 5, 7, 7], [5, 7, 5, 7, 7], [6, 7, 5, 7, 7], [5, 7, 5, 7, 7], [6, 7, 5, 7, 7], [5, 6, 5, 7, 7], [6, 7, 5, 7, 7], [6, 7, 5, 7, 7], [6, 7, 5, 7, 7], [6, 7, 5, 7, 7], [6, 6, 5, 7, 7], [6, 7, 5, 7, 7], [6, 7, 5, 7, 7], [6, 7, 5, 7, 7], [6, 7, 5, 7, 7], [5, 7, 5, 7, 7], [6, 7, 5, 7, 7], [6, 7, 5, 7, 7], [6, 5, 5, 7, 7], [5, 7, 5, 7, 7], [6, 6, 5, 7, 7], [6, 7, 5, 7, 7], [6, 7, 5, 7, 7], [5, 7, 5, 7, 7], [6, 7, 5, 7, 7], [6, 7, 5, 7, 7], [6, 7, 5, 7, 7], [6, 7, 5, 7, 7], [6, 7, 5, 7, 7], [6, 7, 5, 7, 7], [6, 7, 5, 7, 7], [5, 7, 5, 7, 7], [6, 7, 5, 7, 7], [6, 7, 5, 7, 7], [6, 7, 5, 7, 7], [6, 7, 5, 7, 7], [6, 7, 5, 7, 7], [6, 7, 5, 7, 7], [6, 6, 5, 7, 7], [5, 7, 5, 7, 7], [6, 7, 5, 7, 7], [6, 7, 5, 7, 7], [6, 6, 5, 7, 7]]"
   ]
  },
  {
   "cell_type": "code",
   "execution_count": 26,
   "id": "afdb42dd-7018-43f5-8a00-ac2899b68283",
   "metadata": {},
   "outputs": [],
   "source": [
    "# fps= [[0, 0, 0, 1, 2], [0, 1, 0, 0, 1], [1, 1, 0, 0, 0], [0, 0, 0, 0, 1], [0, 1, 0, 0, 1], [0, 1, 0, 0, 0], [0, 0, 0, 0, 0], [0, 1, 0, 0, 0], [0, 1, 0, 0, 0], [0, 1, 0, 1, 0], [0, 0, 0, 0, 0], [0, 0, 0, 0, 0], [1, 1, 0, 1, 0], [0, 1, 0, 0, 0], [1, 1, 0, 0, 0], [1, 2, 0, 1, 0], [1, 1, 0, 0, 0], [1, 1, 0, 0, 0], [1, 1, 0, 0, 0], [1, 1, 0, 0, 0], [1, 0, 0, 0, 0], [1, 1, 0, 0, 0], [0, 0, 0, 0, 0], [0, 0, 0, 0, 0], [1, 0, 0, 0, 0], [2, 0, 0, 0, 1], [1, 1, 0, 0, 0], [1, 0, 0, 0, 0], [1, 0, 0, 0, 0], [1, 1, 0, 0, 0], [0, 0, 0, 0, 0], [0, 0, 0, 0, 0], [2, 0, 0, 0, 0], [1, 0, 0, 0, 0], [0, 0, 0, 0, 0], [0, 0, 0, 0, 0], [1, 0, 0, 0, 0], [1, 0, 0, 0, 0], [1, 0, 0, 0, 0], [1, 0, 0, 0, 0], [1, 0, 0, 0, 0], [1, 0, 0, 0, 0], [1, 0, 0, 0, 0], [1, 0, 0, 0, 0], [1, 0, 0, 0, 0], [1, 0, 0, 0, 0], [1, 0, 0, 0, 0], [1, 0, 0, 0, 0], [1, 0, 0, 0, 0], [1, 0, 0, 0, 0], [1, 0, 0, 0, 0], [1, 0, 0, 0, 0], [1, 0, 0, 0, 0], [1, 0, 0, 0, 0], [1, 0, 0, 0, 0], [1, 0, 0, 0, 0], [1, 0, 0, 0, 0], [1, 0, 0, 0, 0], [1, 0, 0, 0, 0], [1, 0, 0, 0, 0], [1, 1, 0, 0, 0], [1, 0, 0, 0, 0], [1, 0, 0, 0, 0], [2, 0, 0, 0, 0], [1, 0, 0, 0, 0], [0, 0, 0, 0, 1], [1, 0, 0, 0, 0], [2, 0, 0, 0, 0], [1, 0, 0, 0, 1], [0, 1, 0, 0, 0], [0, 0, 0, 0, 0], [1, 0, 0, 0, 0], [1, 0, 0, 0, 0], [1, 0, 0, 0, 0], [1, 0, 0, 0, 0], [1, 0, 0, 0, 0], [1, 0, 0, 0, 0], [1, 0, 0, 0, 0], [1, 0, 0, 0, 0], [1, 0, 0, 0, 0], [1, 1, 0, 0, 0], [1, 0, 0, 0, 0], [1, 0, 0, 0, 0], [1, 0, 0, 0, 0], [2, 0, 0, 0, 0], [1, 0, 0, 0, 0], [0, 0, 0, 0, 1], [1, 0, 0, 0, 0], [1, 0, 0, 0, 0], [0, 0, 0, 0, 0], [1, 0, 0, 0, 0], [1, 1, 0, 0, 0], [0, 0, 0, 0, 0], [1, 0, 0, 0, 0], [0, 0, 0, 0, 0], [1, 0, 0, 0, 0], [0, 0, 0, 0, 0], [0, 0, 0, 0, 0], [1, 0, 0, 0, 0], [1, 0, 0, 0, 0], [1, 0, 0, 0, 0], [1, 0, 0, 0, 0], [1, 0, 0, 0, 0], [0, 0, 0, 0, 1], [1, 0, 0, 0, 0], [0, 1, 0, 0, 0], [1, 0, 0, 0, 1], [1, 0, 0, 0, 1], [1, 0, 0, 0, 0], [1, 0, 0, 0, 0], [1, 0, 0, 0, 0], [1, 0, 0, 0, 0], [1, 0, 0, 0, 0], [1, 0, 0, 1, 0], [1, 0, 0, 0, 0], [0, 0, 0, 0, 0], [0, 0, 0, 0, 0], [0, 0, 0, 0, 0], [0, 0, 0, 0, 0], [0, 0, 0, 0, 0], [0, 0, 0, 0, 0], [0, 0, 1, 0, 0], [1, 0, 0, 0, 0], [0, 0, 0, 0, 0], [0, 0, 0, 0, 0], [1, 0, 0, 0, 0], [1, 1, 0, 0, 0], [1, 0, 0, 0, 0], [0, 0, 0, 0, 0], [0, 0, 0, 0, 0], [0, 0, 0, 0, 0], [1, 0, 0, 0, 0], [0, 0, 0, 0, 0], [1, 0, 0, 0, 0], [1, 1, 0, 0, 0], [1, 0, 0, 0, 0], [0, 0, 0, 0, 0], [1, 0, 0, 0, 0], [1, 0, 0, 0, 0], [0, 0, 0, 0, 0], [1, 0, 0, 0, 0], [1, 0, 0, 0, 0], [1, 1, 0, 0, 0], [1, 0, 0, 0, 0], [1, 0, 0, 0, 0], [1, 0, 0, 0, 0], [1, 0, 0, 0, 0], [1, 0, 0, 0, 0], [1, 0, 0, 0, 0], [0, 0, 0, 0, 0], [0, 0, 0, 0, 0], [1, 0, 0, 0, 0], [0, 0, 0, 0, 0], [1, 0, 0, 0, 0], [0, 0, 0, 0, 0], [0, 0, 0, 0, 0], [1, 0, 0, 0, 0], [1, 1, 0, 0, 0], [1, 1, 0, 0, 0], [0, 0, 0, 0, 0], [0, 0, 0, 0, 0], [0, 0, 0, 0, 0], [1, 0, 0, 0, 0], [0, 0, 0, 0, 0], [0, 0, 0, 0, 0], [0, 0, 0, 0, 0], [0, 0, 0, 0, 0], [0, 0, 0, 0, 0], [0, 0, 0, 0, 0], [0, 0, 0, 0, 0], [1, 0, 0, 0, 0], [1, 0, 0, 0, 0], [0, 0, 0, 0, 0], [0, 1, 0, 0, 0], [0, 1, 0, 0, 0], [0, 0, 0, 0, 0], [0, 1, 0, 0, 0], [0, 0, 0, 0, 0], [1, 0, 0, 0, 0], [1, 0, 0, 0, 0], [1, 0, 0, 0, 0], [0, 0, 0, 0, 0], [0, 0, 0, 0, 0], [1, 0, 0, 0, 0], [1, 1, 0, 0, 0], [1, 0, 0, 0, 0], [0, 0, 0, 0, 0], [1, 0, 0, 0, 0], [0, 1, 0, 0, 0], [0, 0, 0, 0, 0], [0, 0, 0, 0, 0], [0, 0, 0, 0, 0], [0, 0, 0, 0, 0], [0, 0, 0, 0, 0], [1, 0, 0, 0, 0], [0, 0, 0, 0, 0], [0, 0, 0, 0, 0], [0, 0, 0, 0, 0], [0, 0, 0, 0, 0], [0, 0, 0, 0, 0], [0, 0, 0, 0, 0], [0, 0, 0, 0, 0], [0, 0, 0, 0, 0], [0, 0, 0, 0, 0], [0, 0, 0, 0, 0], [0, 0, 0, 0, 0], [0, 0, 0, 0, 0], [0, 1, 0, 0, 0], [0, 0, 0, 0, 0], [0, 0, 0, 0, 0], [0, 0, 0, 0, 0], [0, 0, 0, 0, 0], [1, 0, 0, 0, 0], [0, 0, 0, 0, 0], [0, 0, 0, 0, 0], [0, 0, 0, 0, 0], [0, 0, 0, 0, 0], [0, 0, 0, 0, 0], [0, 0, 0, 0, 0], [0, 0, 0, 0, 0], [1, 0, 0, 0, 0], [0, 0, 0, 0, 0], [0, 0, 0, 0, 0], [0, 2, 0, 0, 0], [0, 0, 0, 0, 0], [0, 0, 0, 0, 0], [0, 0, 0, 0, 0], [0, 0, 0, 0, 0], [0, 0, 0, 0, 0], [0, 0, 0, 0, 0], [0, 0, 0, 0, 0], [0, 1, 0, 0, 0], [0, 1, 0, 0, 0], [0, 0, 0, 0, 0], [1, 0, 0, 0, 0], [1, 0, 0, 0, 0], [0, 0, 0, 0, 0], [1, 0, 0, 0, 0], [1, 0, 0, 0, 0], [1, 0, 0, 0, 0], [1, 0, 0, 0, 0], [0, 0, 0, 0, 0], [0, 0, 0, 0, 0], [0, 0, 0, 0, 0], [0, 0, 0, 0, 0], [0, 0, 0, 0, 0], [1, 0, 0, 0, 0], [1, 0, 0, 0, 0], [0, 0, 0, 0, 0], [1, 0, 0, 0, 0], [0, 0, 0, 0, 0], [1, 1, 0, 0, 0], [0, 0, 0, 0, 0], [0, 0, 0, 0, 0], [0, 0, 0, 0, 0], [0, 0, 0, 0, 0], [0, 1, 0, 0, 0], [0, 0, 0, 0, 0], [0, 0, 0, 0, 0], [0, 0, 0, 0, 0], [0, 0, 0, 0, 0], [1, 0, 0, 0, 0], [0, 0, 0, 0, 0], [0, 0, 0, 0, 0], [0, 2, 0, 0, 0], [1, 0, 0, 0, 0], [0, 1, 0, 0, 0], [0, 0, 0, 0, 0], [0, 0, 0, 0, 0], [1, 0, 0, 0, 0], [0, 0, 0, 0, 0], [0, 0, 0, 0, 0], [0, 0, 0, 0, 0], [0, 0, 0, 0, 0], [0, 0, 0, 0, 0], [0, 0, 0, 0, 0], [0, 0, 0, 0, 0], [1, 0, 0, 0, 0], [0, 0, 0, 0, 0], [0, 0, 0, 0, 0], [0, 0, 0, 0, 0], [0, 0, 0, 0, 0], [0, 0, 0, 0, 0], [0, 0, 0, 0, 0], [0, 1, 0, 0, 0], [1, 0, 0, 0, 0], [0, 0, 0, 0, 0], [0, 0, 0, 0, 0], [0, 1, 0, 0, 0]]\n"
   ]
  },
  {
   "cell_type": "code",
   "execution_count": 27,
   "id": "10ec0850-8307-46d0-b036-dff7afddb34f",
   "metadata": {},
   "outputs": [],
   "source": [
    "# fns = [[1, 1, 1, 0, 0], [2, 0, 0, 0, 0], [1, 1, 0, 0, 0], [1, 0, 0, 0, 0], [1, 0, 0, 0, 1], [1, 0, 0, 0, 0], [0, 0, 0, 0, 0], [1, 0, 0, 0, 0], [1, 0, 0, 0, 0], [1, 0, 1, 0, 0], [0, 0, 0, 0, 0], [0, 0, 0, 0, 0], [0, 1, 1, 0, 1], [0, 0, 0, 0, 1], [0, 1, 0, 0, 1], [1, 1, 1, 0, 1], [0, 1, 0, 0, 1], [0, 1, 0, 0, 1], [0, 1, 0, 0, 1], [0, 1, 0, 0, 1], [0, 1, 0, 0, 0], [0, 1, 0, 0, 1], [0, 0, 0, 0, 0], [0, 0, 0, 0, 0], [0, 0, 0, 0, 1], [1, 1, 0, 0, 1], [0, 1, 0, 0, 1], [0, 0, 0, 0, 1], [0, 0, 0, 0, 1], [0, 1, 0, 0, 1], [0, 0, 0, 0, 0], [0, 0, 0, 0, 0], [0, 1, 0, 0, 1], [0, 1, 0, 0, 0], [0, 0, 0, 0, 0], [0, 0, 0, 0, 0], [0, 0, 0, 0, 1], [0, 0, 0, 0, 1], [0, 0, 0, 0, 1], [0, 0, 0, 0, 1], [0, 0, 0, 0, 1], [0, 0, 0, 0, 1], [0, 0, 0, 0, 1], [0, 0, 0, 0, 1], [0, 0, 0, 0, 1], [0, 0, 0, 0, 1], [0, 0, 0, 0, 1], [0, 0, 0, 0, 1], [0, 0, 0, 0, 1], [0, 0, 0, 0, 1], [0, 0, 0, 0, 1], [0, 0, 0, 0, 1], [0, 0, 0, 0, 1], [0, 0, 0, 0, 1], [0, 0, 0, 0, 1], [0, 0, 0, 0, 1], [0, 0, 0, 0, 1], [0, 0, 0, 0, 1], [0, 0, 0, 0, 1], [0, 0, 0, 0, 1], [1, 0, 0, 0, 1], [0, 0, 0, 0, 1], [0, 0, 0, 0, 1], [0, 1, 0, 0, 1], [0, 0, 0, 0, 1], [1, 0, 0, 0, 0], [0, 1, 0, 0, 0], [0, 1, 0, 0, 1], [1, 0, 0, 0, 1], [1, 0, 0, 0, 0], [0, 0, 0, 0, 0], [0, 0, 0, 0, 1], [0, 0, 0, 0, 1], [0, 0, 0, 0, 1], [0, 0, 0, 0, 1], [0, 0, 0, 0, 1], [0, 0, 0, 0, 1], [0, 0, 0, 0, 1], [0, 0, 0, 0, 1], [0, 0, 0, 0, 1], [1, 0, 0, 0, 1], [0, 0, 0, 0, 1], [0, 0, 0, 0, 1], [0, 0, 0, 0, 1], [0, 1, 0, 0, 1], [0, 0, 0, 0, 1], [1, 0, 0, 0, 0], [0, 0, 0, 0, 1], [0, 0, 0, 0, 1], [0, 0, 0, 0, 0], [0, 0, 0, 0, 1], [1, 0, 0, 0, 1], [0, 0, 0, 0, 0], [0, 0, 0, 0, 1], [0, 0, 0, 0, 0], [0, 0, 0, 0, 1], [0, 0, 0, 0, 0], [0, 0, 0, 0, 0], [0, 0, 0, 0, 1], [0, 0, 0, 0, 1], [0, 0, 0, 0, 1], [0, 0, 0, 0, 1], [0, 0, 0, 0, 1], [1, 0, 0, 0, 0], [0, 0, 0, 0, 1], [1, 0, 0, 0, 0], [1, 0, 0, 0, 1], [1, 0, 0, 0, 1], [0, 0, 0, 0, 1], [0, 0, 0, 0, 1], [0, 0, 0, 0, 1], [0, 0, 0, 0, 1], [0, 0, 0, 0, 1], [1, 0, 0, 0, 1], [0, 0, 0, 0, 1], [0, 0, 0, 0, 0], [0, 0, 0, 0, 0], [0, 0, 0, 0, 0], [0, 0, 0, 0, 0], [0, 0, 0, 0, 0], [0, 0, 0, 0, 0], [1, 0, 0, 0, 0], [0, 0, 0, 0, 1], [0, 0, 0, 0, 0], [0, 0, 0, 0, 0], [0, 0, 0, 0, 1], [1, 0, 0, 0, 1], [0, 0, 0, 0, 1], [0, 0, 0, 0, 0], [0, 0, 0, 0, 0], [0, 0, 0, 0, 0], [0, 0, 0, 0, 1], [0, 0, 0, 0, 0], [0, 0, 0, 0, 1], [1, 0, 0, 0, 1], [0, 0, 0, 0, 1], [0, 0, 0, 0, 0], [0, 0, 0, 0, 1], [0, 0, 0, 0, 1], [0, 0, 0, 0, 0], [0, 0, 0, 0, 1], [0, 0, 0, 0, 1], [1, 0, 0, 0, 1], [0, 0, 0, 0, 1], [0, 0, 0, 0, 1], [0, 0, 0, 0, 1], [0, 0, 0, 0, 1], [0, 0, 0, 0, 1], [0, 0, 0, 0, 1], [0, 0, 0, 0, 0], [0, 0, 0, 0, 0], [0, 0, 0, 0, 1], [0, 0, 0, 0, 0], [0, 0, 0, 0, 1], [0, 0, 0, 0, 0], [0, 0, 0, 0, 0], [0, 0, 0, 0, 1], [1, 0, 0, 0, 1], [1, 0, 0, 0, 1], [0, 0, 0, 0, 0], [0, 0, 0, 0, 0], [0, 0, 0, 0, 0], [0, 0, 0, 0, 1], [0, 0, 0, 0, 0], [0, 0, 0, 0, 0], [0, 0, 0, 0, 0], [0, 0, 0, 0, 0], [0, 0, 0, 0, 0], [0, 0, 0, 0, 0], [0, 0, 0, 0, 0], [0, 0, 0, 0, 1], [0, 0, 0, 0, 1], [0, 0, 0, 0, 0], [1, 0, 0, 0, 0], [1, 0, 0, 0, 0], [0, 0, 0, 0, 0], [1, 0, 0, 0, 0], [0, 0, 0, 0, 0], [0, 0, 0, 0, 1], [0, 0, 0, 0, 1], [0, 0, 0, 0, 1], [0, 0, 0, 0, 0], [0, 0, 0, 0, 0], [0, 0, 0, 0, 1], [1, 0, 0, 0, 1], [0, 0, 0, 0, 1], [0, 0, 0, 0, 0], [0, 0, 0, 0, 1], [1, 0, 0, 0, 0], [0, 0, 0, 0, 0], [0, 0, 0, 0, 0], [0, 0, 0, 0, 0], [0, 0, 0, 0, 0], [0, 0, 0, 0, 0], [0, 0, 0, 0, 1], [0, 0, 0, 0, 0], [0, 0, 0, 0, 0], [0, 0, 0, 0, 0], [0, 0, 0, 0, 0], [0, 0, 0, 0, 0], [0, 0, 0, 0, 0], [0, 0, 0, 0, 0], [0, 0, 0, 0, 0], [0, 0, 0, 0, 0], [0, 0, 0, 0, 0], [0, 0, 0, 0, 0], [0, 0, 0, 0, 0], [1, 0, 0, 0, 0], [0, 0, 0, 0, 0], [0, 0, 0, 0, 0], [0, 0, 0, 0, 0], [0, 0, 0, 0, 0], [0, 0, 0, 0, 1], [0, 0, 0, 0, 0], [0, 0, 0, 0, 0], [0, 0, 0, 0, 0], [0, 0, 0, 0, 0], [0, 0, 0, 0, 0], [0, 0, 0, 0, 0], [0, 0, 0, 0, 0], [0, 0, 0, 0, 1], [0, 0, 0, 0, 0], [0, 0, 0, 0, 0], [2, 0, 0, 0, 0], [0, 0, 0, 0, 0], [0, 0, 0, 0, 0], [0, 0, 0, 0, 0], [0, 0, 0, 0, 0], [0, 0, 0, 0, 0], [0, 0, 0, 0, 0], [0, 0, 0, 0, 0], [1, 0, 0, 0, 0], [1, 0, 0, 0, 0], [0, 0, 0, 0, 0], [0, 0, 0, 0, 1], [0, 0, 0, 0, 1], [0, 0, 0, 0, 0], [0, 0, 0, 0, 1], [0, 0, 0, 0, 1], [0, 0, 0, 0, 1], [0, 0, 0, 0, 1], [0, 0, 0, 0, 0], [0, 0, 0, 0, 0], [0, 0, 0, 0, 0], [0, 0, 0, 0, 0], [0, 0, 0, 0, 0], [0, 0, 0, 0, 1], [0, 0, 0, 0, 1], [0, 0, 0, 0, 0], [0, 0, 0, 0, 1], [0, 0, 0, 0, 0], [1, 0, 0, 0, 1], [0, 0, 0, 0, 0], [0, 0, 0, 0, 0], [0, 0, 0, 0, 0], [0, 0, 0, 0, 0], [1, 0, 0, 0, 0], [0, 0, 0, 0, 0], [0, 0, 0, 0, 0], [0, 0, 0, 0, 0], [0, 0, 0, 0, 0], [0, 0, 0, 0, 1], [0, 0, 0, 0, 0], [0, 0, 0, 0, 0], [2, 0, 0, 0, 0], [0, 0, 0, 0, 1], [1, 0, 0, 0, 0], [0, 0, 0, 0, 0], [0, 0, 0, 0, 0], [0, 0, 0, 0, 1], [0, 0, 0, 0, 0], [0, 0, 0, 0, 0], [0, 0, 0, 0, 0], [0, 0, 0, 0, 0], [0, 0, 0, 0, 0], [0, 0, 0, 0, 0], [0, 0, 0, 0, 0], [0, 0, 0, 0, 1], [0, 0, 0, 0, 0], [0, 0, 0, 0, 0], [0, 0, 0, 0, 0], [0, 0, 0, 0, 0], [0, 0, 0, 0, 0], [0, 0, 0, 0, 0], [1, 0, 0, 0, 0], [0, 0, 0, 0, 1], [0, 0, 0, 0, 0], [0, 0, 0, 0, 0], [1, 0, 0, 0, 0]]"
   ]
  },
  {
   "cell_type": "code",
   "execution_count": 28,
   "id": "12ec05ed-66c7-401c-b27c-7c98c449fdc2",
   "metadata": {},
   "outputs": [],
   "source": [
    "# plot_metric(accuracy_list, 'Accuracy', model=model_name, save=save_, show=show_, output=\"output/tl\")\n",
    "# plot_metric(precision_list, 'Precision', model=model_name, save=save_, show=show_,output=\"output/tl\")\n",
    "# plot_metric(recall_list, 'Recall', model=model_name, save=save_, show=show_,output=\"output/tl\")\n",
    "# plot_metric(f1_list, 'F1 Score', model=model_name, save=save_, show=show_,output=\"output/tl\")\n",
    "# for time in [1, 20, 40, 60, 80, 100, 120, 140, 160, 180, 200, 220, 240, 260, 280, 289]: \n",
    "# # for time in [1, 3, 5]: \n",
    "#     plot_confusion_matrix(tps, tns, fps, fns, time, save=save, show=show,output=f\"./output/tl/{model_name}\")"
   ]
  },
  {
   "cell_type": "code",
   "execution_count": 29,
   "id": "32a4408e",
   "metadata": {},
   "outputs": [],
   "source": [
    "# for timestamp in range(1, 2):\n",
    "# # for timestamp in range(1, 10):\n",
    "#     print(\"timestamp: \", timestamp)\n",
    "#     dataloaders = get_dataloaders(timestamp)\n",
    "#     print(len(dataloaders['train'].dataset))\n",
    "#     print(len(dataloaders['val'].dataset))\n",
    "#     print(len(dataloaders['test'].dataset))"
   ]
  },
  {
   "cell_type": "code",
   "execution_count": null,
   "id": "e867a91d",
   "metadata": {},
   "outputs": [],
   "source": []
  }
 ],
 "metadata": {
  "kernelspec": {
   "display_name": "Python 3 (ipykernel)",
   "language": "python",
   "name": "python3"
  },
  "language_info": {
   "codemirror_mode": {
    "name": "ipython",
    "version": 3
   },
   "file_extension": ".py",
   "mimetype": "text/x-python",
   "name": "python",
   "nbconvert_exporter": "python",
   "pygments_lexer": "ipython3",
   "version": "3.8.16"
  }
 },
 "nbformat": 4,
 "nbformat_minor": 5
}
