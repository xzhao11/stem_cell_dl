{
 "cells": [
  {
   "cell_type": "code",
   "execution_count": 13,
   "id": "9cbf54da-bbfc-4e78-922e-b71dd09ed57a",
   "metadata": {},
   "outputs": [],
   "source": [
    "import numpy as np\n",
    "import os\n",
    "import tifffile\n",
    "import cv2\n",
    "from os.path import join, isfile, exists"
   ]
  },
  {
   "cell_type": "code",
   "execution_count": 16,
   "id": "59497c55-9204-4666-99fb-5f7fe7bf56d1",
   "metadata": {},
   "outputs": [
    {
     "name": "stderr",
     "output_type": "stream",
     "text": [
      "TiffPage 0: TypeError: read_bytes() missing 3 required positional arguments: 'dtype', 'count', and 'offsetsize'\n",
      "TiffPage 0: TypeError: read_bytes() missing 3 required positional arguments: 'dtype', 'count', and 'offsetsize'\n",
      "TiffPage 0: TypeError: read_bytes() missing 3 required positional arguments: 'dtype', 'count', and 'offsetsize'\n",
      "TiffPage 0: TypeError: read_bytes() missing 3 required positional arguments: 'dtype', 'count', and 'offsetsize'\n",
      "TiffPage 0: TypeError: read_bytes() missing 3 required positional arguments: 'dtype', 'count', and 'offsetsize'\n"
     ]
    },
    {
     "name": "stdout",
     "output_type": "stream",
     "text": [
      "[[26.97115385 19.61538462 24.51923077 ... 26.97115385 24.51923077\n",
      "  26.97115385]\n",
      " [24.51923077 22.06730769 24.51923077 ... 22.06730769 29.42307692\n",
      "  22.06730769]\n",
      " [26.97115385 24.51923077 22.06730769 ... 24.51923077 26.97115385\n",
      "  17.16346154]\n",
      " ...\n",
      " [26.97115385 26.97115385 29.42307692 ... 24.51923077 12.25961538\n",
      "  26.97115385]\n",
      " [19.61538462 26.97115385 22.06730769 ... 29.42307692 19.61538462\n",
      "  24.51923077]\n",
      " [24.51923077 29.42307692 26.97115385 ... 26.97115385 29.42307692\n",
      "  22.06730769]]\n",
      "[[37.31707317 21.76829268 27.98780488 ... 40.42682927 24.87804878\n",
      "  34.20731707]\n",
      " [27.98780488 27.98780488 34.20731707 ... 27.98780488 24.87804878\n",
      "  24.87804878]\n",
      " [27.98780488 31.09756098 34.20731707 ... 27.98780488 24.87804878\n",
      "  37.31707317]\n",
      " ...\n",
      " [40.42682927 31.09756098 34.20731707 ... 18.65853659 27.98780488\n",
      "  31.09756098]\n",
      " [31.09756098 34.20731707 24.87804878 ... 34.20731707 27.98780488\n",
      "  27.98780488]\n",
      " [27.98780488 37.31707317 40.42682927 ... 31.09756098 24.87804878\n",
      "  31.09756098]]\n",
      "[[21.6509434  16.83962264 24.05660377 ... 14.43396226 24.05660377\n",
      "  26.46226415]\n",
      " [19.24528302 21.6509434  24.05660377 ... 19.24528302  9.62264151\n",
      "  16.83962264]\n",
      " [21.6509434  19.24528302 21.6509434  ... 21.6509434  21.6509434\n",
      "   9.62264151]\n",
      " ...\n",
      " [24.05660377 24.05660377 14.43396226 ... 21.6509434  21.6509434\n",
      "  24.05660377]\n",
      " [21.6509434  16.83962264 28.86792453 ... 26.46226415 19.24528302\n",
      "  19.24528302]\n",
      " [26.46226415 14.43396226 21.6509434  ... 16.83962264 21.6509434\n",
      "  16.83962264]]\n",
      "[[16.4516129  21.93548387 21.93548387 ... 19.19354839 24.67741935\n",
      "  24.67741935]\n",
      " [30.16129032 16.4516129  30.16129032 ... 13.70967742 19.19354839\n",
      "  21.93548387]\n",
      " [16.4516129  27.41935484 21.93548387 ... 21.93548387 27.41935484\n",
      "  21.93548387]\n",
      " ...\n",
      " [30.16129032 41.12903226 30.16129032 ... 16.4516129  21.93548387\n",
      "  24.67741935]\n",
      " [21.93548387 13.70967742 19.19354839 ... 27.41935484 24.67741935\n",
      "  24.67741935]\n",
      " [24.67741935 19.19354839 27.41935484 ... 21.93548387 24.67741935\n",
      "  24.67741935]]\n",
      "[[12.85714286 19.28571429 17.14285714 ... 21.42857143 21.42857143\n",
      "  21.42857143]\n",
      " [23.57142857 23.57142857 25.71428571 ... 19.28571429 21.42857143\n",
      "  21.42857143]\n",
      " [17.14285714 27.85714286 21.42857143 ... 25.71428571 25.71428571\n",
      "  25.71428571]\n",
      " ...\n",
      " [25.71428571 32.14285714 23.57142857 ... 25.71428571 25.71428571\n",
      "  27.85714286]\n",
      " [23.57142857 21.42857143 15.         ... 30.         15.\n",
      "  25.71428571]\n",
      " [25.71428571 25.71428571 23.57142857 ... 27.85714286 19.28571429\n",
      "  27.85714286]]\n"
     ]
    }
   ],
   "source": [
    "input_dir = \"../images\"\n",
    "output_dir = \"../images/png\"\n",
    "lable_map = {\"BMP4\" :0, \"CHIR\": 1, \"DS\": 2, \"DSandCHIR\": 3,  \"WT\": 4}\n",
    "# raw_images = []\n",
    "labels = []\n",
    "if not exists(output_dir):\n",
    "    os.makedirs(output_dir)\n",
    "    \n",
    "files = [f for f in os.listdir(input_dir) if isfile(join(input_dir, f))]\n",
    "# print(onlyfiles)\n",
    "for file in files:\n",
    "    path = os.path.join(input_dir, file)\n",
    "    image = tifffile.imread(path)\n",
    "    img_rescaled = 255 * (image - image.min()) / (image.max() - image.min())\n",
    "    img_col = cv2.applyColorMap(img_rescaled.astype(np.uint8), cv2.COLORMAP_DEEPGREEN)\n",
    "    # raw_images.append(img_col)\n",
    "    # cv2.imwrite(os.path.join(output_dir, os.path.splitext(file)[0] + \".png\"), img_col)\n",
    "    name = file.split(\"_\")[0]\n",
    "    labels.append(lable_map[name])\n",
    "# images = np.array(images)\n",
    "# labels = to_categorical(labels, num_classes=num_classes)\n",
    "# print(labels)\n"
   ]
  },
  {
   "cell_type": "code",
   "execution_count": null,
   "id": "6c344074-077a-4a57-b351-76d534ed2717",
   "metadata": {},
   "outputs": [],
   "source": []
  }
 ],
 "metadata": {
  "kernelspec": {
   "display_name": "Python 3 (ipykernel)",
   "language": "python",
   "name": "python3"
  },
  "language_info": {
   "codemirror_mode": {
    "name": "ipython",
    "version": 3
   },
   "file_extension": ".py",
   "mimetype": "text/x-python",
   "name": "python",
   "nbconvert_exporter": "python",
   "pygments_lexer": "ipython3",
   "version": "3.9.16"
  }
 },
 "nbformat": 4,
 "nbformat_minor": 5
}
