{
 "cells": [
  {
   "cell_type": "code",
   "execution_count": 4,
   "id": "9cbf54da-bbfc-4e78-922e-b71dd09ed57a",
   "metadata": {
    "tags": []
   },
   "outputs": [],
   "source": [
    "import numpy as np\n",
    "import os\n",
    "import tifffile\n",
    "import cv2\n",
    "from os.path import join, isfile, exists\n",
    "import torch\n",
    "import torchvision.models as models\n",
    "import torchvision.transforms as transforms\n",
    "from torch.utils.data import DataLoader, Dataset\n",
    "import torch.optim as optim\n",
    "import torch.nn as nn\n",
    "import os\n",
    "from PIL import Image"
   ]
  },
  {
   "cell_type": "code",
   "execution_count": 10,
   "id": "8a818f3e-db14-46d3-961a-183c95f85f24",
   "metadata": {},
   "outputs": [],
   "source": [
    "# Define the dataset class\n",
    "class MyDataset(Dataset):\n",
    "    def __init__(self, root_dir, transform=None):\n",
    "        self.root_dir = root_dir\n",
    "        self.transform = transform\n",
    "        self.images = []\n",
    "        self.labels = []\n",
    "        files = [f for f in os.listdir(root_dir) if isfile(join(root_dir, f))]\n",
    "        for file in files:\n",
    "            file_path = os.path.join(root_dir, file)\n",
    "            print(file_path)\n",
    "            if file_path.endswith(\".png\"):\n",
    "                \n",
    "                img = Image.open(file_path).convert(\"RGB\")\n",
    "                # self.images.append(img)\n",
    "                name = file.split(\"_\")[0]\n",
    "                label = label_map.get(name, -1)\n",
    "                if label != -1:\n",
    "                    self.images.append(img)\n",
    "                    self.labels.append(label)\n",
    "                # self.labels.append(lable_map[name])\n",
    "            elif file_path.endswith(\".tif\"):\n",
    "                image_array = tifffile.imread(file_path)\n",
    "                img_rescaled = 255 * (image_array - image_array.min()) / (image_array.max() - image_array.min())\n",
    "                img_col = cv2.applyColorMap(img_rescaled.astype(np.uint8), cv2.COLORMAP_DEEPGREEN)\n",
    "                img = Image.fromarray(img_col)\n",
    "                img = img.convert(\"RGB\")\n",
    "                # self.images.append(img)\n",
    "\n",
    "                name = file.split(\"_\")[0]\n",
    "                label = label_map.get(name, -1)\n",
    "                if label != -1:\n",
    "                    self.images.append(img)\n",
    "                    self.labels.append(label)\n",
    "                # self.labels.append(lable_map[name])\n",
    "    \n",
    "    def __len__(self):\n",
    "        return len(self.images)\n",
    "    \n",
    "    def __getitem__(self, idx):\n",
    "        img = self.images[idx]\n",
    "        label = self.labels[idx]\n",
    "        # print(np.array(img))\n",
    "        if self.transform is not None:\n",
    "            img = self.transform(img)\n",
    "        return img, label\n"
   ]
  },
  {
   "cell_type": "code",
   "execution_count": 17,
   "id": "59497c55-9204-4666-99fb-5f7fe7bf56d1",
   "metadata": {},
   "outputs": [],
   "source": [
    "input_dir = \"../images\"\n",
    "output_dir = \"../images/png\"\n",
    "label_map = {\"BMP4\" :0, \"CHIR\": 1, \"DS\": 2, \"DSandCHIR\": 3,  \"WT\": 4}\n",
    "# Define the input shape of the images\n",
    "input_shape = (3, 224, 224)\n",
    "# Define the number of classes\n",
    "num_classes = 5\n",
    "# Load the pre-trained GoogleNet model\n",
    "model = models.googlenet(pretrained=True)\n",
    "\n",
    "# if I dont need to train, use this\n",
    "model = nn.Sequential(*list(model.children())[:-1])\n",
    "#else use this\n",
    "# Freeze the weights of all layers except the last fully connected layer\n",
    "# for param in model.parameters():\n",
    "#     param.requires_grad = False\n",
    "# # Remove the last fully connected layer\n",
    "# model.fc = nn.Identity()\n",
    "# model.fc.requires_grad = True\n",
    "# Replace the last fully connected layer with a new layer that has `num_classes` output units\n",
    "# model.fc = nn.Linear(1024, num_classes)\n",
    "# Define the loss function and optimizer\n",
    "# criterion = nn.CrossEntropyLoss()\n",
    "# optimizer = optim.SGD(model.fc.parameters(), lr=0.001, momentum=0.9)"
   ]
  },
  {
   "cell_type": "code",
   "execution_count": 7,
   "id": "4497c8eb-180b-45ae-9b07-7b4631592d6a",
   "metadata": {},
   "outputs": [
    {
     "name": "stdout",
     "output_type": "stream",
     "text": [
      "../images/png\\BMP4_22_20_t260_c002.png\n",
      "../images/png\\CHIR_22_40_t140_c002.png\n",
      "../images/png\\DSandCHIR_26_14_t150_c002.png\n",
      "../images/png\\DS_26_04_t060_c002.png\n",
      "../images/png\\WT_22_02_t020_c002.png\n"
     ]
    }
   ],
   "source": [
    "# Define the data transformations\n",
    "# transform = transforms.Compose([\n",
    "#     transforms.Resize(input_shape[1:]),\n",
    "#     transforms.ToTensor(),\n",
    "#     transforms.Normalize(mean=[0.5, 0.5, 0.5], std=[0.5, 0.5, 0.5])\n",
    "# ])\n",
    "# # Load the dataset\n",
    "# dataset = MyDataset(\"../images/png\", transform=transform)\n",
    "# image0, label0 = dataset.__getitem__(0)\n",
    "# # print(image0)\n",
    "# dataloader = DataLoader(dataset, batch_size=32, shuffle=True)"
   ]
  },
  {
   "cell_type": "code",
   "execution_count": 18,
   "id": "10f6ad27-8d3f-4cf3-af7a-625775ed6433",
   "metadata": {},
   "outputs": [
    {
     "name": "stderr",
     "output_type": "stream",
     "text": [
      "TiffPage 0: TypeError: read_bytes() missing 3 required positional arguments: 'dtype', 'count', and 'offsetsize'\n",
      "TiffPage 0: TypeError: read_bytes() missing 3 required positional arguments: 'dtype', 'count', and 'offsetsize'\n",
      "TiffPage 0: TypeError: read_bytes() missing 3 required positional arguments: 'dtype', 'count', and 'offsetsize'\n",
      "TiffPage 0: TypeError: read_bytes() missing 3 required positional arguments: 'dtype', 'count', and 'offsetsize'\n",
      "TiffPage 0: TypeError: read_bytes() missing 3 required positional arguments: 'dtype', 'count', and 'offsetsize'\n"
     ]
    },
    {
     "name": "stdout",
     "output_type": "stream",
     "text": [
      "../images\\BMP4_22_20_t260_c002.tif\n",
      "../images\\CHIR_22_40_t140_c002.tif\n",
      "../images\\DSandCHIR_26_14_t150_c002.tif\n",
      "../images\\DS_26_04_t060_c002.tif\n",
      "../images\\WT_22_02_t020_c002.tif\n"
     ]
    }
   ],
   "source": [
    "# Define the data transformations\n",
    "transform = transforms.Compose([\n",
    "    transforms.Resize(input_shape[1:]),\n",
    "    transforms.ToTensor(),\n",
    "    transforms.Normalize(mean=[0.5, 0.5, 0.5], std=[0.5, 0.5, 0.5])\n",
    "])\n",
    "# Load the dataset\n",
    "dataset = MyDataset(\"../images\", transform=transform)\n",
    "image0, label0 = dataset.__getitem__(0)\n",
    "# print(image0)\n",
    "dataloader = DataLoader(dataset, batch_size=32, shuffle=True)"
   ]
  },
  {
   "cell_type": "code",
   "execution_count": 20,
   "id": "711ef551-c5ec-42c8-8b79-030530e70307",
   "metadata": {},
   "outputs": [
    {
     "name": "stdout",
     "output_type": "stream",
     "text": [
      "torch.Size([5, 1024, 1, 1])\n",
      "tensor([[[0.3174]],\n",
      "\n",
      "        [[0.3367]],\n",
      "\n",
      "        [[0.0000]],\n",
      "\n",
      "        ...,\n",
      "\n",
      "        [[0.7289]],\n",
      "\n",
      "        [[0.0000]],\n",
      "\n",
      "        [[0.0000]]])\n"
     ]
    }
   ],
   "source": [
    "# Define an empty list to store the extracted features\n",
    "features = []\n",
    "# Extract features from the images\n",
    "with torch.no_grad():\n",
    "    for images, _ in dataloader:\n",
    "        features_batch = model(images)\n",
    "        features.append(features_batch)\n",
    "# Concatenate the extracted features\n",
    "features = torch.cat(features)\n",
    "print(features.shape)\n",
    "print(features[0])"
   ]
  },
  {
   "cell_type": "code",
   "execution_count": 9,
   "id": "cacd12a6-4a98-4790-b08b-441336fb1acd",
   "metadata": {},
   "outputs": [
    {
     "name": "stdout",
     "output_type": "stream",
     "text": [
      "[Epoch 1, Batch 1] Loss: 0.172\n",
      "[Epoch 2, Batch 1] Loss: 0.169\n",
      "[Epoch 3, Batch 1] Loss: 0.167\n",
      "[Epoch 4, Batch 1] Loss: 0.156\n",
      "[Epoch 5, Batch 1] Loss: 0.158\n",
      "[Epoch 6, Batch 1] Loss: 0.152\n",
      "[Epoch 7, Batch 1] Loss: 0.141\n",
      "[Epoch 8, Batch 1] Loss: 0.145\n",
      "[Epoch 9, Batch 1] Loss: 0.140\n",
      "[Epoch 10, Batch 1] Loss: 0.124\n",
      "[Epoch 11, Batch 1] Loss: 0.120\n",
      "[Epoch 12, Batch 1] Loss: 0.106\n",
      "[Epoch 13, Batch 1] Loss: 0.112\n",
      "[Epoch 14, Batch 1] Loss: 0.101\n",
      "[Epoch 15, Batch 1] Loss: 0.104\n",
      "[Epoch 16, Batch 1] Loss: 0.087\n",
      "[Epoch 17, Batch 1] Loss: 0.087\n",
      "[Epoch 18, Batch 1] Loss: 0.071\n",
      "[Epoch 19, Batch 1] Loss: 0.075\n",
      "[Epoch 20, Batch 1] Loss: 0.069\n",
      "[Epoch 21, Batch 1] Loss: 0.065\n",
      "[Epoch 22, Batch 1] Loss: 0.060\n",
      "[Epoch 23, Batch 1] Loss: 0.056\n",
      "[Epoch 24, Batch 1] Loss: 0.058\n",
      "[Epoch 25, Batch 1] Loss: 0.047\n",
      "[Epoch 26, Batch 1] Loss: 0.043\n",
      "[Epoch 27, Batch 1] Loss: 0.043\n",
      "[Epoch 28, Batch 1] Loss: 0.040\n",
      "[Epoch 29, Batch 1] Loss: 0.034\n",
      "[Epoch 30, Batch 1] Loss: 0.031\n",
      "[Epoch 31, Batch 1] Loss: 0.034\n",
      "[Epoch 32, Batch 1] Loss: 0.034\n",
      "[Epoch 33, Batch 1] Loss: 0.033\n",
      "[Epoch 34, Batch 1] Loss: 0.026\n",
      "[Epoch 35, Batch 1] Loss: 0.026\n",
      "[Epoch 36, Batch 1] Loss: 0.027\n",
      "[Epoch 37, Batch 1] Loss: 0.022\n",
      "[Epoch 38, Batch 1] Loss: 0.022\n",
      "[Epoch 39, Batch 1] Loss: 0.020\n",
      "[Epoch 40, Batch 1] Loss: 0.018\n",
      "[Epoch 41, Batch 1] Loss: 0.020\n",
      "[Epoch 42, Batch 1] Loss: 0.018\n",
      "[Epoch 43, Batch 1] Loss: 0.020\n",
      "[Epoch 44, Batch 1] Loss: 0.016\n",
      "[Epoch 45, Batch 1] Loss: 0.019\n",
      "[Epoch 46, Batch 1] Loss: 0.016\n",
      "[Epoch 47, Batch 1] Loss: 0.016\n",
      "[Epoch 48, Batch 1] Loss: 0.015\n",
      "[Epoch 49, Batch 1] Loss: 0.013\n",
      "[Epoch 50, Batch 1] Loss: 0.012\n"
     ]
    }
   ],
   "source": [
    "# Train the model\n",
    "num_epochs = 50\n",
    "for epoch in range(num_epochs):\n",
    "    running_loss = 0.0\n",
    "    for i, data in enumerate(dataloader, 0):\n",
    "        # print(i)\n",
    "        inputs, labels = data\n",
    "        # print(inputs, labels)\n",
    "\n",
    "        # Zero the parameter gradients\n",
    "        optimizer.zero_grad()\n",
    "\n",
    "        # Forward + backward + optimize\n",
    "        outputs = model(inputs)\n",
    "        loss = criterion(outputs, labels)\n",
    "        loss.backward()\n",
    "        optimizer.step()\n",
    "\n",
    "        # Print statistics\n",
    "        running_loss += loss.item()\n",
    "        # if i % 10 == 9:\n",
    "        print(f\"[Epoch {epoch+1}, Batch {i+1}] Loss: {running_loss/10:.3f}\")\n",
    "        running_loss = 0.0\n",
    "        \n",
    "            "
   ]
  },
  {
   "cell_type": "code",
   "execution_count": null,
   "id": "33c62f87-6c72-4242-81e1-4fb60d5cafc7",
   "metadata": {},
   "outputs": [],
   "source": []
  }
 ],
 "metadata": {
  "kernelspec": {
   "display_name": "Python 3 (ipykernel)",
   "language": "python",
   "name": "python3"
  },
  "language_info": {
   "codemirror_mode": {
    "name": "ipython",
    "version": 3
   },
   "file_extension": ".py",
   "mimetype": "text/x-python",
   "name": "python",
   "nbconvert_exporter": "python",
   "pygments_lexer": "ipython3",
   "version": "3.9.16"
  }
 },
 "nbformat": 4,
 "nbformat_minor": 5
}
