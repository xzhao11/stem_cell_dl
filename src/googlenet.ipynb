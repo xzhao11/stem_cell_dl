{
 "cells": [
  {
   "cell_type": "code",
   "execution_count": 4,
   "id": "9cbf54da-bbfc-4e78-922e-b71dd09ed57a",
   "metadata": {
    "tags": []
   },
   "outputs": [],
   "source": [
    "import numpy as np\n",
    "import os\n",
    "import tifffile\n",
    "import cv2\n",
    "from os.path import join, isfile, exists\n",
    "import torch\n",
    "import torchvision.models as models\n",
    "import torchvision.transforms as transforms\n",
    "from torch.utils.data import DataLoader, Dataset\n",
    "import torch.optim as optim\n",
    "import torch.nn as nn\n",
    "import os\n",
    "from PIL import Image"
   ]
  },
  {
   "cell_type": "code",
   "execution_count": 10,
   "id": "8a818f3e-db14-46d3-961a-183c95f85f24",
   "metadata": {},
   "outputs": [],
   "source": [
    "# Define the dataset class\n",
    "class MyDataset(Dataset):\n",
    "    def __init__(self, root_dir, transform=None):\n",
    "        self.root_dir = root_dir\n",
    "        self.transform = transform\n",
    "        self.images = []\n",
    "        self.labels = []\n",
    "        files = [f for f in os.listdir(root_dir) if isfile(join(root_dir, f))]\n",
    "        for file in files:\n",
    "            file_path = os.path.join(root_dir, file)\n",
    "            print(file_path)\n",
    "            if file_path.endswith(\".png\"):\n",
    "                \n",
    "                img = Image.open(file_path).convert(\"RGB\")\n",
    "                # self.images.append(img)\n",
    "                name = file.split(\"_\")[0]\n",
    "                label = label_map.get(name, -1)\n",
    "                if label != -1:\n",
    "                    self.images.append(img)\n",
    "                    self.labels.append(label)\n",
    "                # self.labels.append(lable_map[name])\n",
    "            elif file_path.endswith(\".tif\"):\n",
    "                image_array = tifffile.imread(file_path)\n",
    "                img_rescaled = 255 * (image_array - image_array.min()) / (image_array.max() - image_array.min())\n",
    "                img_col = cv2.applyColorMap(img_rescaled.astype(np.uint8), cv2.COLORMAP_DEEPGREEN)\n",
    "                img = Image.fromarray(img_col)\n",
    "                img = img.convert(\"RGB\")\n",
    "                # self.images.append(img)\n",
    "\n",
    "                name = file.split(\"_\")[0]\n",
    "                label = label_map.get(name, -1)\n",
    "                if label != -1:\n",
    "                    self.images.append(img)\n",
    "                    self.labels.append(label)\n",
    "                # self.labels.append(lable_map[name])\n",
    "    \n",
    "    def __len__(self):\n",
    "        return len(self.images)\n",
    "    \n",
    "    def __getitem__(self, idx):\n",
    "        img = self.images[idx]\n",
    "        label = self.labels[idx]\n",
    "        # print(np.array(img))\n",
    "        if self.transform is not None:\n",
    "            img = self.transform(img)\n",
    "        return img, label\n"
   ]
  },
  {
   "cell_type": "code",
   "execution_count": 17,
   "id": "59497c55-9204-4666-99fb-5f7fe7bf56d1",
   "metadata": {},
   "outputs": [],
   "source": [
    "input_dir = \"../images\"\n",
    "output_dir = \"../images/png\"\n",
    "label_map = {\"BMP4\" :0, \"CHIR\": 1, \"DS\": 2, \"DSandCHIR\": 3,  \"WT\": 4}\n",
    "# Define the input shape of the images\n",
    "input_shape = (3, 224, 224)\n",
    "# Define the number of classes\n",
    "num_classes = 5\n",
    "# Load the pre-trained GoogleNet model\n",
    "model = models.googlenet(pretrained=True)\n",
    "\n",
    "# if I dont need to train, use this\n",
    "model = nn.Sequential(*list(model.children())[:-1])\n",
    "#else use this\n",
    "# Freeze the weights of all layers except the last fully connected layer\n",
    "# for param in model.parameters():\n",
    "#     param.requires_grad = False\n",
    "# # Remove the last fully connected layer\n",
    "# model.fc = nn.Identity()\n",
    "# model.fc.requires_grad = True\n",
    "# Replace the last fully connected layer with a new layer that has `num_classes` output units\n",
    "# model.fc = nn.Linear(1024, num_classes)\n",
    "# Define the loss function and optimizer\n",
    "# criterion = nn.CrossEntropyLoss()\n",
    "# optimizer = optim.SGD(model.fc.parameters(), lr=0.001, momentum=0.9)"
   ]
  },
  {
   "cell_type": "code",
   "execution_count": 7,
   "id": "4497c8eb-180b-45ae-9b07-7b4631592d6a",
   "metadata": {},
   "outputs": [
    {
     "name": "stdout",
     "output_type": "stream",
     "text": [
      "../images/png\\BMP4_22_20_t260_c002.png\n",
      "../images/png\\CHIR_22_40_t140_c002.png\n",
      "../images/png\\DSandCHIR_26_14_t150_c002.png\n",
      "../images/png\\DS_26_04_t060_c002.png\n",
      "../images/png\\WT_22_02_t020_c002.png\n"
     ]
    }
   ],
   "source": [
    "# Define the data transformations\n",
    "# transform = transforms.Compose([\n",
    "#     transforms.Resize(input_shape[1:]),\n",
    "#     transforms.ToTensor(),\n",
    "#     transforms.Normalize(mean=[0.5, 0.5, 0.5], std=[0.5, 0.5, 0.5])\n",
    "# ])\n",
    "# # Load the dataset\n",
    "# dataset = MyDataset(\"../images/png\", transform=transform)\n",
    "# image0, label0 = dataset.__getitem__(0)\n",
    "# # print(image0)\n",
    "# dataloader = DataLoader(dataset, batch_size=32, shuffle=True)"
   ]
  },
  {
   "cell_type": "code",
   "execution_count": 18,
   "id": "10f6ad27-8d3f-4cf3-af7a-625775ed6433",
   "metadata": {},
   "outputs": [
    {
     "name": "stderr",
     "output_type": "stream",
     "text": [
      "TiffPage 0: TypeError: read_bytes() missing 3 required positional arguments: 'dtype', 'count', and 'offsetsize'\n",
      "TiffPage 0: TypeError: read_bytes() missing 3 required positional arguments: 'dtype', 'count', and 'offsetsize'\n",
      "TiffPage 0: TypeError: read_bytes() missing 3 required positional arguments: 'dtype', 'count', and 'offsetsize'\n",
      "TiffPage 0: TypeError: read_bytes() missing 3 required positional arguments: 'dtype', 'count', and 'offsetsize'\n",
      "TiffPage 0: TypeError: read_bytes() missing 3 required positional arguments: 'dtype', 'count', and 'offsetsize'\n"
     ]
    },
    {
     "name": "stdout",
     "output_type": "stream",
     "text": [
      "../images\\BMP4_22_20_t260_c002.tif\n",
      "../images\\CHIR_22_40_t140_c002.tif\n",
      "../images\\DSandCHIR_26_14_t150_c002.tif\n",
      "../images\\DS_26_04_t060_c002.tif\n",
      "../images\\WT_22_02_t020_c002.tif\n"
     ]
    }
   ],
   "source": [
    "# Define the data transformations\n",
    "transform = transforms.Compose([\n",
    "    transforms.Resize(input_shape[1:]),\n",
    "    transforms.ToTensor(),\n",
    "    transforms.Normalize(mean=[0.5, 0.5, 0.5], std=[0.5, 0.5, 0.5])\n",
    "])\n",
    "# Load the dataset\n",
    "dataset = MyDataset(\"../images\", transform=transform)\n",
    "image0, label0 = dataset.__getitem__(0)\n",
    "# print(image0)\n",
    "dataloader = DataLoader(dataset, batch_size=32, shuffle=True)"
   ]
  },
  {
   "cell_type": "code",
   "execution_count": 21,
   "id": "711ef551-c5ec-42c8-8b79-030530e70307",
   "metadata": {},
   "outputs": [
    {
     "name": "stdout",
     "output_type": "stream",
     "text": [
      "torch.Size([5, 1024, 1, 1])\n"
     ]
    }
   ],
   "source": [
    "# Define an empty list to store the extracted features\n",
    "features = []\n",
    "# Extract features from the images\n",
    "with torch.no_grad():\n",
    "    for images, _ in dataloader:\n",
    "        features_batch = model(images)\n",
    "        features.append(features_batch)\n",
    "# Concatenate the extracted features\n",
    "features = torch.cat(features)\n",
    "print(features.shape)\n",
    "# print(features[0])"
   ]
  },
  {
   "cell_type": "code",
   "execution_count": 22,
   "id": "cacd12a6-4a98-4790-b08b-441336fb1acd",
   "metadata": {},
   "outputs": [],
   "source": [
    "# Train the model\n",
    "# num_epochs = 50\n",
    "# for epoch in range(num_epochs):\n",
    "#     running_loss = 0.0\n",
    "#     for i, data in enumerate(dataloader, 0):\n",
    "#         # print(i)\n",
    "#         inputs, labels = data\n",
    "#         # print(inputs, labels)\n",
    "\n",
    "#         # Zero the parameter gradients\n",
    "#         optimizer.zero_grad()\n",
    "\n",
    "#         # Forward + backward + optimize\n",
    "#         outputs = model(inputs)\n",
    "#         loss = criterion(outputs, labels)\n",
    "#         loss.backward()\n",
    "#         optimizer.step()\n",
    "\n",
    "#         # Print statistics\n",
    "#         running_loss += loss.item()\n",
    "#         # if i % 10 == 9:\n",
    "#         print(f\"[Epoch {epoch+1}, Batch {i+1}] Loss: {running_loss/10:.3f}\")\n",
    "#         running_loss = 0.0\n",
    "        \n",
    "            "
   ]
  },
  {
   "cell_type": "code",
   "execution_count": 23,
   "id": "33c62f87-6c72-4242-81e1-4fb60d5cafc7",
   "metadata": {},
   "outputs": [],
   "source": [
    "## RNN part"
   ]
  },
  {
   "cell_type": "code",
   "execution_count": 24,
   "id": "e132e977-ce94-4037-b25f-2b96f6b026a4",
   "metadata": {},
   "outputs": [],
   "source": [
    "# Reshape the extracted features\n",
    "sequence_length = features.size(0)\n",
    "num_features = features.size(1)\n",
    "reshaped_features = features.view(sequence_length, num_features)\n",
    "\n",
    "# Design the RNN architecture\n",
    "hidden_size = 256  # Number of hidden units in the RNN layer"
   ]
  },
  {
   "cell_type": "code",
   "execution_count": 25,
   "id": "546d0a08-d59c-459b-aac1-d645c842b2ab",
   "metadata": {},
   "outputs": [],
   "source": [
    "# Set up the RNN model\n",
    "class RNNModel(nn.Module):\n",
    "    def __init__(self, input_size, hidden_size, num_classes):\n",
    "        super(RNNModel, self).__init__()\n",
    "        self.rnn = nn.LSTM(input_size, hidden_size, batch_first=True)\n",
    "        self.fc = nn.Linear(hidden_size, num_classes)\n",
    "\n",
    "    def forward(self, x):\n",
    "        output, _ = self.rnn(x)\n",
    "        output = output[:, -1, :]  # Get the output at the last time step\n",
    "        output = self.fc(output)\n",
    "        return output"
   ]
  },
  {
   "cell_type": "code",
   "execution_count": null,
   "id": "62e1eae1-f2b5-45f3-8772-9f141b5991ae",
   "metadata": {},
   "outputs": [],
   "source": [
    "class MyDataset(Dataset):\n",
    "    def __init__(self, root_dir, transform=None):\n",
    "        self.classes = []\n",
    "        self.image_paths = []\n",
    "        \n",
    "        folders = os.listdir(root_dir)\n",
    "        \n",
    "        for folder_name in folders:\n",
    "            folder_path = os.path.join(root_dir, folder_name)\n",
    "            \n",
    "            if os.path.isdir(folder_path):\n",
    "                class_name = folder_name.split(\"_\")[0]  # Extract the classname from the folder name\n",
    "                class_idx = len(self.classes)\n",
    "                \n",
    "                self.classes.append(class_name)\n",
    "                \n",
    "                image_files = os.listdir(folder_path)\n",
    "                \n",
    "                for image_file in image_files:\n",
    "                    image_path = os.path.join(folder_path, image_file)\n",
    "                    self.image_paths.append(image_path)\n",
    "        \n",
    "        self.transform = transform\n",
    "    \n",
    "    def __getitem__(self, index):\n",
    "        image_path = self.image_paths[index]\n",
    "        class_name = self.classes.index(image_path.split(\"/\")[-2])  # Get the classname from the image path\n",
    "        image = Image.open(image_path).convert(\"RGB\")\n",
    "        \n",
    "        if self.transform:\n",
    "            image = self.transform(image)\n",
    "        \n",
    "        return image, class_name\n",
    "    \n",
    "    def __len__(self):\n",
    "        return len(self.image_paths)\n"
   ]
  },
  {
   "cell_type": "code",
   "execution_count": null,
   "id": "5c4c377a-7519-4e01-bf24-fc76e1487d47",
   "metadata": {},
   "outputs": [],
   "source": [
    "dataset = MyDataset(\"../images/classes\", transform=transform)\n",
    "train_size = int(0.7 * len(dataset))\n",
    "val_size = int(0.15 * len(dataset))\n",
    "test_size = len(dataset) - train_size - val_size\n",
    "\n",
    "train_dataset, val_dataset, test_dataset = torch.utils.data.random_split(dataset, [train_size, val_size, test_size])\n",
    "batch_size = 32\n",
    "\n",
    "train_loader = DataLoader(train_dataset, batch_size=batch_size, shuffle=True)\n",
    "val_loader = DataLoader(val_dataset, batch_size=batch_size, shuffle=False)\n",
    "test_loader = DataLoader(test_dataset, batch_size=batch_size, shuffle=False)\n"
   ]
  },
  {
   "cell_type": "code",
   "execution_count": null,
   "id": "131d6834-4f86-44df-882e-5c22eb50f2c4",
   "metadata": {},
   "outputs": [],
   "source": [
    "input_size = 3  # Assuming RGB images\n",
    "hidden_size = 256\n",
    "num_classes = 5\n",
    "\n",
    "rnn_model = RNNModel(input_size, hidden_size, num_classes)\n",
    "criterion = nn.CrossEntropyLoss()\n",
    "optimizer = optim.Adam(rnn_model.parameters(), lr=0.001)\n"
   ]
  },
  {
   "cell_type": "code",
   "execution_count": null,
   "id": "a137d107-cfdb-411a-af4a-f643b431960f",
   "metadata": {},
   "outputs": [],
   "source": [
    "num_epochs = 10\n",
    "\n",
    "for epoch in range(num_epochs):\n",
    "    rnn_model.train()  # Set the model to train mode\n",
    "    \n",
    "    for images in train_loader:\n",
    "        optimizer.zero_grad()\n",
    "        \n",
    "        # Reshape the images tensor to match the input shape of the RNN\n",
    "        sequence_length = images.size(1)\n",
    "        images = images.view(-1, sequence_length, input_size, 224, 224)\n",
    "        \n",
    "        # Forward pass\n",
    "        outputs = rnn_model(images)\n",
    "        \n",
    "        # Compute the loss\n",
    "        loss = criterion(outputs, labels)\n",
    "        \n",
    "        # Backward pass and optimization\n",
    "        loss.backward()\n",
    "        optimizer.step()\n",
    "    \n",
    "    # Perform validation after each epoch if desired\n",
    "    \n",
    "# Perform testing after training\n",
    "rnn_model.eval()  # Set the model to evaluation mode\n",
    "# Run inference on the test\n"
   ]
  }
 ],
 "metadata": {
  "kernelspec": {
   "display_name": "Python 3 (ipykernel)",
   "language": "python",
   "name": "python3"
  },
  "language_info": {
   "codemirror_mode": {
    "name": "ipython",
    "version": 3
   },
   "file_extension": ".py",
   "mimetype": "text/x-python",
   "name": "python",
   "nbconvert_exporter": "python",
   "pygments_lexer": "ipython3",
   "version": "3.9.16"
  }
 },
 "nbformat": 4,
 "nbformat_minor": 5
}
