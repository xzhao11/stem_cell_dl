{
 "cells": [
  {
   "cell_type": "code",
   "execution_count": 1,
   "id": "d2857016",
   "metadata": {
    "tags": []
   },
   "outputs": [],
   "source": [
    "import numpy as np\n",
    "import pandas as pd\n",
    "import torch\n",
    "import torchvision.models as models\n",
    "import torch.optim as optim\n",
    "import torch.nn as nn\n",
    "import warnings\n",
    "import contextlib\n",
    "from datetime import datetime\n",
    "import torch.multiprocessing as mp\n",
    "import sys\n",
    "mp.set_start_method('spawn')"
   ]
  },
  {
   "cell_type": "code",
   "execution_count": 2,
   "id": "54ec7dc7-0b89-4c31-a860-9fed0d121334",
   "metadata": {},
   "outputs": [],
   "source": [
    "from utils.datasets import *\n",
    "from utils.eval import *\n",
    "from utils.model import *"
   ]
  },
  {
   "cell_type": "code",
   "execution_count": 3,
   "id": "d0cb4a97",
   "metadata": {},
   "outputs": [
    {
     "name": "stdout",
     "output_type": "stream",
     "text": [
      "cuda\n"
     ]
    }
   ],
   "source": [
    "device = torch.device(\"cuda\" if torch.cuda.is_available() else \"cpu\")\n",
    "print(device)\n",
    "model_names = [\n",
    "    \"resnet50\",\n",
    "    \"resnet18\", \"alexnet\", \"vgg16\",\n",
    "    \"densenet\", \"inception\", \"googlenet\", \n",
    "    \"resnext50_32x4d\", \"wide_resnet50_2\"\n",
    "]"
   ]
  },
  {
   "cell_type": "code",
   "execution_count": 4,
   "id": "38922992",
   "metadata": {},
   "outputs": [],
   "source": [
    "# freezed model\n",
    "def get_original_model(net):\n",
    "    if net == \"resnet50\":\n",
    "        model = models.resnet50(weights=models.ResNet50_Weights.DEFAULT)\n",
    "        # models.resnet18(pretrained=True)\n",
    "    elif net == \"resnet18\":\n",
    "        model = models.resnet18(weights=models.ResNet18_Weights.DEFAULT)\n",
    "        # model = models.resnet18(pretrained=True)\n",
    "    elif net == \"alexnet\":\n",
    "        # model = models.alexnet(pretrained=True)\n",
    "        model = models.alexnet(weights=models.AlexNet_Weights.DEFAULT)\n",
    "    elif net == \"vgg16\":\n",
    "        model = models.vgg16(weights=models.VGG16_Weights.DEFAULT)\n",
    "        # model = models.vgg16(pretrained=True)\n",
    "    elif net == \"densenet\":\n",
    "        model = models.densenet161(weights=models.DenseNet161_Weights.DEFAULT)\n",
    "        # model = models.densenet161(pretrained=True)\n",
    "    elif net == \"inception\":\n",
    "        model = models.inception_v3(weights=models.Inception_V3_Weights.DEFAULT)\n",
    "        # model = models.inception_v3(pretrained=True)\n",
    "    elif net == \"googlenet\":\n",
    "        model = models.googlenet(weights=models.GoogLeNet_Weights.DEFAULT)\n",
    "        # model = models.googlenet(pretrained=True)\n",
    "    elif net == \"resnext50_32x4d\":\n",
    "        model = models.resnext50_32x4d(weights=models.ResNeXt50_32X4D_Weights.DEFAULT)\n",
    "        # model = models.resnext50_32x4d(pretrained=True)\n",
    "    elif net == \"wide_resnet50_2\":\n",
    "        model = models.wide_resnet50_2(weights=models.Wide_ResNet50_2_Weights.DEFAULT)\n",
    "        # model = models.wide_resnet50_2(pretrained=True)\n",
    "    else:\n",
    "        raise ValueError(\"Invalid model name\")\n",
    "    for param in model.parameters():\n",
    "        param.requires_grad = False\n",
    "    # Remove the last fully connected layer\n",
    "    if \"inception\" in net:\n",
    "        model.aux_logits=False\n",
    "        num_ftrs = model.fc.in_features\n",
    "        model.fc = nn.Identity()\n",
    "        model.fc = nn.Linear(2048, num_classes)\n",
    "        model.fc.requires_grad = True\n",
    "        optimizer = optim.SGD(model.fc.parameters(), lr=0.001, momentum=0.9)\n",
    "    if \"alexnet\" in net or \"vgg\" in net or  \"mobilenet_v3_large\" in net:\n",
    "        last_fc_layer = model.classifier[-1]\n",
    "        num_ftrs = last_fc_layer.in_features\n",
    "        model.classifier[-1] = nn.Linear(num_ftrs, num_classes)\n",
    "        model.classifier[-1].requires_grad = True\n",
    "        optimizer = optim.SGD(model.parameters(), lr=0.001, momentum=0.9)\n",
    "    elif \"densenet\" in net:\n",
    "        last_fc_layer = model.classifier\n",
    "        num_ftrs = last_fc_layer.in_features\n",
    "        model.classifier = nn.Linear(num_ftrs, num_classes)\n",
    "        model.classifier.requires_grad = True\n",
    "        optimizer = optim.SGD(model.parameters(), lr=0.001, momentum=0.9)\n",
    "    else:\n",
    "        num_ftrs = model.fc.in_features\n",
    "        model.fc = nn.Identity()\n",
    "        model.fc.requires_grad = True\n",
    "        model.fc = nn.Linear(num_ftrs, num_classes)\n",
    "        optimizer = optim.SGD(model.fc.parameters(), lr=0.001, momentum=0.9)\n",
    "    model = model.to(device)\n",
    "    criterion = nn.CrossEntropyLoss()\n",
    "    \n",
    "    return model,criterion, optimizer"
   ]
  },
  {
   "cell_type": "code",
   "execution_count": 5,
   "id": "745f0217",
   "metadata": {},
   "outputs": [],
   "source": [
    "num_epochs = 30\n",
    "def train_net(net):\n",
    "    model, criterion, optimizer = get_original_model(net)\n",
    "    original_stderr = sys.stderr\n",
    "    accuracy_list = []\n",
    "    precision_list = []\n",
    "    recall_list = []\n",
    "    confusion_matrix_list = []\n",
    "    f1_list = []\n",
    "    tps, tns, fps, fns = [], [], [], []\n",
    "    current_date = datetime.now().strftime('%Y-%m-%d')\n",
    "    save_dir = os.path.join(\"saved_models/tl\", current_date)\n",
    "    os.makedirs(save_dir, exist_ok=True)\n",
    "    \n",
    "    sys.stderr = open(os.devnull, 'w')\n",
    "    test_ratio=0.3\n",
    "    \n",
    "    for timestamp in range(1, 290):\n",
    "    # for timestamp in range(50, 51):\n",
    "        debug = False\n",
    "        if timestamp in  [1, 20, 40, 60, 80, 100, 120, 140, 160, 180, 200, 220, 240, 260, 280, 289]:\n",
    "            debug = True\n",
    "        if debug:\n",
    "            print(\"timestamp: \", timestamp)\n",
    "        if \"inception\" in net:\n",
    "            dataloaders = get_dataloaders(timestamp, test_ratio=test_ratio, inception=True, data_enrich=False)\n",
    "        else:\n",
    "            dataloaders = get_dataloaders(timestamp, test_ratio=test_ratio, data_enrich=False)\n",
    "        model_trained, loss_values = train_model(model, criterion, optimizer, dataloaders, num_epochs=num_epochs, inception=(\"inception\" in net), output=debug, debug=False)\n",
    "        model_filename = os.path.join(save_dir, f\"model_{net}_time_{timestamp}_epochs{num_epochs}.pt\")\n",
    "        torch.save(model_trained.state_dict(), model_filename)\n",
    "    \n",
    "        accuracy, precision, recall, f1, tp, tn, fp, fn, confusion_matrix = get_metrics(model_trained, dataloaders['test'], inception=(\"inception\" in net))\n",
    "        accuracy_list.append(accuracy)\n",
    "        precision_list.append(precision)\n",
    "        if debug:\n",
    "            print(\"Accuracy: \", accuracy)\n",
    "        recall_list.append(recall)\n",
    "        f1_list.append(f1)\n",
    "        tps.append(tp)\n",
    "        tns.append(tn)\n",
    "        fps.append(fp)\n",
    "        fns.append(fn)\n",
    "        confusion_matrix_list.append(confusion_matrix)\n",
    "    sys.stderr = original_stderr\n",
    "    return accuracy_list, precision_list, recall_list, f1_list, tps, tns, fps, fns, confusion_matrix_list"
   ]
  },
  {
   "cell_type": "code",
   "execution_count": 6,
   "id": "fd0c11a6-b5b9-4282-bdae-a3e155acaf86",
   "metadata": {},
   "outputs": [],
   "source": [
    "def add_dicts(dict1, dict2):\n",
    "    result_dict = {}\n",
    "    for key in dict1.keys():\n",
    "        result_dict[key] = dict1[key] + dict2[key]\n",
    "    return result_dict\n",
    "    \n",
    "def write_result(model_name, accuracy_list, precision_list, recall_list, f1_list, tps, tns, fps, fns, confusion_matrix_list):\n",
    "    avg_acc = sum(accuracy_list) / len(accuracy_list)\n",
    "    avg_pre = sum(precision_list) / len(precision_list)\n",
    "    avg_rec = sum(recall_list) / len(recall_list)\n",
    "    avg_f1 = sum(f1_list) / len(f1_list)\n",
    "    output_folder = f\"./output/tl/{current_date}/{model_name}\"\n",
    "    output_file = f\"metrics_{model_name}.txt\"\n",
    "    class_labels = [\"BMP4\", \"CHIR\", \"DS\", \"DS+CHIR\",  \"WT\"]\n",
    "\n",
    "    \n",
    "    with open(os.path.join(output_folder, output_file), \"w\") as f:\n",
    "        f.write(\"Average Accuracy: \" + str(avg_acc) + \"\\n\")\n",
    "        f.write(\"Average Precision: \" + str(avg_pre) + \"\\n\")\n",
    "        f.write(\"Average Recall: \" + str(avg_rec) + \"\\n\")\n",
    "        f.write(\"Average F1 Score: \" + str(avg_f1) + \"\\n\")\n",
    "        f.write(\"Accuracy: \" + str(accuracy_list) + \"\\n\")\n",
    "        f.write(\"Precision: \" + str(precision_list) + \"\\n\")\n",
    "        f.write(\"Recall: \" + str(recall_list) + \"\\n\")\n",
    "        f.write(\"F1 Score: \" + str(f1_list) + \"\\n\")\n",
    "        f.write(\"TPs: \" + str(tps) + \"\\n\")\n",
    "        f.write(\"TNs: \" + str(tns) + \"\\n\")\n",
    "        f.write(\"FPs: \" + str(fps) + \"\\n\")\n",
    "        f.write(\"FNs: \" + str(fns) + \"\\n\")\n",
    "\n",
    "        # Write misclassified pairs\n",
    "        f.write(\"Misclassified Pairs:\\n\")\n",
    "        mis_total_map = {}\n",
    "        \n",
    "        for m in range(len(fps)):\n",
    "          \n",
    "            mis_map = {}\n",
    "            f.write(f\"Misclassified Pairs for time {m}: \")\n",
    "            for i in range(len(class_labels)):\n",
    "                for j in range(i+1, len(class_labels)):\n",
    "                    pair = f\"{class_labels[i]} vs. {class_labels[j]}\"\n",
    "                    if pair not in mis_total_map:\n",
    "                        mis_total_map[pair] = 0\n",
    "                    if pair not in mis_map:\n",
    "                        mis_map[pair] = 0\n",
    "                    mis_map[f\"{class_labels[i]} vs. {class_labels[j]}\"] += confusion_matrix_list[m][i][j] + confusion_matrix_list[m][j][i]\n",
    "                    mis_total_map[f\"{class_labels[i]} vs. {class_labels[j]}\"] += confusion_matrix_list[m][i][j] + confusion_matrix_list[m][j][i]\n",
    "            if m+1 in [1, 40, 80, 120, 160, 200, 240, 280, 289]:\n",
    "                for key, val in mis_map.items():\n",
    "                    f.write(f\"{key}: {val} \")  \n",
    "                f.write(\"\\n\")\n",
    "        # for key, val in mis_total_map.items():\n",
    "        f.write(str(mis_total_map) + \"\\n\")\n",
    "    return mis_total_map"
   ]
  },
  {
   "cell_type": "code",
   "execution_count": 7,
   "id": "f59250d2",
   "metadata": {
    "scrolled": true
   },
   "outputs": [
    {
     "name": "stdout",
     "output_type": "stream",
     "text": [
      "training resnet50...\n",
      "timestamp:  1\n",
      "Training complete in 0m 9s\n",
      "Best val Acc: 0.666667\n",
      "Best val loss: 1.185133\n",
      "Accuracy:  0.5\n",
      "timestamp:  20\n",
      "Training complete in 0m 8s\n",
      "Best val Acc: 0.750000\n",
      "Best val loss: 0.680885\n",
      "Accuracy:  0.8333333333333334\n",
      "timestamp:  40\n",
      "Training complete in 0m 7s\n",
      "Best val Acc: 0.916667\n",
      "Best val loss: 0.333616\n",
      "Accuracy:  0.9166666666666666\n",
      "timestamp:  60\n",
      "Training complete in 0m 6s\n",
      "Best val Acc: 0.833333\n",
      "Best val loss: 0.508908\n",
      "Accuracy:  0.75\n",
      "timestamp:  80\n",
      "Training complete in 0m 4s\n",
      "Best val Acc: 0.916667\n",
      "Best val loss: 0.219699\n",
      "Accuracy:  0.75\n",
      "timestamp:  100\n",
      "Training complete in 0m 3s\n",
      "Best val Acc: 0.916667\n",
      "Best val loss: 0.204683\n",
      "Accuracy:  0.8333333333333334\n",
      "timestamp:  120\n",
      "Training complete in 0m 4s\n",
      "Best val Acc: 1.000000\n",
      "Best val loss: 0.124603\n",
      "Accuracy:  0.9166666666666666\n",
      "timestamp:  140\n",
      "Training complete in 0m 7s\n",
      "Best val Acc: 1.000000\n",
      "Best val loss: 0.117175\n",
      "Accuracy:  0.8333333333333334\n",
      "timestamp:  160\n",
      "Training complete in 0m 6s\n",
      "Best val Acc: 1.000000\n",
      "Best val loss: 0.053210\n",
      "Accuracy:  0.9166666666666666\n",
      "timestamp:  180\n",
      "Training complete in 0m 3s\n",
      "Best val Acc: 1.000000\n",
      "Best val loss: 0.020867\n",
      "Accuracy:  0.9166666666666666\n",
      "timestamp:  200\n",
      "Training complete in 0m 3s\n",
      "Best val Acc: 1.000000\n",
      "Best val loss: 0.038280\n",
      "Accuracy:  1.0\n",
      "timestamp:  220\n",
      "Training complete in 0m 4s\n",
      "Best val Acc: 1.000000\n",
      "Best val loss: 0.010380\n",
      "Accuracy:  1.0\n",
      "timestamp:  240\n",
      "Training complete in 0m 3s\n",
      "Best val Acc: 1.000000\n",
      "Best val loss: 0.075789\n",
      "Accuracy:  0.9166666666666666\n",
      "timestamp:  260\n",
      "Training complete in 0m 3s\n",
      "Best val Acc: 1.000000\n",
      "Best val loss: 0.091854\n",
      "Accuracy:  0.9166666666666666\n",
      "timestamp:  280\n",
      "Training complete in 0m 6s\n",
      "Best val Acc: 1.000000\n",
      "Best val loss: 0.041085\n",
      "Accuracy:  0.9166666666666666\n",
      "timestamp:  289\n",
      "Training complete in 0m 4s\n",
      "Best val Acc: 1.000000\n",
      "Best val loss: 0.074993\n",
      "Accuracy:  1.0\n",
      "resnet50 average accuracy: 0.8762975778546701\n",
      "total map: {'BMP4 vs. CHIR': 99, 'BMP4 vs. DS': 0, 'BMP4 vs. DS+CHIR': 6, 'BMP4 vs. WT': 243, 'CHIR vs. DS': 7, 'CHIR vs. DS+CHIR': 23, 'CHIR vs. WT': 27, 'DS vs. DS+CHIR': 15, 'DS vs. WT': 8, 'DS+CHIR vs. WT': 1}\n",
      "training resnet18...\n",
      "timestamp:  1\n",
      "Training complete in 0m 2s\n",
      "Best val Acc: 0.833333\n",
      "Best val loss: 0.686385\n",
      "Accuracy:  0.75\n",
      "timestamp:  20\n",
      "Training complete in 0m 2s\n",
      "Best val Acc: 0.916667\n",
      "Best val loss: 0.335244\n",
      "Accuracy:  0.6666666666666666\n",
      "timestamp:  40\n",
      "Training complete in 0m 3s\n",
      "Best val Acc: 0.916667\n",
      "Best val loss: 0.181103\n",
      "Accuracy:  0.9166666666666666\n",
      "timestamp:  60\n",
      "Training complete in 0m 1s\n",
      "Best val Acc: 0.916667\n",
      "Best val loss: 0.311180\n",
      "Accuracy:  0.5833333333333334\n",
      "timestamp:  80\n",
      "Training complete in 0m 4s\n",
      "Best val Acc: 0.750000\n",
      "Best val loss: 0.354789\n",
      "Accuracy:  0.8333333333333334\n",
      "timestamp:  100\n",
      "Training complete in 0m 4s\n",
      "Best val Acc: 1.000000\n",
      "Best val loss: 0.053761\n",
      "Accuracy:  0.6666666666666666\n",
      "timestamp:  120\n",
      "Training complete in 0m 4s\n",
      "Best val Acc: 1.000000\n",
      "Best val loss: 0.057153\n",
      "Accuracy:  1.0\n",
      "timestamp:  140\n",
      "Training complete in 0m 2s\n",
      "Best val Acc: 1.000000\n",
      "Best val loss: 0.085735\n",
      "Accuracy:  1.0\n",
      "timestamp:  160\n",
      "Training complete in 0m 3s\n",
      "Best val Acc: 1.000000\n",
      "Best val loss: 0.012788\n",
      "Accuracy:  0.8333333333333334\n",
      "timestamp:  180\n",
      "Training complete in 0m 3s\n",
      "Best val Acc: 1.000000\n",
      "Best val loss: 0.000825\n",
      "Accuracy:  0.9166666666666666\n",
      "timestamp:  200\n",
      "Training complete in 0m 2s\n",
      "Best val Acc: 1.000000\n",
      "Best val loss: 0.035603\n",
      "Accuracy:  1.0\n",
      "timestamp:  220\n",
      "Training complete in 0m 4s\n",
      "Best val Acc: 1.000000\n",
      "Best val loss: 0.002393\n",
      "Accuracy:  0.8333333333333334\n",
      "timestamp:  240\n",
      "Training complete in 0m 3s\n",
      "Best val Acc: 1.000000\n",
      "Best val loss: 0.007476\n",
      "Accuracy:  0.8333333333333334\n",
      "timestamp:  260\n",
      "Training complete in 0m 5s\n",
      "Best val Acc: 1.000000\n",
      "Best val loss: 0.011414\n",
      "Accuracy:  0.9166666666666666\n",
      "timestamp:  280\n",
      "Training complete in 0m 3s\n",
      "Best val Acc: 1.000000\n",
      "Best val loss: 0.030416\n",
      "Accuracy:  0.9166666666666666\n",
      "timestamp:  289\n",
      "Training complete in 0m 3s\n",
      "Best val Acc: 1.000000\n",
      "Best val loss: 0.011239\n",
      "Accuracy:  0.9166666666666666\n"
     ]
    },
    {
     "name": "stderr",
     "output_type": "stream",
     "text": [
      "/home/myuser/projects/thesis/stem_cell_dl/src/utils/eval.py:84: RuntimeWarning: More than 20 figures have been opened. Figures created through the pyplot interface (`matplotlib.pyplot.figure`) are retained until explicitly closed and may consume too much memory. (To control this warning, see the rcParam `figure.max_open_warning`).\n",
      "  plt.figure(figsize=(10, 8))\n"
     ]
    },
    {
     "name": "stdout",
     "output_type": "stream",
     "text": [
      "resnet18 average accuracy: 0.8428489042675892\n",
      "total map: {'BMP4 vs. CHIR': 289, 'BMP4 vs. DS': 0, 'BMP4 vs. DS+CHIR': 11, 'BMP4 vs. WT': 463, 'CHIR vs. DS': 19, 'CHIR vs. DS+CHIR': 36, 'CHIR vs. WT': 88, 'DS vs. DS+CHIR': 49, 'DS vs. WT': 16, 'DS+CHIR vs. WT': 3}\n",
      "training alexnet...\n",
      "timestamp:  1\n",
      "Training complete in 0m 1s\n",
      "Best val Acc: 0.916667\n",
      "Best val loss: 0.665659\n",
      "Accuracy:  0.75\n",
      "timestamp:  20\n",
      "Training complete in 0m 2s\n",
      "Best val Acc: 0.916667\n",
      "Best val loss: 0.261526\n",
      "Accuracy:  0.8333333333333334\n",
      "timestamp:  40\n",
      "Training complete in 0m 2s\n",
      "Best val Acc: 1.000000\n",
      "Best val loss: 0.052072\n",
      "Accuracy:  0.8333333333333334\n",
      "timestamp:  60\n",
      "Training complete in 0m 2s\n",
      "Best val Acc: 1.000000\n",
      "Best val loss: 0.039343\n",
      "Accuracy:  0.8333333333333334\n",
      "timestamp:  80\n",
      "Training complete in 0m 2s\n",
      "Best val Acc: 0.916667\n",
      "Best val loss: 0.446692\n",
      "Accuracy:  0.9166666666666666\n",
      "timestamp:  100\n",
      "Training complete in 0m 1s\n",
      "Best val Acc: 1.000000\n",
      "Best val loss: 0.001007\n",
      "Accuracy:  1.0\n",
      "timestamp:  120\n",
      "Training complete in 0m 2s\n",
      "Best val Acc: 1.000000\n",
      "Best val loss: 0.000548\n",
      "Accuracy:  0.9166666666666666\n",
      "timestamp:  140\n",
      "Training complete in 0m 1s\n",
      "Best val Acc: 1.000000\n",
      "Best val loss: 0.001362\n",
      "Accuracy:  1.0\n",
      "timestamp:  160\n",
      "Training complete in 0m 2s\n",
      "Best val Acc: 1.000000\n",
      "Best val loss: 0.002626\n",
      "Accuracy:  0.8333333333333334\n",
      "timestamp:  180\n",
      "Training complete in 0m 2s\n",
      "Best val Acc: 1.000000\n",
      "Best val loss: 0.003773\n",
      "Accuracy:  0.8333333333333334\n",
      "timestamp:  200\n",
      "Training complete in 0m 3s\n",
      "Best val Acc: 1.000000\n",
      "Best val loss: 0.007547\n",
      "Accuracy:  0.9166666666666666\n",
      "timestamp:  220\n",
      "Training complete in 0m 3s\n",
      "Best val Acc: 1.000000\n",
      "Best val loss: 0.000989\n",
      "Accuracy:  0.9166666666666666\n",
      "timestamp:  240\n",
      "Training complete in 0m 1s\n",
      "Best val Acc: 1.000000\n",
      "Best val loss: 0.000217\n",
      "Accuracy:  0.6666666666666666\n",
      "timestamp:  260\n",
      "Training complete in 0m 1s\n",
      "Best val Acc: 1.000000\n",
      "Best val loss: 0.049102\n",
      "Accuracy:  0.75\n",
      "timestamp:  280\n",
      "Training complete in 0m 2s\n",
      "Best val Acc: 1.000000\n",
      "Best val loss: 0.001016\n",
      "Accuracy:  0.9166666666666666\n",
      "timestamp:  289\n",
      "Training complete in 0m 2s\n",
      "Best val Acc: 1.000000\n",
      "Best val loss: 0.001146\n",
      "Accuracy:  0.9166666666666666\n",
      "alexnet average accuracy: 0.8823529411764692\n",
      "total map: {'BMP4 vs. CHIR': 502, 'BMP4 vs. DS': 0, 'BMP4 vs. DS+CHIR': 11, 'BMP4 vs. WT': 560, 'CHIR vs. DS': 23, 'CHIR vs. DS+CHIR': 46, 'CHIR vs. WT': 161, 'DS vs. DS+CHIR': 60, 'DS vs. WT': 16, 'DS+CHIR vs. WT': 3}\n",
      "training vgg16...\n",
      "timestamp:  1\n",
      "Training complete in 0m 8s\n",
      "Best val Acc: 0.833333\n",
      "Best val loss: 0.796044\n",
      "Accuracy:  1.0\n",
      "timestamp:  20\n",
      "Training complete in 0m 8s\n",
      "Best val Acc: 1.000000\n",
      "Best val loss: 0.072092\n",
      "Accuracy:  0.75\n",
      "timestamp:  40\n",
      "Training complete in 0m 9s\n",
      "Best val Acc: 1.000000\n",
      "Best val loss: 0.031475\n",
      "Accuracy:  0.75\n",
      "timestamp:  60\n",
      "Training complete in 0m 8s\n",
      "Best val Acc: 1.000000\n",
      "Best val loss: 0.115574\n",
      "Accuracy:  0.75\n",
      "timestamp:  80\n",
      "Training complete in 0m 6s\n",
      "Best val Acc: 1.000000\n",
      "Best val loss: 0.099309\n",
      "Accuracy:  0.8333333333333334\n",
      "timestamp:  100\n",
      "Training complete in 0m 8s\n",
      "Best val Acc: 1.000000\n",
      "Best val loss: 0.009578\n",
      "Accuracy:  0.9166666666666666\n",
      "timestamp:  120\n",
      "Training complete in 0m 5s\n",
      "Best val Acc: 1.000000\n",
      "Best val loss: 0.017201\n",
      "Accuracy:  0.75\n",
      "timestamp:  140\n",
      "Training complete in 0m 6s\n",
      "Best val Acc: 1.000000\n",
      "Best val loss: 0.025552\n",
      "Accuracy:  0.9166666666666666\n",
      "timestamp:  160\n",
      "Training complete in 0m 6s\n",
      "Best val Acc: 1.000000\n",
      "Best val loss: 0.009225\n",
      "Accuracy:  0.8333333333333334\n",
      "timestamp:  180\n",
      "Training complete in 0m 8s\n",
      "Best val Acc: 1.000000\n",
      "Best val loss: 0.009352\n",
      "Accuracy:  0.9166666666666666\n",
      "timestamp:  200\n",
      "Training complete in 0m 8s\n",
      "Best val Acc: 1.000000\n",
      "Best val loss: 0.046069\n",
      "Accuracy:  1.0\n",
      "timestamp:  220\n",
      "Training complete in 0m 9s\n",
      "Best val Acc: 1.000000\n",
      "Best val loss: 0.003582\n",
      "Accuracy:  0.9166666666666666\n",
      "timestamp:  240\n",
      "Training complete in 0m 8s\n",
      "Best val Acc: 1.000000\n",
      "Best val loss: 0.008199\n",
      "Accuracy:  1.0\n",
      "timestamp:  260\n",
      "Training complete in 0m 8s\n",
      "Best val Acc: 1.000000\n",
      "Best val loss: 0.014240\n",
      "Accuracy:  1.0\n",
      "timestamp:  280\n",
      "Training complete in 0m 6s\n",
      "Best val Acc: 1.000000\n",
      "Best val loss: 0.045864\n",
      "Accuracy:  0.8333333333333334\n",
      "timestamp:  289\n",
      "Training complete in 0m 8s\n",
      "Best val Acc: 0.916667\n",
      "Best val loss: 0.114519\n",
      "Accuracy:  0.8333333333333334\n",
      "vgg16 average accuracy: 0.8751441753171854\n",
      "total map: {'BMP4 vs. CHIR': 677, 'BMP4 vs. DS': 0, 'BMP4 vs. DS+CHIR': 11, 'BMP4 vs. WT': 703, 'CHIR vs. DS': 23, 'CHIR vs. DS+CHIR': 52, 'CHIR vs. WT': 216, 'DS vs. DS+CHIR': 88, 'DS vs. WT': 34, 'DS+CHIR vs. WT': 11}\n",
      "training densenet...\n",
      "timestamp:  1\n",
      "Training complete in 0m 16s\n",
      "Best val Acc: 0.833333\n",
      "Best val loss: 0.589777\n",
      "Accuracy:  0.75\n",
      "timestamp:  20\n",
      "Training complete in 0m 12s\n",
      "Best val Acc: 0.750000\n",
      "Best val loss: 0.410815\n",
      "Accuracy:  0.6666666666666666\n",
      "timestamp:  40\n",
      "Training complete in 0m 15s\n",
      "Best val Acc: 1.000000\n",
      "Best val loss: 0.079176\n",
      "Accuracy:  0.9166666666666666\n",
      "timestamp:  60\n",
      "Training complete in 0m 13s\n",
      "Best val Acc: 0.916667\n",
      "Best val loss: 0.245422\n",
      "Accuracy:  0.8333333333333334\n",
      "timestamp:  80\n",
      "Training complete in 0m 11s\n",
      "Best val Acc: 0.833333\n",
      "Best val loss: 0.449252\n",
      "Accuracy:  0.75\n",
      "timestamp:  100\n",
      "Training complete in 0m 11s\n",
      "Best val Acc: 1.000000\n",
      "Best val loss: 0.013786\n",
      "Accuracy:  0.8333333333333334\n",
      "timestamp:  120\n",
      "Training complete in 0m 13s\n",
      "Best val Acc: 1.000000\n",
      "Best val loss: 0.014951\n",
      "Accuracy:  1.0\n",
      "timestamp:  140\n",
      "Training complete in 0m 14s\n",
      "Best val Acc: 1.000000\n",
      "Best val loss: 0.026101\n",
      "Accuracy:  0.8333333333333334\n",
      "timestamp:  160\n",
      "Training complete in 0m 12s\n",
      "Best val Acc: 1.000000\n",
      "Best val loss: 0.048098\n",
      "Accuracy:  1.0\n",
      "timestamp:  180\n",
      "Training complete in 0m 13s\n",
      "Best val Acc: 1.000000\n",
      "Best val loss: 0.004344\n",
      "Accuracy:  0.9166666666666666\n",
      "timestamp:  200\n",
      "Training complete in 0m 11s\n",
      "Best val Acc: 1.000000\n",
      "Best val loss: 0.004406\n",
      "Accuracy:  1.0\n",
      "timestamp:  220\n",
      "Training complete in 0m 11s\n",
      "Best val Acc: 1.000000\n",
      "Best val loss: 0.000468\n",
      "Accuracy:  0.9166666666666666\n",
      "timestamp:  240\n",
      "Training complete in 0m 11s\n",
      "Best val Acc: 1.000000\n",
      "Best val loss: 0.044868\n",
      "Accuracy:  1.0\n",
      "timestamp:  260\n",
      "Training complete in 0m 11s\n",
      "Best val Acc: 1.000000\n",
      "Best val loss: 0.021724\n",
      "Accuracy:  1.0\n",
      "timestamp:  280\n",
      "Training complete in 0m 10s\n",
      "Best val Acc: 1.000000\n",
      "Best val loss: 0.000675\n",
      "Accuracy:  1.0\n",
      "timestamp:  289\n",
      "Training complete in 0m 9s\n",
      "Best val Acc: 1.000000\n",
      "Best val loss: 0.005768\n",
      "Accuracy:  1.0\n",
      "densenet average accuracy: 0.9178200692041515\n",
      "total map: {'BMP4 vs. CHIR': 760, 'BMP4 vs. DS': 0, 'BMP4 vs. DS+CHIR': 15, 'BMP4 vs. WT': 828, 'CHIR vs. DS': 33, 'CHIR vs. DS+CHIR': 65, 'CHIR vs. WT': 247, 'DS vs. DS+CHIR': 98, 'DS vs. WT': 41, 'DS+CHIR vs. WT': 13}\n",
      "training inception...\n",
      "timestamp:  1\n",
      "Training complete in 0m 9s\n",
      "Best val Acc: 0.833333\n",
      "Best val loss: 0.990885\n",
      "Accuracy:  0.75\n",
      "timestamp:  20\n",
      "Training complete in 0m 8s\n",
      "Best val Acc: 0.833333\n",
      "Best val loss: 0.475854\n",
      "Accuracy:  0.8333333333333334\n",
      "timestamp:  40\n",
      "Training complete in 0m 8s\n",
      "Best val Acc: 0.750000\n",
      "Best val loss: 0.645080\n",
      "Accuracy:  0.6666666666666666\n",
      "timestamp:  60\n",
      "Training complete in 0m 9s\n",
      "Best val Acc: 0.750000\n",
      "Best val loss: 0.308904\n",
      "Accuracy:  0.8333333333333334\n",
      "timestamp:  80\n",
      "Training complete in 0m 6s\n",
      "Best val Acc: 0.833333\n",
      "Best val loss: 0.366682\n",
      "Accuracy:  0.9166666666666666\n",
      "timestamp:  100\n",
      "Training complete in 0m 5s\n",
      "Best val Acc: 1.000000\n",
      "Best val loss: 0.254341\n",
      "Accuracy:  0.9166666666666666\n",
      "timestamp:  120\n",
      "Training complete in 0m 7s\n",
      "Best val Acc: 0.916667\n",
      "Best val loss: 0.110853\n",
      "Accuracy:  0.9166666666666666\n",
      "timestamp:  140\n",
      "Training complete in 0m 9s\n",
      "Best val Acc: 0.916667\n",
      "Best val loss: 0.101056\n",
      "Accuracy:  1.0\n",
      "timestamp:  160\n",
      "Training complete in 0m 10s\n",
      "Best val Acc: 1.000000\n",
      "Best val loss: 0.011362\n",
      "Accuracy:  1.0\n",
      "timestamp:  180\n",
      "Training complete in 0m 7s\n",
      "Best val Acc: 1.000000\n",
      "Best val loss: 0.006565\n",
      "Accuracy:  0.9166666666666666\n",
      "timestamp:  200\n",
      "Training complete in 0m 8s\n",
      "Best val Acc: 1.000000\n",
      "Best val loss: 0.080131\n",
      "Accuracy:  0.9166666666666666\n",
      "timestamp:  220\n",
      "Training complete in 0m 10s\n",
      "Best val Acc: 1.000000\n",
      "Best val loss: 0.068140\n",
      "Accuracy:  1.0\n",
      "timestamp:  240\n",
      "Training complete in 0m 8s\n",
      "Best val Acc: 1.000000\n",
      "Best val loss: 0.074916\n",
      "Accuracy:  1.0\n",
      "timestamp:  260\n",
      "Training complete in 0m 8s\n",
      "Best val Acc: 1.000000\n",
      "Best val loss: 0.030995\n",
      "Accuracy:  1.0\n",
      "timestamp:  280\n",
      "Training complete in 0m 7s\n",
      "Best val Acc: 1.000000\n",
      "Best val loss: 0.030950\n",
      "Accuracy:  1.0\n",
      "timestamp:  289\n",
      "Training complete in 0m 5s\n",
      "Best val Acc: 1.000000\n",
      "Best val loss: 0.023866\n",
      "Accuracy:  0.9166666666666666\n",
      "inception average accuracy: 0.8930219146482111\n",
      "total map: {'BMP4 vs. CHIR': 818, 'BMP4 vs. DS': 2, 'BMP4 vs. DS+CHIR': 24, 'BMP4 vs. WT': 1012, 'CHIR vs. DS': 36, 'CHIR vs. DS+CHIR': 112, 'CHIR vs. WT': 269, 'DS vs. DS+CHIR': 99, 'DS vs. WT': 78, 'DS+CHIR vs. WT': 21}\n",
      "training googlenet...\n",
      "timestamp:  1\n",
      "Training complete in 0m 6s\n",
      "Best val Acc: 0.833333\n",
      "Best val loss: 0.790804\n",
      "Accuracy:  1.0\n",
      "timestamp:  20\n",
      "Training complete in 0m 6s\n",
      "Best val Acc: 0.916667\n",
      "Best val loss: 0.472106\n",
      "Accuracy:  0.9166666666666666\n",
      "timestamp:  40\n",
      "Training complete in 0m 4s\n",
      "Best val Acc: 1.000000\n",
      "Best val loss: 0.132927\n",
      "Accuracy:  0.9166666666666666\n",
      "timestamp:  60\n",
      "Training complete in 0m 4s\n",
      "Best val Acc: 1.000000\n",
      "Best val loss: 0.208089\n",
      "Accuracy:  0.75\n",
      "timestamp:  80\n",
      "Training complete in 0m 6s\n",
      "Best val Acc: 1.000000\n",
      "Best val loss: 0.122531\n",
      "Accuracy:  0.8333333333333334\n",
      "timestamp:  100\n",
      "Training complete in 0m 5s\n",
      "Best val Acc: 0.916667\n",
      "Best val loss: 0.133640\n",
      "Accuracy:  0.75\n",
      "timestamp:  120\n",
      "Training complete in 0m 5s\n",
      "Best val Acc: 0.916667\n",
      "Best val loss: 0.258421\n",
      "Accuracy:  0.9166666666666666\n",
      "timestamp:  140\n",
      "Training complete in 0m 4s\n",
      "Best val Acc: 1.000000\n",
      "Best val loss: 0.075640\n",
      "Accuracy:  0.9166666666666666\n",
      "timestamp:  160\n",
      "Training complete in 0m 8s\n",
      "Best val Acc: 1.000000\n",
      "Best val loss: 0.017574\n",
      "Accuracy:  0.9166666666666666\n",
      "timestamp:  180\n",
      "Training complete in 0m 7s\n",
      "Best val Acc: 1.000000\n",
      "Best val loss: 0.028656\n",
      "Accuracy:  0.9166666666666666\n",
      "timestamp:  200\n",
      "Training complete in 0m 5s\n",
      "Best val Acc: 1.000000\n",
      "Best val loss: 0.017659\n",
      "Accuracy:  0.9166666666666666\n",
      "timestamp:  220\n",
      "Training complete in 0m 5s\n",
      "Best val Acc: 1.000000\n",
      "Best val loss: 0.009509\n",
      "Accuracy:  0.8333333333333334\n",
      "timestamp:  240\n",
      "Training complete in 0m 4s\n",
      "Best val Acc: 1.000000\n",
      "Best val loss: 0.010977\n",
      "Accuracy:  0.75\n",
      "timestamp:  260\n",
      "Training complete in 0m 5s\n",
      "Best val Acc: 1.000000\n",
      "Best val loss: 0.013618\n",
      "Accuracy:  1.0\n",
      "timestamp:  280\n",
      "Training complete in 0m 6s\n",
      "Best val Acc: 1.000000\n",
      "Best val loss: 0.007268\n",
      "Accuracy:  1.0\n",
      "timestamp:  289\n",
      "Training complete in 0m 7s\n",
      "Best val Acc: 0.916667\n",
      "Best val loss: 0.172333\n",
      "Accuracy:  1.0\n",
      "googlenet average accuracy: 0.8930219146482113\n",
      "total map: {'BMP4 vs. CHIR': 931, 'BMP4 vs. DS': 4, 'BMP4 vs. DS+CHIR': 25, 'BMP4 vs. WT': 1152, 'CHIR vs. DS': 53, 'CHIR vs. DS+CHIR': 123, 'CHIR vs. WT': 290, 'DS vs. DS+CHIR': 128, 'DS vs. WT': 113, 'DS+CHIR vs. WT': 23}\n",
      "training resnext50_32x4d...\n",
      "timestamp:  1\n",
      "Training complete in 0m 9s\n",
      "Best val Acc: 0.583333\n",
      "Best val loss: 1.167652\n",
      "Accuracy:  0.6666666666666666\n",
      "timestamp:  20\n",
      "Training complete in 0m 8s\n",
      "Best val Acc: 0.833333\n",
      "Best val loss: 0.315996\n",
      "Accuracy:  0.9166666666666666\n",
      "timestamp:  40\n",
      "Training complete in 0m 4s\n",
      "Best val Acc: 1.000000\n",
      "Best val loss: 0.254963\n",
      "Accuracy:  1.0\n",
      "timestamp:  60\n",
      "Training complete in 0m 9s\n",
      "Best val Acc: 1.000000\n",
      "Best val loss: 0.305731\n",
      "Accuracy:  0.6666666666666666\n",
      "timestamp:  80\n",
      "Training complete in 0m 9s\n",
      "Best val Acc: 0.916667\n",
      "Best val loss: 0.301648\n",
      "Accuracy:  0.8333333333333334\n",
      "timestamp:  100\n",
      "Training complete in 0m 9s\n",
      "Best val Acc: 1.000000\n",
      "Best val loss: 0.125102\n",
      "Accuracy:  0.8333333333333334\n",
      "timestamp:  120\n",
      "Training complete in 0m 4s\n",
      "Best val Acc: 0.916667\n",
      "Best val loss: 0.412771\n",
      "Accuracy:  0.8333333333333334\n",
      "timestamp:  140\n",
      "Training complete in 0m 8s\n",
      "Best val Acc: 0.916667\n",
      "Best val loss: 2.742791\n",
      "Accuracy:  0.8333333333333334\n",
      "timestamp:  160\n",
      "Training complete in 0m 8s\n",
      "Best val Acc: 1.000000\n",
      "Best val loss: 0.062249\n",
      "Accuracy:  0.9166666666666666\n",
      "timestamp:  180\n",
      "Training complete in 0m 9s\n",
      "Best val Acc: 1.000000\n",
      "Best val loss: 0.100594\n",
      "Accuracy:  0.9166666666666666\n",
      "timestamp:  200\n",
      "Training complete in 0m 7s\n",
      "Best val Acc: 1.000000\n",
      "Best val loss: 0.060103\n",
      "Accuracy:  1.0\n",
      "timestamp:  220\n",
      "Training complete in 0m 6s\n",
      "Best val Acc: 1.000000\n",
      "Best val loss: 0.014553\n",
      "Accuracy:  1.0\n",
      "timestamp:  240\n",
      "Training complete in 0m 6s\n",
      "Best val Acc: 0.916667\n",
      "Best val loss: 0.278291\n",
      "Accuracy:  0.9166666666666666\n",
      "timestamp:  260\n",
      "Training complete in 0m 9s\n",
      "Best val Acc: 1.000000\n",
      "Best val loss: 0.017325\n",
      "Accuracy:  1.0\n",
      "timestamp:  280\n",
      "Training complete in 0m 8s\n",
      "Best val Acc: 0.916667\n",
      "Best val loss: 0.415534\n",
      "Accuracy:  0.9166666666666666\n",
      "timestamp:  289\n",
      "Training complete in 0m 8s\n",
      "Best val Acc: 0.916667\n",
      "Best val loss: 0.151797\n",
      "Accuracy:  0.9166666666666666\n",
      "resnext50_32x4d average accuracy: 0.8866782006920402\n",
      "total map: {'BMP4 vs. CHIR': 1018, 'BMP4 vs. DS': 8, 'BMP4 vs. DS+CHIR': 31, 'BMP4 vs. WT': 1382, 'CHIR vs. DS': 60, 'CHIR vs. DS+CHIR': 140, 'CHIR vs. WT': 312, 'DS vs. DS+CHIR': 137, 'DS vs. WT': 124, 'DS+CHIR vs. WT': 23}\n",
      "training wide_resnet50_2...\n",
      "timestamp:  1\n",
      "Training complete in 0m 6s\n",
      "Best val Acc: 0.833333\n",
      "Best val loss: 1.078688\n",
      "Accuracy:  0.5\n",
      "timestamp:  20\n",
      "Training complete in 0m 11s\n",
      "Best val Acc: 0.916667\n",
      "Best val loss: 0.563558\n",
      "Accuracy:  0.9166666666666666\n",
      "timestamp:  40\n",
      "Training complete in 0m 12s\n",
      "Best val Acc: 0.833333\n",
      "Best val loss: 0.529039\n",
      "Accuracy:  0.8333333333333334\n",
      "timestamp:  60\n",
      "Training complete in 0m 9s\n",
      "Best val Acc: 0.833333\n",
      "Best val loss: 0.258835\n",
      "Accuracy:  0.6666666666666666\n",
      "timestamp:  80\n",
      "Training complete in 0m 9s\n",
      "Best val Acc: 0.833333\n",
      "Best val loss: 0.334590\n",
      "Accuracy:  0.75\n",
      "timestamp:  100\n",
      "Training complete in 0m 11s\n",
      "Best val Acc: 0.750000\n",
      "Best val loss: 0.439308\n",
      "Accuracy:  0.8333333333333334\n",
      "timestamp:  120\n",
      "Training complete in 0m 8s\n",
      "Best val Acc: 0.833333\n",
      "Best val loss: 0.398757\n",
      "Accuracy:  0.9166666666666666\n",
      "timestamp:  140\n",
      "Training complete in 0m 11s\n",
      "Best val Acc: 1.000000\n",
      "Best val loss: 0.096934\n",
      "Accuracy:  0.9166666666666666\n",
      "timestamp:  160\n",
      "Training complete in 0m 11s\n",
      "Best val Acc: 1.000000\n",
      "Best val loss: 0.016990\n",
      "Accuracy:  0.8333333333333334\n",
      "timestamp:  180\n",
      "Training complete in 0m 8s\n",
      "Best val Acc: 1.000000\n",
      "Best val loss: 0.046192\n",
      "Accuracy:  1.0\n",
      "timestamp:  200\n",
      "Training complete in 0m 8s\n",
      "Best val Acc: 1.000000\n",
      "Best val loss: 0.029056\n",
      "Accuracy:  1.0\n",
      "timestamp:  220\n",
      "Training complete in 0m 11s\n",
      "Best val Acc: 0.916667\n",
      "Best val loss: 0.133059\n",
      "Accuracy:  1.0\n",
      "timestamp:  240\n",
      "Training complete in 0m 11s\n",
      "Best val Acc: 1.000000\n",
      "Best val loss: 0.035585\n",
      "Accuracy:  0.9166666666666666\n",
      "timestamp:  260\n",
      "Training complete in 0m 11s\n",
      "Best val Acc: 0.916667\n",
      "Best val loss: 0.140199\n",
      "Accuracy:  0.9166666666666666\n",
      "timestamp:  280\n",
      "Training complete in 0m 11s\n",
      "Best val Acc: 1.000000\n",
      "Best val loss: 0.066479\n",
      "Accuracy:  0.9166666666666666\n",
      "timestamp:  289\n",
      "Training complete in 0m 12s\n",
      "Best val Acc: 0.833333\n",
      "Best val loss: 0.394996\n",
      "Accuracy:  0.9166666666666666\n",
      "wide_resnet50_2 average accuracy: 0.8512110726643592\n",
      "total map: {'BMP4 vs. CHIR': 1159, 'BMP4 vs. DS': 15, 'BMP4 vs. DS+CHIR': 49, 'BMP4 vs. WT': 1626, 'CHIR vs. DS': 64, 'CHIR vs. DS+CHIR': 168, 'CHIR vs. WT': 333, 'DS vs. DS+CHIR': 148, 'DS vs. WT': 152, 'DS+CHIR vs. WT': 37}\n"
     ]
    },
    {
     "data": {
      "text/plain": [
       "<Figure size 640x480 with 0 Axes>"
      ]
     },
     "metadata": {},
     "output_type": "display_data"
    },
    {
     "data": {
      "text/plain": [
       "<Figure size 1000x800 with 0 Axes>"
      ]
     },
     "metadata": {},
     "output_type": "display_data"
    },
    {
     "data": {
      "text/plain": [
       "<Figure size 1000x800 with 0 Axes>"
      ]
     },
     "metadata": {},
     "output_type": "display_data"
    },
    {
     "data": {
      "text/plain": [
       "<Figure size 1000x800 with 0 Axes>"
      ]
     },
     "metadata": {},
     "output_type": "display_data"
    },
    {
     "data": {
      "text/plain": [
       "<Figure size 1000x800 with 0 Axes>"
      ]
     },
     "metadata": {},
     "output_type": "display_data"
    },
    {
     "data": {
      "text/plain": [
       "<Figure size 1000x800 with 0 Axes>"
      ]
     },
     "metadata": {},
     "output_type": "display_data"
    },
    {
     "data": {
      "text/plain": [
       "<Figure size 1000x800 with 0 Axes>"
      ]
     },
     "metadata": {},
     "output_type": "display_data"
    },
    {
     "data": {
      "text/plain": [
       "<Figure size 1000x800 with 0 Axes>"
      ]
     },
     "metadata": {},
     "output_type": "display_data"
    },
    {
     "data": {
      "text/plain": [
       "<Figure size 1000x800 with 0 Axes>"
      ]
     },
     "metadata": {},
     "output_type": "display_data"
    },
    {
     "data": {
      "text/plain": [
       "<Figure size 1000x800 with 0 Axes>"
      ]
     },
     "metadata": {},
     "output_type": "display_data"
    },
    {
     "data": {
      "text/plain": [
       "<Figure size 1000x800 with 0 Axes>"
      ]
     },
     "metadata": {},
     "output_type": "display_data"
    },
    {
     "data": {
      "text/plain": [
       "<Figure size 1000x800 with 0 Axes>"
      ]
     },
     "metadata": {},
     "output_type": "display_data"
    },
    {
     "data": {
      "text/plain": [
       "<Figure size 1000x800 with 0 Axes>"
      ]
     },
     "metadata": {},
     "output_type": "display_data"
    },
    {
     "data": {
      "text/plain": [
       "<Figure size 1000x800 with 0 Axes>"
      ]
     },
     "metadata": {},
     "output_type": "display_data"
    },
    {
     "data": {
      "text/plain": [
       "<Figure size 1000x800 with 0 Axes>"
      ]
     },
     "metadata": {},
     "output_type": "display_data"
    },
    {
     "data": {
      "text/plain": [
       "<Figure size 1000x800 with 0 Axes>"
      ]
     },
     "metadata": {},
     "output_type": "display_data"
    },
    {
     "data": {
      "text/plain": [
       "<Figure size 1000x800 with 0 Axes>"
      ]
     },
     "metadata": {},
     "output_type": "display_data"
    },
    {
     "data": {
      "text/plain": [
       "<Figure size 1000x800 with 0 Axes>"
      ]
     },
     "metadata": {},
     "output_type": "display_data"
    },
    {
     "data": {
      "text/plain": [
       "<Figure size 1000x800 with 0 Axes>"
      ]
     },
     "metadata": {},
     "output_type": "display_data"
    },
    {
     "data": {
      "text/plain": [
       "<Figure size 1000x800 with 0 Axes>"
      ]
     },
     "metadata": {},
     "output_type": "display_data"
    },
    {
     "data": {
      "text/plain": [
       "<Figure size 1000x800 with 0 Axes>"
      ]
     },
     "metadata": {},
     "output_type": "display_data"
    },
    {
     "data": {
      "text/plain": [
       "<Figure size 1000x800 with 0 Axes>"
      ]
     },
     "metadata": {},
     "output_type": "display_data"
    },
    {
     "data": {
      "text/plain": [
       "<Figure size 1000x800 with 0 Axes>"
      ]
     },
     "metadata": {},
     "output_type": "display_data"
    },
    {
     "data": {
      "text/plain": [
       "<Figure size 1000x800 with 0 Axes>"
      ]
     },
     "metadata": {},
     "output_type": "display_data"
    },
    {
     "data": {
      "text/plain": [
       "<Figure size 1000x800 with 0 Axes>"
      ]
     },
     "metadata": {},
     "output_type": "display_data"
    },
    {
     "data": {
      "text/plain": [
       "<Figure size 1000x800 with 0 Axes>"
      ]
     },
     "metadata": {},
     "output_type": "display_data"
    },
    {
     "data": {
      "text/plain": [
       "<Figure size 1000x800 with 0 Axes>"
      ]
     },
     "metadata": {},
     "output_type": "display_data"
    },
    {
     "data": {
      "text/plain": [
       "<Figure size 1000x800 with 0 Axes>"
      ]
     },
     "metadata": {},
     "output_type": "display_data"
    },
    {
     "data": {
      "text/plain": [
       "<Figure size 1000x800 with 0 Axes>"
      ]
     },
     "metadata": {},
     "output_type": "display_data"
    },
    {
     "data": {
      "text/plain": [
       "<Figure size 1000x800 with 0 Axes>"
      ]
     },
     "metadata": {},
     "output_type": "display_data"
    },
    {
     "data": {
      "text/plain": [
       "<Figure size 1000x800 with 0 Axes>"
      ]
     },
     "metadata": {},
     "output_type": "display_data"
    },
    {
     "data": {
      "text/plain": [
       "<Figure size 1000x800 with 0 Axes>"
      ]
     },
     "metadata": {},
     "output_type": "display_data"
    },
    {
     "data": {
      "text/plain": [
       "<Figure size 1000x800 with 0 Axes>"
      ]
     },
     "metadata": {},
     "output_type": "display_data"
    },
    {
     "data": {
      "text/plain": [
       "<Figure size 1000x800 with 0 Axes>"
      ]
     },
     "metadata": {},
     "output_type": "display_data"
    },
    {
     "data": {
      "text/plain": [
       "<Figure size 1000x800 with 0 Axes>"
      ]
     },
     "metadata": {},
     "output_type": "display_data"
    },
    {
     "data": {
      "text/plain": [
       "<Figure size 1000x800 with 0 Axes>"
      ]
     },
     "metadata": {},
     "output_type": "display_data"
    },
    {
     "data": {
      "text/plain": [
       "<Figure size 1000x800 with 0 Axes>"
      ]
     },
     "metadata": {},
     "output_type": "display_data"
    },
    {
     "data": {
      "text/plain": [
       "<Figure size 1000x800 with 0 Axes>"
      ]
     },
     "metadata": {},
     "output_type": "display_data"
    },
    {
     "data": {
      "text/plain": [
       "<Figure size 1000x800 with 0 Axes>"
      ]
     },
     "metadata": {},
     "output_type": "display_data"
    },
    {
     "data": {
      "text/plain": [
       "<Figure size 1000x800 with 0 Axes>"
      ]
     },
     "metadata": {},
     "output_type": "display_data"
    },
    {
     "data": {
      "text/plain": [
       "<Figure size 1000x800 with 0 Axes>"
      ]
     },
     "metadata": {},
     "output_type": "display_data"
    },
    {
     "data": {
      "text/plain": [
       "<Figure size 1000x800 with 0 Axes>"
      ]
     },
     "metadata": {},
     "output_type": "display_data"
    },
    {
     "data": {
      "text/plain": [
       "<Figure size 1000x800 with 0 Axes>"
      ]
     },
     "metadata": {},
     "output_type": "display_data"
    },
    {
     "data": {
      "text/plain": [
       "<Figure size 1000x800 with 0 Axes>"
      ]
     },
     "metadata": {},
     "output_type": "display_data"
    },
    {
     "data": {
      "text/plain": [
       "<Figure size 1000x800 with 0 Axes>"
      ]
     },
     "metadata": {},
     "output_type": "display_data"
    },
    {
     "data": {
      "text/plain": [
       "<Figure size 1000x800 with 0 Axes>"
      ]
     },
     "metadata": {},
     "output_type": "display_data"
    },
    {
     "data": {
      "text/plain": [
       "<Figure size 1000x800 with 0 Axes>"
      ]
     },
     "metadata": {},
     "output_type": "display_data"
    },
    {
     "data": {
      "text/plain": [
       "<Figure size 1000x800 with 0 Axes>"
      ]
     },
     "metadata": {},
     "output_type": "display_data"
    },
    {
     "data": {
      "text/plain": [
       "<Figure size 1000x800 with 0 Axes>"
      ]
     },
     "metadata": {},
     "output_type": "display_data"
    },
    {
     "data": {
      "text/plain": [
       "<Figure size 1000x800 with 0 Axes>"
      ]
     },
     "metadata": {},
     "output_type": "display_data"
    },
    {
     "data": {
      "text/plain": [
       "<Figure size 1000x800 with 0 Axes>"
      ]
     },
     "metadata": {},
     "output_type": "display_data"
    },
    {
     "data": {
      "text/plain": [
       "<Figure size 1000x800 with 0 Axes>"
      ]
     },
     "metadata": {},
     "output_type": "display_data"
    },
    {
     "data": {
      "text/plain": [
       "<Figure size 1000x800 with 0 Axes>"
      ]
     },
     "metadata": {},
     "output_type": "display_data"
    },
    {
     "data": {
      "text/plain": [
       "<Figure size 1000x800 with 0 Axes>"
      ]
     },
     "metadata": {},
     "output_type": "display_data"
    },
    {
     "data": {
      "text/plain": [
       "<Figure size 1000x800 with 0 Axes>"
      ]
     },
     "metadata": {},
     "output_type": "display_data"
    },
    {
     "data": {
      "text/plain": [
       "<Figure size 1000x800 with 0 Axes>"
      ]
     },
     "metadata": {},
     "output_type": "display_data"
    },
    {
     "data": {
      "text/plain": [
       "<Figure size 1000x800 with 0 Axes>"
      ]
     },
     "metadata": {},
     "output_type": "display_data"
    },
    {
     "data": {
      "text/plain": [
       "<Figure size 1000x800 with 0 Axes>"
      ]
     },
     "metadata": {},
     "output_type": "display_data"
    },
    {
     "data": {
      "text/plain": [
       "<Figure size 1000x800 with 0 Axes>"
      ]
     },
     "metadata": {},
     "output_type": "display_data"
    },
    {
     "data": {
      "text/plain": [
       "<Figure size 1000x800 with 0 Axes>"
      ]
     },
     "metadata": {},
     "output_type": "display_data"
    },
    {
     "data": {
      "text/plain": [
       "<Figure size 1000x800 with 0 Axes>"
      ]
     },
     "metadata": {},
     "output_type": "display_data"
    },
    {
     "data": {
      "text/plain": [
       "<Figure size 1000x800 with 0 Axes>"
      ]
     },
     "metadata": {},
     "output_type": "display_data"
    },
    {
     "data": {
      "text/plain": [
       "<Figure size 1000x800 with 0 Axes>"
      ]
     },
     "metadata": {},
     "output_type": "display_data"
    },
    {
     "data": {
      "text/plain": [
       "<Figure size 1000x800 with 0 Axes>"
      ]
     },
     "metadata": {},
     "output_type": "display_data"
    },
    {
     "data": {
      "text/plain": [
       "<Figure size 1000x800 with 0 Axes>"
      ]
     },
     "metadata": {},
     "output_type": "display_data"
    },
    {
     "data": {
      "text/plain": [
       "<Figure size 1000x800 with 0 Axes>"
      ]
     },
     "metadata": {},
     "output_type": "display_data"
    },
    {
     "data": {
      "text/plain": [
       "<Figure size 1000x800 with 0 Axes>"
      ]
     },
     "metadata": {},
     "output_type": "display_data"
    },
    {
     "data": {
      "text/plain": [
       "<Figure size 1000x800 with 0 Axes>"
      ]
     },
     "metadata": {},
     "output_type": "display_data"
    },
    {
     "data": {
      "text/plain": [
       "<Figure size 1000x800 with 0 Axes>"
      ]
     },
     "metadata": {},
     "output_type": "display_data"
    },
    {
     "data": {
      "text/plain": [
       "<Figure size 1000x800 with 0 Axes>"
      ]
     },
     "metadata": {},
     "output_type": "display_data"
    },
    {
     "data": {
      "text/plain": [
       "<Figure size 1000x800 with 0 Axes>"
      ]
     },
     "metadata": {},
     "output_type": "display_data"
    },
    {
     "data": {
      "text/plain": [
       "<Figure size 1000x800 with 0 Axes>"
      ]
     },
     "metadata": {},
     "output_type": "display_data"
    },
    {
     "data": {
      "text/plain": [
       "<Figure size 1000x800 with 0 Axes>"
      ]
     },
     "metadata": {},
     "output_type": "display_data"
    },
    {
     "data": {
      "text/plain": [
       "<Figure size 1000x800 with 0 Axes>"
      ]
     },
     "metadata": {},
     "output_type": "display_data"
    },
    {
     "data": {
      "text/plain": [
       "<Figure size 1000x800 with 0 Axes>"
      ]
     },
     "metadata": {},
     "output_type": "display_data"
    },
    {
     "data": {
      "text/plain": [
       "<Figure size 1000x800 with 0 Axes>"
      ]
     },
     "metadata": {},
     "output_type": "display_data"
    },
    {
     "data": {
      "text/plain": [
       "<Figure size 1000x800 with 0 Axes>"
      ]
     },
     "metadata": {},
     "output_type": "display_data"
    },
    {
     "data": {
      "text/plain": [
       "<Figure size 1000x800 with 0 Axes>"
      ]
     },
     "metadata": {},
     "output_type": "display_data"
    },
    {
     "data": {
      "text/plain": [
       "<Figure size 1000x800 with 0 Axes>"
      ]
     },
     "metadata": {},
     "output_type": "display_data"
    },
    {
     "data": {
      "text/plain": [
       "<Figure size 1000x800 with 0 Axes>"
      ]
     },
     "metadata": {},
     "output_type": "display_data"
    },
    {
     "data": {
      "text/plain": [
       "<Figure size 1000x800 with 0 Axes>"
      ]
     },
     "metadata": {},
     "output_type": "display_data"
    },
    {
     "data": {
      "text/plain": [
       "<Figure size 1000x800 with 0 Axes>"
      ]
     },
     "metadata": {},
     "output_type": "display_data"
    },
    {
     "data": {
      "text/plain": [
       "<Figure size 1000x800 with 0 Axes>"
      ]
     },
     "metadata": {},
     "output_type": "display_data"
    },
    {
     "data": {
      "text/plain": [
       "<Figure size 1000x800 with 0 Axes>"
      ]
     },
     "metadata": {},
     "output_type": "display_data"
    },
    {
     "data": {
      "text/plain": [
       "<Figure size 1000x800 with 0 Axes>"
      ]
     },
     "metadata": {},
     "output_type": "display_data"
    },
    {
     "data": {
      "text/plain": [
       "<Figure size 1000x800 with 0 Axes>"
      ]
     },
     "metadata": {},
     "output_type": "display_data"
    },
    {
     "data": {
      "text/plain": [
       "<Figure size 1000x800 with 0 Axes>"
      ]
     },
     "metadata": {},
     "output_type": "display_data"
    },
    {
     "data": {
      "text/plain": [
       "<Figure size 1000x800 with 0 Axes>"
      ]
     },
     "metadata": {},
     "output_type": "display_data"
    },
    {
     "data": {
      "text/plain": [
       "<Figure size 1000x800 with 0 Axes>"
      ]
     },
     "metadata": {},
     "output_type": "display_data"
    },
    {
     "data": {
      "text/plain": [
       "<Figure size 1000x800 with 0 Axes>"
      ]
     },
     "metadata": {},
     "output_type": "display_data"
    },
    {
     "data": {
      "text/plain": [
       "<Figure size 1000x800 with 0 Axes>"
      ]
     },
     "metadata": {},
     "output_type": "display_data"
    },
    {
     "data": {
      "text/plain": [
       "<Figure size 1000x800 with 0 Axes>"
      ]
     },
     "metadata": {},
     "output_type": "display_data"
    },
    {
     "data": {
      "text/plain": [
       "<Figure size 1000x800 with 0 Axes>"
      ]
     },
     "metadata": {},
     "output_type": "display_data"
    },
    {
     "data": {
      "text/plain": [
       "<Figure size 1000x800 with 0 Axes>"
      ]
     },
     "metadata": {},
     "output_type": "display_data"
    },
    {
     "data": {
      "text/plain": [
       "<Figure size 1000x800 with 0 Axes>"
      ]
     },
     "metadata": {},
     "output_type": "display_data"
    },
    {
     "data": {
      "text/plain": [
       "<Figure size 1000x800 with 0 Axes>"
      ]
     },
     "metadata": {},
     "output_type": "display_data"
    },
    {
     "data": {
      "text/plain": [
       "<Figure size 1000x800 with 0 Axes>"
      ]
     },
     "metadata": {},
     "output_type": "display_data"
    },
    {
     "data": {
      "text/plain": [
       "<Figure size 1000x800 with 0 Axes>"
      ]
     },
     "metadata": {},
     "output_type": "display_data"
    },
    {
     "data": {
      "text/plain": [
       "<Figure size 1000x800 with 0 Axes>"
      ]
     },
     "metadata": {},
     "output_type": "display_data"
    },
    {
     "data": {
      "text/plain": [
       "<Figure size 1000x800 with 0 Axes>"
      ]
     },
     "metadata": {},
     "output_type": "display_data"
    },
    {
     "data": {
      "text/plain": [
       "<Figure size 1000x800 with 0 Axes>"
      ]
     },
     "metadata": {},
     "output_type": "display_data"
    },
    {
     "data": {
      "text/plain": [
       "<Figure size 1000x800 with 0 Axes>"
      ]
     },
     "metadata": {},
     "output_type": "display_data"
    },
    {
     "data": {
      "text/plain": [
       "<Figure size 1000x800 with 0 Axes>"
      ]
     },
     "metadata": {},
     "output_type": "display_data"
    },
    {
     "data": {
      "text/plain": [
       "<Figure size 1000x800 with 0 Axes>"
      ]
     },
     "metadata": {},
     "output_type": "display_data"
    },
    {
     "data": {
      "text/plain": [
       "<Figure size 1000x800 with 0 Axes>"
      ]
     },
     "metadata": {},
     "output_type": "display_data"
    },
    {
     "data": {
      "text/plain": [
       "<Figure size 1000x800 with 0 Axes>"
      ]
     },
     "metadata": {},
     "output_type": "display_data"
    },
    {
     "data": {
      "text/plain": [
       "<Figure size 1000x800 with 0 Axes>"
      ]
     },
     "metadata": {},
     "output_type": "display_data"
    },
    {
     "data": {
      "text/plain": [
       "<Figure size 1000x800 with 0 Axes>"
      ]
     },
     "metadata": {},
     "output_type": "display_data"
    },
    {
     "data": {
      "text/plain": [
       "<Figure size 1000x800 with 0 Axes>"
      ]
     },
     "metadata": {},
     "output_type": "display_data"
    },
    {
     "data": {
      "text/plain": [
       "<Figure size 1000x800 with 0 Axes>"
      ]
     },
     "metadata": {},
     "output_type": "display_data"
    },
    {
     "data": {
      "text/plain": [
       "<Figure size 1000x800 with 0 Axes>"
      ]
     },
     "metadata": {},
     "output_type": "display_data"
    },
    {
     "data": {
      "text/plain": [
       "<Figure size 1000x800 with 0 Axes>"
      ]
     },
     "metadata": {},
     "output_type": "display_data"
    },
    {
     "data": {
      "text/plain": [
       "<Figure size 1000x800 with 0 Axes>"
      ]
     },
     "metadata": {},
     "output_type": "display_data"
    },
    {
     "data": {
      "text/plain": [
       "<Figure size 1000x800 with 0 Axes>"
      ]
     },
     "metadata": {},
     "output_type": "display_data"
    },
    {
     "data": {
      "text/plain": [
       "<Figure size 1000x800 with 0 Axes>"
      ]
     },
     "metadata": {},
     "output_type": "display_data"
    },
    {
     "data": {
      "text/plain": [
       "<Figure size 1000x800 with 0 Axes>"
      ]
     },
     "metadata": {},
     "output_type": "display_data"
    },
    {
     "data": {
      "text/plain": [
       "<Figure size 1000x800 with 0 Axes>"
      ]
     },
     "metadata": {},
     "output_type": "display_data"
    },
    {
     "data": {
      "text/plain": [
       "<Figure size 1000x800 with 0 Axes>"
      ]
     },
     "metadata": {},
     "output_type": "display_data"
    },
    {
     "data": {
      "text/plain": [
       "<Figure size 1000x800 with 0 Axes>"
      ]
     },
     "metadata": {},
     "output_type": "display_data"
    },
    {
     "data": {
      "text/plain": [
       "<Figure size 1000x800 with 0 Axes>"
      ]
     },
     "metadata": {},
     "output_type": "display_data"
    },
    {
     "data": {
      "text/plain": [
       "<Figure size 1000x800 with 0 Axes>"
      ]
     },
     "metadata": {},
     "output_type": "display_data"
    },
    {
     "data": {
      "text/plain": [
       "<Figure size 1000x800 with 0 Axes>"
      ]
     },
     "metadata": {},
     "output_type": "display_data"
    },
    {
     "data": {
      "text/plain": [
       "<Figure size 1000x800 with 0 Axes>"
      ]
     },
     "metadata": {},
     "output_type": "display_data"
    },
    {
     "data": {
      "text/plain": [
       "<Figure size 1000x800 with 0 Axes>"
      ]
     },
     "metadata": {},
     "output_type": "display_data"
    },
    {
     "data": {
      "text/plain": [
       "<Figure size 1000x800 with 0 Axes>"
      ]
     },
     "metadata": {},
     "output_type": "display_data"
    },
    {
     "data": {
      "text/plain": [
       "<Figure size 1000x800 with 0 Axes>"
      ]
     },
     "metadata": {},
     "output_type": "display_data"
    },
    {
     "data": {
      "text/plain": [
       "<Figure size 1000x800 with 0 Axes>"
      ]
     },
     "metadata": {},
     "output_type": "display_data"
    },
    {
     "data": {
      "text/plain": [
       "<Figure size 1000x800 with 0 Axes>"
      ]
     },
     "metadata": {},
     "output_type": "display_data"
    },
    {
     "data": {
      "text/plain": [
       "<Figure size 1000x800 with 0 Axes>"
      ]
     },
     "metadata": {},
     "output_type": "display_data"
    },
    {
     "data": {
      "text/plain": [
       "<Figure size 1000x800 with 0 Axes>"
      ]
     },
     "metadata": {},
     "output_type": "display_data"
    },
    {
     "data": {
      "text/plain": [
       "<Figure size 1000x800 with 0 Axes>"
      ]
     },
     "metadata": {},
     "output_type": "display_data"
    },
    {
     "data": {
      "text/plain": [
       "<Figure size 1000x800 with 0 Axes>"
      ]
     },
     "metadata": {},
     "output_type": "display_data"
    },
    {
     "data": {
      "text/plain": [
       "<Figure size 1000x800 with 0 Axes>"
      ]
     },
     "metadata": {},
     "output_type": "display_data"
    },
    {
     "data": {
      "text/plain": [
       "<Figure size 1000x800 with 0 Axes>"
      ]
     },
     "metadata": {},
     "output_type": "display_data"
    },
    {
     "data": {
      "text/plain": [
       "<Figure size 1000x800 with 0 Axes>"
      ]
     },
     "metadata": {},
     "output_type": "display_data"
    },
    {
     "data": {
      "text/plain": [
       "<Figure size 1000x800 with 0 Axes>"
      ]
     },
     "metadata": {},
     "output_type": "display_data"
    },
    {
     "data": {
      "text/plain": [
       "<Figure size 1000x800 with 0 Axes>"
      ]
     },
     "metadata": {},
     "output_type": "display_data"
    },
    {
     "data": {
      "text/plain": [
       "<Figure size 1000x800 with 0 Axes>"
      ]
     },
     "metadata": {},
     "output_type": "display_data"
    },
    {
     "data": {
      "text/plain": [
       "<Figure size 1000x800 with 0 Axes>"
      ]
     },
     "metadata": {},
     "output_type": "display_data"
    },
    {
     "data": {
      "text/plain": [
       "<Figure size 1000x800 with 0 Axes>"
      ]
     },
     "metadata": {},
     "output_type": "display_data"
    },
    {
     "data": {
      "text/plain": [
       "<Figure size 1000x800 with 0 Axes>"
      ]
     },
     "metadata": {},
     "output_type": "display_data"
    },
    {
     "data": {
      "text/plain": [
       "<Figure size 1000x800 with 0 Axes>"
      ]
     },
     "metadata": {},
     "output_type": "display_data"
    },
    {
     "data": {
      "text/plain": [
       "<Figure size 1000x800 with 0 Axes>"
      ]
     },
     "metadata": {},
     "output_type": "display_data"
    },
    {
     "data": {
      "text/plain": [
       "<Figure size 1000x800 with 0 Axes>"
      ]
     },
     "metadata": {},
     "output_type": "display_data"
    },
    {
     "data": {
      "image/png": "[encoded data removed]",
      "text/plain": [
       "<Figure size 1000x800 with 2 Axes>"
      ]
     },
     "metadata": {},
     "output_type": "display_data"
    }
   ],
   "source": [
    "# for model in \n",
    "# accuracy_list, precision_list, recall_list, f1_list, tps, tns, fps, fns = train_net(\"googlenet\")\n",
    "model_names = [\n",
    "    \"resnet50\",\n",
    "    \"resnet18\", \n",
    "    \"alexnet\", \n",
    "    \"vgg16\",\n",
    "    \"densenet\", \n",
    "    \"inception\", \n",
    "    \"googlenet\", \n",
    "    \"resnext50_32x4d\", \n",
    "    \"wide_resnet50_2\"\n",
    "]\n",
    "acc_map = {}\n",
    "pre_map = {}\n",
    "rec_map = {}\n",
    "f1_map = {}\n",
    "tps_map = {}\n",
    "tns_map = {}\n",
    "fps_map = {}\n",
    "fns_map = {}\n",
    "mis_total_map = {}\n",
    "for model_name in model_names:\n",
    "    print(f\"training {model_name}...\")\n",
    "    current_date = datetime.now().strftime('%Y-%m-%d')\n",
    "    os.makedirs(f\"./output/tl/{current_date}/{model_name}\", exist_ok=True)\n",
    "    show_ = False\n",
    "    accuracy_list, precision_list, recall_list, f1_list, tps, tns, fps, fns, confusion_matrix_list = train_net(model_name)\n",
    "    plot_metric(accuracy_list, 'Accuracy', model=model_name, save=True, show=show_, output=f\"output/tl/{current_date}\", num_epochs=num_epochs)\n",
    "    plot_metric(precision_list, 'Precision', model=model_name, save=True, show=show_,output=f\"output/tl/{current_date}\", num_epochs=num_epochs)\n",
    "    plot_metric(recall_list, 'Recall', model=model_name, save=True, show=show_,output=f\"output/tl/{current_date}\", num_epochs=num_epochs)\n",
    "    plot_metric(f1_list, 'F1 Score', model=model_name, save=True, show=show_,output=f\"output/tl/{current_date}\", num_epochs=num_epochs)\n",
    "    for time in [1, 20, 40, 60, 80, 100, 120, 140, 160, 180, 200, 220, 240, 260, 280, 289]:\n",
    "    # for time in [1]:\n",
    "        plot_confusion_matrix(confusion_matrix_list, time, save=True, show=show_,output=f\"./output/tl/{current_date}/{model_name}\")\n",
    "    # acc_map[model_name] = accuracy_list\n",
    "    # pre_map[model_name] = precision_list\n",
    "    # rec_map[model_name] = recall_list\n",
    "    # f1_map[model_name] = f1_list\n",
    "    # tps_map[model_name] = tps\n",
    "    # tns_map[model_name] = tns\n",
    "    # fps_map[model_name] = fps\n",
    "    # fns_map[model_name] = fns\n",
    "\n",
    "    print(f\"{model_name} average accuracy:\", sum(accuracy_list) / len(accuracy_list))\n",
    "\n",
    "    mis_map = write_result(model_name, accuracy_list, precision_list, recall_list, f1_list, tps, tns, fps, fns, confusion_matrix_list)\n",
    "    if not mis_total_map:\n",
    "        mis_total_map = mis_map\n",
    "    else:\n",
    "        mis_total_map  = add_dicts(mis_total_map, mis_map)\n",
    "    # print(f\"{model_name} misclassified map: {mis_map}\")\n",
    "    print(f\"total map: {mis_total_map}\")"
   ]
  },
  {
   "cell_type": "code",
   "execution_count": 15,
   "id": "bd2150d8-0fc3-4d95-807b-fe31a8b1fe10",
   "metadata": {},
   "outputs": [],
   "source": [
    "accuracy_list =[1.0, 0.9166666666666666, 1.0, 1.0, 1.0, 1.0, 0.9166666666666666, 0.9166666666666666, 1.0, 1.0, 0.8333333333333334, 0.8333333333333334, 0.8333333333333334, 0.8333333333333334, 0.75, 0.8333333333333334, 0.8333333333333334, 0.6666666666666666, 0.8333333333333334, 0.9166666666666666, 0.8333333333333334, 0.8333333333333334, 0.8333333333333334, 0.8333333333333334, 0.8333333333333334, 0.9166666666666666, 0.75, 0.8333333333333334, 0.6666666666666666, 0.5833333333333334, 0.6666666666666666, 0.6666666666666666, 0.75, 1.0, 0.9166666666666666, 0.75, 0.9166666666666666, 0.8333333333333334, 0.9166666666666666, 0.9166666666666666, 0.75, 0.8333333333333334, 0.75, 0.6666666666666666, 0.8333333333333334, 0.9166666666666666, 0.8333333333333334, 0.75, 0.6666666666666666, 0.8333333333333334, 0.8333333333333334, 0.9166666666666666, 0.8333333333333334, 0.8333333333333334, 0.6666666666666666, 0.8333333333333334, 0.8333333333333334, 0.75, 0.6666666666666666, 0.75, 0.8333333333333334, 0.8333333333333334, 0.9166666666666666, 0.8333333333333334, 0.75, 0.75, 0.6666666666666666, 0.75, 0.8333333333333334, 0.75, 0.9166666666666666, 0.9166666666666666, 0.9166666666666666, 0.8333333333333334, 0.9166666666666666, 0.75, 0.8333333333333334, 0.9166666666666666, 0.8333333333333334, 0.8333333333333334, 0.8333333333333334, 0.8333333333333334, 0.9166666666666666, 0.8333333333333334, 0.9166666666666666, 0.9166666666666666, 0.8333333333333334, 0.9166666666666666, 0.9166666666666666, 0.9166666666666666, 0.75, 0.9166666666666666, 0.8333333333333334, 0.9166666666666666, 0.8333333333333334, 0.9166666666666666, 0.8333333333333334, 0.8333333333333334, 0.75, 0.75, 0.8333333333333334, 0.8333333333333334, 0.8333333333333334, 0.8333333333333334, 0.9166666666666666, 1.0, 0.9166666666666666, 0.9166666666666666, 0.9166666666666666, 0.9166666666666666, 0.8333333333333334, 0.8333333333333334, 1.0, 1.0, 0.9166666666666666, 0.9166666666666666, 1.0, 1.0, 1.0, 0.9166666666666666, 0.9166666666666666, 0.9166666666666666, 0.8333333333333334, 1.0, 1.0, 0.9166666666666666, 0.9166666666666666, 0.9166666666666666, 0.9166666666666666, 0.9166666666666666, 0.8333333333333334, 0.75, 0.8333333333333334, 0.9166666666666666, 1.0, 0.9166666666666666, 1.0, 1.0, 0.9166666666666666, 0.9166666666666666, 1.0, 1.0, 1.0, 1.0, 1.0, 1.0, 0.9166666666666666, 1.0, 0.9166666666666666, 1.0, 1.0, 1.0, 0.9166666666666666, 0.9166666666666666, 0.9166666666666666, 0.8333333333333334, 1.0, 1.0, 0.9166666666666666, 0.9166666666666666, 1.0, 1.0, 1.0, 0.8333333333333334, 0.9166666666666666, 1.0, 0.9166666666666666, 0.9166666666666666, 0.8333333333333334, 0.9166666666666666, 0.8333333333333334, 0.9166666666666666, 0.9166666666666666, 0.9166666666666666, 0.9166666666666666, 0.9166666666666666, 0.8333333333333334, 0.8333333333333334, 0.8333333333333334, 0.9166666666666666, 0.9166666666666666, 0.8333333333333334, 0.8333333333333334, 0.8333333333333334, 0.9166666666666666, 0.9166666666666666, 0.8333333333333334, 0.6666666666666666, 0.8333333333333334, 0.8333333333333334, 0.8333333333333334, 0.9166666666666666, 0.8333333333333334, 1.0, 1.0, 1.0, 0.9166666666666666, 1.0, 0.9166666666666666, 0.9166666666666666, 1.0, 0.9166666666666666, 1.0, 0.8333333333333334, 1.0, 0.8333333333333334, 0.9166666666666666, 0.9166666666666666, 0.9166666666666666, 0.9166666666666666, 1.0, 1.0, 1.0, 0.9166666666666666, 1.0, 0.8333333333333334, 0.9166666666666666, 0.9166666666666666, 1.0, 0.8333333333333334, 0.9166666666666666, 0.8333333333333334, 0.8333333333333334, 0.8333333333333334, 0.9166666666666666, 0.9166666666666666, 0.9166666666666666, 0.9166666666666666, 0.9166666666666666, 0.8333333333333334, 0.9166666666666666, 1.0, 1.0, 0.9166666666666666, 0.9166666666666666, 0.9166666666666666, 1.0, 0.9166666666666666, 0.8333333333333334, 0.75, 0.75, 0.9166666666666666, 1.0, 0.9166666666666666, 1.0, 1.0, 0.8333333333333334, 1.0, 0.9166666666666666, 0.8333333333333334, 0.8333333333333334, 1.0, 0.75, 0.9166666666666666, 0.75, 0.9166666666666666, 0.9166666666666666, 0.9166666666666666, 0.9166666666666666, 1.0, 1.0, 1.0, 0.9166666666666666, 1.0, 0.8333333333333334, 0.9166666666666666, 1.0, 0.9166666666666666, 1.0, 1.0, 0.8333333333333334, 1.0, 0.9166666666666666, 1.0, 1.0, 0.9166666666666666, 1.0, 1.0, 1.0, 1.0, 1.0, 1.0, 0.9166666666666666, 0.9166666666666666, 1.0, 0.9166666666666666, 0.8333333333333334, 1.0, 1.0]\n"
   ]
  },
  {
   "cell_type": "code",
   "execution_count": 16,
   "id": "64a43601-9782-422f-9381-23503b739b14",
   "metadata": {},
   "outputs": [],
   "source": [
    "precision_list =[1.0, 0.95, 1.0, 1.0, 1.0, 1.0, 0.95, 0.9333333333333332, 1.0, 1.0, 0.8666666666666666, 0.8666666666666666, 0.8666666666666666, 0.85, 0.8333333333333333, 0.8666666666666666, 0.8666666666666666, 0.7, 0.8833333333333334, 0.9333333333333332, 0.8833333333333332, 0.8833333333333334, 0.8833333333333334, 0.9, 0.8333333333333333, 0.9333333333333332, 0.8, 0.85, 0.6833333333333333, 0.5533333333333333, 0.67, 0.62, 0.75, 1.0, 0.9333333333333332, 0.75, 0.95, 0.8666666666666666, 0.95, 0.9333333333333333, 0.8800000000000001, 0.9, 0.8333333333333333, 0.75, 0.9199999999999999, 0.95, 0.8666666666666666, 0.8333333333333334, 0.7333333333333333, 0.8666666666666666, 0.8666666666666666, 0.9333333333333333, 0.85, 0.85, 0.75, 0.85, 0.85, 0.7666666666666666, 0.6333333333333333, 0.7666666666666666, 0.85, 0.8666666666666666, 0.9333333333333333, 0.85, 0.7833333333333333, 0.7833333333333333, 0.6533333333333333, 0.6533333333333333, 0.85, 0.8166666666666667, 0.9333333333333332, 0.95, 0.95, 0.9, 0.95, 0.7833333333333333, 0.8666666666666666, 0.95, 0.8833333333333332, 0.8333333333333333, 0.8666666666666666, 0.9, 0.9333333333333332, 0.9, 0.9333333333333332, 0.95, 0.72, 0.95, 0.95, 0.9333333333333332, 0.8333333333333333, 0.9333333333333332, 0.9, 0.95, 0.8666666666666666, 0.9333333333333332, 0.72, 0.72, 0.6333333333333333, 0.6333333333333333, 0.8833333333333332, 0.72, 0.8666666666666666, 0.72, 0.9333333333333332, 1.0, 0.95, 0.9333333333333332, 0.95, 0.95, 0.8666666666666666, 0.8666666666666666, 1.0, 1.0, 0.95, 0.95, 1.0, 1.0, 1.0, 0.9333333333333332, 0.95, 0.95, 0.72, 1.0, 1.0, 0.95, 0.95, 0.95, 0.95, 0.95, 0.8666666666666666, 0.6333333333333333, 0.72, 0.95, 1.0, 0.95, 1.0, 1.0, 0.95, 0.95, 1.0, 1.0, 1.0, 1.0, 1.0, 1.0, 0.95, 1.0, 0.95, 1.0, 1.0, 1.0, 0.9333333333333332, 0.95, 0.95, 0.8666666666666666, 1.0, 1.0, 0.9333333333333332, 0.9333333333333332, 1.0, 1.0, 1.0, 0.9, 0.95, 1.0, 0.9333333333333332, 0.9333333333333332, 0.8666666666666666, 0.95, 0.8666666666666666, 0.95, 0.95, 0.95, 0.95, 0.95, 0.8666666666666666, 0.8666666666666666, 0.8666666666666666, 0.9333333333333332, 0.9333333333333332, 0.9, 0.8666666666666666, 0.8666666666666666, 0.9333333333333332, 0.95, 0.8666666666666666, 0.5666666666666667, 0.8666666666666666, 0.8666666666666666, 0.8666666666666666, 0.9333333333333332, 0.8666666666666666, 1.0, 1.0, 1.0, 0.9333333333333332, 1.0, 0.9333333333333332, 0.95, 1.0, 0.9333333333333332, 1.0, 0.8333333333333333, 1.0, 0.8333333333333333, 0.9333333333333332, 0.9333333333333332, 0.9333333333333332, 0.95, 1.0, 1.0, 1.0, 0.9333333333333332, 1.0, 0.8666666666666666, 0.9333333333333332, 0.9333333333333332, 1.0, 0.8666666666666666, 0.9333333333333332, 0.8666666666666666, 0.8666666666666666, 0.9, 0.9333333333333332, 0.9333333333333332, 0.9333333333333332, 0.9333333333333332, 0.95, 0.9, 0.9333333333333332, 1.0, 1.0, 0.9333333333333332, 0.9333333333333332, 0.9333333333333332, 1.0, 0.9333333333333332, 0.8833333333333332, 0.85, 0.8, 0.95, 1.0, 0.9333333333333332, 1.0, 1.0, 0.8666666666666666, 1.0, 0.9333333333333332, 0.9, 0.9, 1.0, 0.6166666666666666, 0.95, 0.6333333333333333, 0.9333333333333332, 0.9333333333333332, 0.9333333333333332, 0.9333333333333332, 1.0, 1.0, 1.0, 0.95, 1.0, 0.9, 0.95, 1.0, 0.95, 1.0, 1.0, 0.8833333333333332, 1.0, 0.9333333333333332, 1.0, 1.0, 0.95, 1.0, 1.0, 1.0, 1.0, 1.0, 1.0, 0.9333333333333332, 0.95, 1.0, 0.95, 0.6833333333333333, 1.0, 1.0]"
   ]
  },
  {
   "cell_type": "code",
   "execution_count": 17,
   "id": "af92d004-49ee-4819-96e7-427a9faf2b42",
   "metadata": {},
   "outputs": [],
   "source": [
    "recall_list = [1.0, 0.9, 1.0, 1.0, 1.0, 1.0, 0.9, 0.9333333333333332, 1.0, 1.0, 0.8333333333333333, 0.8333333333333333, 0.8666666666666666, 0.8333333333333333, 0.7666666666666666, 0.8333333333333333, 0.8333333333333333, 0.6666666666666666, 0.8333333333333333, 0.9333333333333332, 0.8333333333333333, 0.8, 0.8333333333333333, 0.8666666666666666, 0.8333333333333333, 0.9, 0.7, 0.8333333333333333, 0.6333333333333333, 0.5333333333333333, 0.6, 0.6333333333333333, 0.7333333333333333, 1.0, 0.9333333333333332, 0.7333333333333333, 0.9, 0.8333333333333333, 0.9, 0.9, 0.7666666666666666, 0.8333333333333333, 0.7333333333333333, 0.6333333333333333, 0.8333333333333333, 0.9333333333333332, 0.8333333333333333, 0.7666666666666666, 0.6666666666666666, 0.8333333333333333, 0.8333333333333333, 0.9333333333333332, 0.8333333333333333, 0.8333333333333333, 0.6333333333333333, 0.8333333333333333, 0.8333333333333333, 0.7666666666666666, 0.6666666666666666, 0.7666666666666666, 0.8333333333333333, 0.8333333333333333, 0.9333333333333332, 0.8333333333333333, 0.7333333333333333, 0.7333333333333333, 0.6333333333333333, 0.7, 0.8333333333333333, 0.7333333333333333, 0.9, 0.9, 0.9, 0.8, 0.9, 0.7333333333333333, 0.8333333333333333, 0.9, 0.8, 0.8333333333333333, 0.8333333333333333, 0.8, 0.9, 0.8333333333333333, 0.9333333333333332, 0.9, 0.8, 0.9, 0.9, 0.9, 0.7333333333333333, 0.9, 0.8, 0.9, 0.8333333333333333, 0.9, 0.8, 0.8, 0.7333333333333333, 0.7333333333333333, 0.8, 0.8, 0.8333333333333333, 0.8, 0.9333333333333332, 1.0, 0.9, 0.9333333333333332, 0.9, 0.9, 0.8333333333333333, 0.8333333333333333, 1.0, 1.0, 0.9, 0.9, 1.0, 1.0, 1.0, 0.9333333333333332, 0.9, 0.9, 0.8, 1.0, 1.0, 0.9, 0.9, 0.9, 0.9, 0.9, 0.8333333333333333, 0.7333333333333333, 0.8, 0.9, 1.0, 0.9, 1.0, 1.0, 0.9, 0.9, 1.0, 1.0, 1.0, 1.0, 1.0, 1.0, 0.9, 1.0, 0.9, 1.0, 1.0, 1.0, 0.9333333333333332, 0.9, 0.9, 0.8333333333333333, 1.0, 1.0, 0.9333333333333332, 0.9333333333333332, 1.0, 1.0, 1.0, 0.8666666666666666, 0.9, 1.0, 0.9333333333333332, 0.9333333333333332, 0.8333333333333333, 0.9, 0.8333333333333333, 0.9, 0.9, 0.9, 0.9, 0.9, 0.8333333333333333, 0.8333333333333333, 0.8333333333333333, 0.9333333333333332, 0.9333333333333332, 0.8666666666666666, 0.8333333333333333, 0.8333333333333333, 0.9333333333333332, 0.9, 0.8333333333333333, 0.6666666666666666, 0.8333333333333333, 0.8333333333333333, 0.8333333333333333, 0.9333333333333332, 0.8333333333333333, 1.0, 1.0, 1.0, 0.9333333333333332, 1.0, 0.9333333333333332, 0.9, 1.0, 0.9333333333333332, 1.0, 0.8333333333333333, 1.0, 0.8333333333333333, 0.9333333333333332, 0.9333333333333332, 0.9333333333333332, 0.9, 1.0, 1.0, 1.0, 0.9333333333333332, 1.0, 0.8333333333333333, 0.9333333333333332, 0.9333333333333332, 1.0, 0.8333333333333333, 0.9333333333333332, 0.8333333333333333, 0.8333333333333333, 0.8666666666666666, 0.9333333333333332, 0.9333333333333332, 0.9333333333333332, 0.9333333333333332, 0.9, 0.8666666666666666, 0.9333333333333332, 1.0, 1.0, 0.9333333333333332, 0.9333333333333332, 0.9333333333333332, 1.0, 0.9333333333333332, 0.8333333333333333, 0.7666666666666666, 0.7333333333333333, 0.9, 1.0, 0.9333333333333332, 1.0, 1.0, 0.8333333333333333, 1.0, 0.9333333333333332, 0.8666666666666666, 0.8666666666666666, 1.0, 0.7333333333333333, 0.9, 0.7333333333333333, 0.9333333333333332, 0.9333333333333332, 0.9333333333333332, 0.9333333333333332, 1.0, 1.0, 1.0, 0.9, 1.0, 0.8, 0.9, 1.0, 0.9, 1.0, 1.0, 0.8333333333333333, 1.0, 0.9333333333333332, 1.0, 1.0, 0.9, 1.0, 1.0, 1.0, 1.0, 1.0, 1.0, 0.9, 0.9, 1.0, 0.9, 0.8, 1.0, 1.0]"
   ]
  },
  {
   "cell_type": "code",
   "execution_count": 18,
   "id": "174d958f-9206-4ca1-b3ad-c1de3bcd4c56",
   "metadata": {},
   "outputs": [],
   "source": [
    "f1_list =  [1.0, 0.9047619047619048, 1.0, 1.0, 1.0, 1.0, 0.9047619047619048, 0.9199999999999999, 1.0, 1.0, 0.8266666666666665, 0.8266666666666665, 0.8400000000000001, 0.8314285714285713, 0.76, 0.8266666666666665, 0.8266666666666665, 0.6599999999999999, 0.8247619047619047, 0.9199999999999999, 0.8247619047619048, 0.7980952380952381, 0.8247619047619047, 0.8533333333333333, 0.8333333333333333, 0.8933333333333333, 0.7095238095238094, 0.8314285714285715, 0.638095238095238, 0.5166666666666666, 0.588095238095238, 0.61, 0.7314285714285715, 1.0, 0.9199999999999999, 0.7314285714285715, 0.9047619047619048, 0.8266666666666668, 0.9047619047619048, 0.8933333333333333, 0.7676190476190476, 0.8266666666666668, 0.7333333333333332, 0.6514285714285714, 0.8433333333333334, 0.9314285714285715, 0.8133333333333332, 0.7466666666666667, 0.6799999999999999, 0.8266666666666665, 0.8266666666666665, 0.9199999999999999, 0.8314285714285715, 0.8314285714285715, 0.6514285714285714, 0.8314285714285715, 0.8314285714285715, 0.7533333333333333, 0.6342857142857143, 0.7533333333333333, 0.8314285714285715, 0.8266666666666668, 0.9199999999999999, 0.8314285714285715, 0.738095238095238, 0.738095238095238, 0.6033333333333333, 0.6433333333333333, 0.8314285714285715, 0.7314285714285714, 0.8933333333333333, 0.9047619047619048, 0.9047619047619048, 0.8095238095238095, 0.9047619047619048, 0.738095238095238, 0.8266666666666668, 0.9047619047619048, 0.798095238095238, 0.82, 0.8266666666666668, 0.8095238095238095, 0.8933333333333333, 0.8266666666666668, 0.9199999999999999, 0.9047619047619048, 0.75, 0.9047619047619048, 0.9047619047619048, 0.8933333333333333, 0.7333333333333332, 0.8933333333333333, 0.7999999999999999, 0.9047619047619048, 0.8266666666666668, 0.8933333333333333, 0.75, 0.75, 0.6666666666666666, 0.6742857142857143, 0.798095238095238, 0.75, 0.8266666666666668, 0.75, 0.9199999999999999, 1.0, 0.9047619047619048, 0.9199999999999999, 0.9047619047619048, 0.9047619047619048, 0.8266666666666668, 0.8266666666666668, 1.0, 1.0, 0.9047619047619048, 0.9047619047619048, 1.0, 1.0, 1.0, 0.9199999999999999, 0.9047619047619048, 0.9047619047619048, 0.75, 1.0, 1.0, 0.9047619047619048, 0.9047619047619048, 0.9047619047619048, 0.9047619047619048, 0.9047619047619048, 0.8266666666666668, 0.6742857142857143, 0.75, 0.9047619047619048, 1.0, 0.9047619047619048, 1.0, 1.0, 0.9047619047619048, 0.9047619047619048, 1.0, 1.0, 1.0, 1.0, 1.0, 1.0, 0.9047619047619048, 1.0, 0.9047619047619048, 1.0, 1.0, 1.0, 0.9199999999999999, 0.9047619047619048, 0.9047619047619048, 0.8266666666666668, 1.0, 1.0, 0.9199999999999999, 0.9199999999999999, 1.0, 1.0, 1.0, 0.8333333333333333, 0.9047619047619048, 1.0, 0.9199999999999999, 0.9199999999999999, 0.8266666666666668, 0.9047619047619048, 0.8266666666666668, 0.9047619047619048, 0.9047619047619048, 0.9047619047619048, 0.9047619047619048, 0.9047619047619048, 0.8266666666666668, 0.8266666666666668, 0.8266666666666668, 0.9199999999999999, 0.9199999999999999, 0.8333333333333333, 0.8266666666666668, 0.8266666666666668, 0.9199999999999999, 0.9047619047619048, 0.8266666666666668, 0.6, 0.8266666666666668, 0.8266666666666668, 0.8266666666666668, 0.9199999999999999, 0.8266666666666668, 1.0, 1.0, 1.0, 0.9199999999999999, 1.0, 0.9199999999999999, 0.9047619047619048, 1.0, 0.9199999999999999, 1.0, 0.8333333333333333, 1.0, 0.8333333333333333, 0.9199999999999999, 0.9199999999999999, 0.9199999999999999, 0.9047619047619048, 1.0, 1.0, 1.0, 0.9199999999999999, 1.0, 0.8266666666666668, 0.9199999999999999, 0.9199999999999999, 1.0, 0.8266666666666668, 0.9199999999999999, 0.8266666666666668, 0.8266666666666668, 0.8333333333333333, 0.9199999999999999, 0.9199999999999999, 0.9199999999999999, 0.9199999999999999, 0.9047619047619048, 0.8333333333333333, 0.9199999999999999, 1.0, 1.0, 0.9199999999999999, 0.9199999999999999, 0.9199999999999999, 1.0, 0.9199999999999999, 0.8247619047619048, 0.738095238095238, 0.7476190476190476, 0.9047619047619048, 1.0, 0.9199999999999999, 1.0, 1.0, 0.8266666666666668, 1.0, 0.9199999999999999, 0.8333333333333333, 0.8333333333333333, 1.0, 0.6647619047619048, 0.9047619047619048, 0.6742857142857143, 0.9199999999999999, 0.9199999999999999, 0.9199999999999999, 0.9199999999999999, 1.0, 1.0, 1.0, 0.9047619047619048, 1.0, 0.8095238095238095, 0.9047619047619048, 1.0, 0.9047619047619048, 1.0, 1.0, 0.8247619047619048, 1.0, 0.9199999999999999, 1.0, 1.0, 0.9047619047619048, 1.0, 1.0, 1.0, 1.0, 1.0, 1.0, 0.8933333333333333, 0.9047619047619048, 1.0, 0.9047619047619048, 0.7314285714285715, 1.0, 1.0]"
   ]
  },
  {
   "cell_type": "code",
   "execution_count": 8,
   "id": "de88e486-77e4-450a-b849-8b78621a45a1",
   "metadata": {},
   "outputs": [],
   "source": [
    "accuracy_list =[0.6666666666666666, 0.75, 0.6666666666666666, 0.8333333333333334, 0.9166666666666666, 0.75, 1.0, 0.9166666666666666, 0.9166666666666666, 0.8333333333333334, 0.8333333333333334, 0.8333333333333334, 0.8333333333333334, 0.6666666666666666, 0.75, 0.5833333333333334, 0.6666666666666666, 0.75, 0.75, 0.9166666666666666, 0.8333333333333334, 0.9166666666666666, 0.8333333333333334, 0.9166666666666666, 0.75, 0.8333333333333334, 0.6666666666666666, 0.4166666666666667, 0.6666666666666666, 0.75, 0.75, 0.75, 0.75, 0.8333333333333334, 0.8333333333333334, 0.9166666666666666, 0.9166666666666666, 0.9166666666666666, 0.9166666666666666, 1.0, 0.8333333333333334, 0.9166666666666666, 0.75, 0.75, 0.8333333333333334, 0.8333333333333334, 0.8333333333333334, 0.75, 0.75, 0.9166666666666666, 1.0, 0.9166666666666666, 0.75, 0.8333333333333334, 0.6666666666666666, 0.9166666666666666, 0.9166666666666666, 0.6666666666666666, 0.75, 0.6666666666666666, 0.9166666666666666, 0.6666666666666666, 0.75, 0.6666666666666666, 0.75, 0.8333333333333334, 0.9166666666666666, 0.75, 0.8333333333333334, 0.75, 0.6666666666666666, 0.75, 0.75, 0.75, 0.8333333333333334, 0.8333333333333334, 0.75, 0.8333333333333334, 0.8333333333333334, 0.8333333333333334, 0.8333333333333334, 1.0, 0.9166666666666666, 1.0, 0.8333333333333334, 0.75, 0.8333333333333334, 0.8333333333333334, 0.8333333333333334, 0.75, 0.8333333333333334, 0.8333333333333334, 0.9166666666666666, 0.8333333333333334, 0.75, 0.8333333333333334, 0.8333333333333334, 0.9166666666666666, 0.8333333333333334, 0.8333333333333334, 0.8333333333333334, 0.8333333333333334, 0.75, 0.8333333333333334, 0.9166666666666666, 0.8333333333333334, 0.8333333333333334, 0.9166666666666666, 0.9166666666666666, 0.9166666666666666, 1.0, 0.9166666666666666, 0.8333333333333334, 0.9166666666666666, 0.9166666666666666, 1.0, 0.8333333333333334, 0.9166666666666666, 0.9166666666666666, 0.8333333333333334, 0.9166666666666666, 0.75, 0.8333333333333334, 0.9166666666666666, 0.8333333333333334, 0.9166666666666666, 1.0, 0.8333333333333334, 0.9166666666666666, 0.8333333333333334, 0.9166666666666666, 0.8333333333333334, 0.75, 0.9166666666666666, 1.0, 0.8333333333333334, 0.9166666666666666, 0.9166666666666666, 0.9166666666666666, 0.8333333333333334, 0.9166666666666666, 0.75, 0.8333333333333334, 1.0, 1.0, 0.8333333333333334, 0.9166666666666666, 0.9166666666666666, 1.0, 1.0, 0.9166666666666666, 0.75, 0.9166666666666666, 1.0, 0.9166666666666666, 0.8333333333333334, 0.9166666666666666, 0.8333333333333334, 0.9166666666666666, 0.9166666666666666, 0.9166666666666666, 0.75, 0.75, 0.9166666666666666, 1.0, 0.9166666666666666, 0.9166666666666666, 0.9166666666666666, 0.5833333333333334, 1.0, 0.8333333333333334, 0.9166666666666666, 1.0, 1.0, 1.0, 1.0, 0.9166666666666666, 1.0, 0.9166666666666666, 0.9166666666666666, 0.9166666666666666, 1.0, 0.9166666666666666, 0.9166666666666666, 1.0, 0.9166666666666666, 1.0, 1.0, 0.9166666666666666, 0.9166666666666666, 1.0, 0.9166666666666666, 0.8333333333333334, 1.0, 0.9166666666666666, 1.0, 1.0, 0.9166666666666666, 1.0, 1.0, 1.0, 0.9166666666666666, 0.8333333333333334, 0.9166666666666666, 1.0, 1.0, 1.0, 1.0, 0.9166666666666666, 0.9166666666666666, 1.0, 0.9166666666666666, 0.9166666666666666, 1.0, 1.0, 0.8333333333333334, 0.75, 0.8333333333333334, 1.0, 1.0, 1.0, 1.0, 1.0, 1.0, 1.0, 1.0, 1.0, 1.0, 1.0, 0.9166666666666666, 0.9166666666666666, 0.9166666666666666, 0.9166666666666666, 1.0, 0.8333333333333334, 1.0, 0.75, 1.0, 0.9166666666666666, 0.9166666666666666, 0.9166666666666666, 0.9166666666666666, 1.0, 1.0, 1.0, 1.0, 0.9166666666666666, 1.0, 1.0, 0.9166666666666666, 0.9166666666666666, 0.9166666666666666, 1.0, 1.0, 0.9166666666666666, 0.8333333333333334, 1.0, 1.0, 1.0, 1.0, 1.0, 1.0, 0.9166666666666666, 1.0, 1.0, 1.0, 0.9166666666666666, 0.9166666666666666, 0.9166666666666666, 1.0, 0.8333333333333334, 0.9166666666666666, 1.0, 0.8333333333333334, 1.0, 1.0, 1.0, 1.0, 1.0, 0.9166666666666666, 1.0, 0.9166666666666666, 0.9166666666666666, 1.0, 0.9166666666666666, 0.9166666666666666, 1.0, 0.9166666666666666, 0.9166666666666666]\n",
    "precision_list =  [0.7666666666666666, 0.7666666666666666, 0.5333333333333333, 0.8833333333333332, 0.9333333333333333, 0.8333333333333333, 1.0, 0.95, 0.9333333333333333, 0.8333333333333333, 0.9199999999999999, 0.72, 0.8333333333333333, 0.5333333333333333, 0.67, 0.45, 0.5666666666666667, 0.7, 0.8, 0.9333333333333332, 0.8833333333333332, 0.95, 0.72, 0.9333333333333332, 0.6533333333333333, 0.8833333333333332, 0.6799999999999999, 0.35, 0.65, 0.8, 0.82, 0.7833333333333333, 0.72, 0.8333333333333333, 0.8666666666666666, 0.95, 0.95, 0.9333333333333332, 0.95, 1.0, 0.85, 0.9333333333333332, 0.62, 0.82, 0.9199999999999999, 0.8833333333333332, 0.8833333333333332, 0.62, 0.82, 0.95, 1.0, 0.95, 0.6533333333333333, 0.9199999999999999, 0.67, 0.95, 0.9333333333333333, 0.5833333333333333, 0.7, 0.72, 0.95, 0.5866666666666667, 0.9, 0.7, 0.72, 0.8833333333333332, 0.95, 0.7, 0.9199999999999999, 0.7, 0.48571428571428577, 0.7, 0.8533333333333333, 0.82, 0.72, 0.72, 0.6533333333333333, 0.8833333333333332, 0.9199999999999999, 0.72, 0.9, 1.0, 0.95, 1.0, 0.85, 0.8, 0.72, 0.85, 0.85, 0.7666666666666666, 0.85, 0.72, 0.95, 0.72, 0.8, 0.72, 0.8833333333333332, 0.95, 0.8666666666666666, 0.8666666666666666, 0.8666666666666666, 0.72, 0.6333333333333333, 0.72, 0.95, 0.72, 0.72, 0.95, 0.95, 0.95, 1.0, 0.95, 0.72, 0.95, 0.95, 1.0, 0.7, 0.95, 0.9333333333333333, 0.7, 0.95, 0.7666666666666666, 0.72, 0.95, 0.72, 0.95, 1.0, 0.85, 0.9333333333333332, 0.72, 0.95, 0.72, 0.6533333333333333, 0.95, 1.0, 0.72, 0.95, 0.95, 0.95, 0.72, 0.95, 0.6333333333333333, 0.72, 1.0, 1.0, 0.8666666666666666, 0.95, 0.95, 1.0, 1.0, 0.95, 0.7, 0.95, 1.0, 0.95, 0.8666666666666666, 0.9333333333333332, 0.8666666666666666, 0.95, 0.95, 0.95, 0.8, 0.6333333333333333, 0.95, 1.0, 0.95, 0.95, 0.95, 0.63, 1.0, 0.8666666666666666, 0.95, 1.0, 1.0, 1.0, 1.0, 0.95, 1.0, 0.95, 0.95, 0.95, 1.0, 0.95, 0.95, 1.0, 0.95, 1.0, 1.0, 0.9333333333333332, 0.9333333333333332, 1.0, 0.95, 0.8666666666666666, 1.0, 0.95, 1.0, 1.0, 0.95, 1.0, 1.0, 1.0, 0.95, 0.9199999999999999, 0.9333333333333332, 1.0, 1.0, 1.0, 1.0, 0.9333333333333332, 0.95, 1.0, 0.95, 0.95, 1.0, 1.0, 0.85, 0.7, 0.72, 1.0, 1.0, 1.0, 1.0, 1.0, 1.0, 1.0, 1.0, 1.0, 1.0, 1.0, 0.95, 0.95, 0.95, 0.9333333333333332, 1.0, 0.8666666666666666, 1.0, 0.6333333333333333, 1.0, 0.95, 0.95, 0.95, 0.95, 1.0, 1.0, 1.0, 1.0, 0.95, 1.0, 1.0, 0.95, 0.95, 0.95, 1.0, 1.0, 0.95, 0.8666666666666666, 1.0, 1.0, 1.0, 1.0, 1.0, 1.0, 0.9333333333333332, 1.0, 1.0, 1.0, 0.95, 0.95, 0.95, 1.0, 0.9, 0.95, 1.0, 0.9, 1.0, 1.0, 1.0, 1.0, 1.0, 0.9333333333333332, 1.0, 0.95, 0.95, 1.0, 0.95, 0.95, 1.0, 0.9333333333333332, 0.9333333333333332]\n",
    "recall_list = [0.7, 0.7666666666666666, 0.6333333333333333, 0.8333333333333333, 0.9, 0.7666666666666666, 1.0, 0.9, 0.9, 0.8333333333333333, 0.8, 0.8, 0.8333333333333333, 0.6333333333333333, 0.7, 0.5333333333333333, 0.6333333333333333, 0.7, 0.7333333333333333, 0.9333333333333332, 0.8333333333333333, 0.9, 0.8, 0.9333333333333332, 0.7333333333333333, 0.8, 0.6333333333333333, 0.36666666666666664, 0.6333333333333333, 0.7333333333333333, 0.7333333333333333, 0.7333333333333333, 0.7, 0.8333333333333333, 0.8333333333333333, 0.9, 0.9, 0.9333333333333332, 0.9, 1.0, 0.8, 0.9333333333333332, 0.7, 0.7333333333333333, 0.8, 0.8333333333333333, 0.8, 0.7, 0.7333333333333333, 0.9, 1.0, 0.9, 0.7, 0.8, 0.6, 0.9, 0.9, 0.6333333333333333, 0.7, 0.6333333333333333, 0.9, 0.6, 0.7333333333333333, 0.6333333333333333, 0.7, 0.8, 0.9, 0.7, 0.8333333333333333, 0.7, 0.6, 0.7, 0.7333333333333333, 0.7, 0.8, 0.8, 0.7, 0.8, 0.8, 0.8, 0.8, 1.0, 0.9, 1.0, 0.8333333333333333, 0.7333333333333333, 0.8, 0.8, 0.8333333333333333, 0.7333333333333333, 0.8, 0.8, 0.9, 0.8, 0.7333333333333333, 0.8, 0.8, 0.9, 0.8333333333333333, 0.8333333333333333, 0.8333333333333333, 0.8, 0.7333333333333333, 0.8, 0.9, 0.8, 0.8, 0.9, 0.9, 0.9, 1.0, 0.9, 0.8, 0.9, 0.9, 1.0, 0.8, 0.9, 0.9, 0.8, 0.9, 0.7333333333333333, 0.8, 0.9, 0.8, 0.9, 1.0, 0.8, 0.9333333333333332, 0.8, 0.9, 0.8, 0.7, 0.9, 1.0, 0.8, 0.9, 0.9, 0.9, 0.8, 0.9, 0.7333333333333333, 0.8, 1.0, 1.0, 0.8333333333333333, 0.9, 0.9, 1.0, 1.0, 0.9, 0.7, 0.9, 1.0, 0.9, 0.8333333333333333, 0.9333333333333332, 0.8333333333333333, 0.9, 0.9, 0.9, 0.7666666666666666, 0.7333333333333333, 0.9, 1.0, 0.9, 0.9, 0.9, 0.6, 1.0, 0.8333333333333333, 0.9, 1.0, 1.0, 1.0, 1.0, 0.9, 1.0, 0.9, 0.9, 0.9, 1.0, 0.9, 0.9, 1.0, 0.9, 1.0, 1.0, 0.9333333333333332, 0.9333333333333332, 1.0, 0.9, 0.8333333333333333, 1.0, 0.9, 1.0, 1.0, 0.9, 1.0, 1.0, 1.0, 0.9, 0.8, 0.9333333333333332, 1.0, 1.0, 1.0, 1.0, 0.9333333333333332, 0.9, 1.0, 0.9, 0.9, 1.0, 1.0, 0.8, 0.7, 0.8, 1.0, 1.0, 1.0, 1.0, 1.0, 1.0, 1.0, 1.0, 1.0, 1.0, 1.0, 0.9, 0.9, 0.9, 0.9333333333333332, 1.0, 0.8333333333333333, 1.0, 0.7333333333333333, 1.0, 0.9, 0.9, 0.9, 0.9, 1.0, 1.0, 1.0, 1.0, 0.9, 1.0, 1.0, 0.9, 0.9, 0.9, 1.0, 1.0, 0.9, 0.8333333333333333, 1.0, 1.0, 1.0, 1.0, 1.0, 1.0, 0.9333333333333332, 1.0, 1.0, 1.0, 0.9, 0.9, 0.9, 1.0, 0.8666666666666666, 0.9, 1.0, 0.8666666666666666, 1.0, 1.0, 1.0, 1.0, 1.0, 0.9333333333333332, 1.0, 0.9, 0.9, 1.0, 0.9, 0.9, 1.0, 0.9333333333333332, 0.9333333333333332]\n",
    "f1_list = [0.6733333333333333, 0.72, 0.5733333333333334, 0.8247619047619048, 0.8933333333333333, 0.7676190476190476, 1.0, 0.9047619047619048, 0.8933333333333333, 0.8333333333333333, 0.8166666666666667, 0.75, 0.8333333333333333, 0.5742857142857144, 0.6547619047619048, 0.48571428571428577, 0.5942857142857143, 0.6666666666666666, 0.7476190476190476, 0.9199999999999999, 0.8247619047619048, 0.9047619047619048, 0.75, 0.9199999999999999, 0.6699999999999999, 0.798095238095238, 0.6333333333333333, 0.35714285714285715, 0.6190476190476191, 0.7476190476190476, 0.7433333333333334, 0.7247619047619047, 0.6833333333333333, 0.8333333333333333, 0.8266666666666668, 0.9047619047619048, 0.9047619047619048, 0.9199999999999999, 0.9047619047619048, 1.0, 0.8047619047619048, 0.9199999999999999, 0.65, 0.7433333333333334, 0.8166666666666667, 0.8247619047619047, 0.798095238095238, 0.65, 0.7433333333333334, 0.9047619047619048, 1.0, 0.9047619047619048, 0.6433333333333333, 0.8166666666666667, 0.588095238095238, 0.9047619047619048, 0.8933333333333333, 0.5790476190476191, 0.6666666666666666, 0.6433333333333333, 0.9047619047619048, 0.5633333333333332, 0.76, 0.6266666666666667, 0.6833333333333333, 0.798095238095238, 0.9047619047619048, 0.6666666666666666, 0.8433333333333334, 0.6666666666666666, 0.52, 0.6666666666666666, 0.7366666666666666, 0.7166666666666666, 0.75, 0.75, 0.6433333333333333, 0.798095238095238, 0.8166666666666667, 0.75, 0.8095238095238095, 1.0, 0.9047619047619048, 1.0, 0.8314285714285715, 0.7476190476190476, 0.75, 0.8047619047619048, 0.8314285714285715, 0.7266666666666667, 0.8047619047619048, 0.75, 0.9047619047619048, 0.75, 0.7476190476190476, 0.75, 0.798095238095238, 0.9047619047619048, 0.8266666666666668, 0.8266666666666668, 0.8266666666666668, 0.75, 0.6742857142857143, 0.75, 0.9047619047619048, 0.75, 0.75, 0.9047619047619048, 0.9047619047619048, 0.9047619047619048, 1.0, 0.9047619047619048, 0.75, 0.9047619047619048, 0.9047619047619048, 1.0, 0.7428571428571429, 0.9047619047619048, 0.8933333333333333, 0.7428571428571429, 0.9047619047619048, 0.7266666666666667, 0.75, 0.9047619047619048, 0.75, 0.9047619047619048, 1.0, 0.8047619047619048, 0.9199999999999999, 0.75, 0.9047619047619048, 0.75, 0.6433333333333333, 0.9047619047619048, 1.0, 0.75, 0.9047619047619048, 0.9047619047619048, 0.9047619047619048, 0.75, 0.9047619047619048, 0.6742857142857143, 0.75, 1.0, 1.0, 0.8266666666666668, 0.9047619047619048, 0.9047619047619048, 1.0, 1.0, 0.9047619047619048, 0.6666666666666666, 0.9047619047619048, 1.0, 0.9047619047619048, 0.8266666666666668, 0.9199999999999999, 0.8266666666666668, 0.9047619047619048, 0.9047619047619048, 0.9047619047619048, 0.7466666666666666, 0.6742857142857143, 0.9047619047619048, 1.0, 0.9047619047619048, 0.9047619047619048, 0.9047619047619048, 0.5523809523809524, 1.0, 0.8266666666666668, 0.9047619047619048, 1.0, 1.0, 1.0, 1.0, 0.9047619047619048, 1.0, 0.9047619047619048, 0.9047619047619048, 0.9047619047619048, 1.0, 0.9047619047619048, 0.9047619047619048, 1.0, 0.9047619047619048, 1.0, 1.0, 0.9199999999999999, 0.9199999999999999, 1.0, 0.9047619047619048, 0.8266666666666668, 1.0, 0.9047619047619048, 1.0, 1.0, 0.9047619047619048, 1.0, 1.0, 1.0, 0.9047619047619048, 0.8166666666666667, 0.9199999999999999, 1.0, 1.0, 1.0, 1.0, 0.9199999999999999, 0.9047619047619048, 1.0, 0.9047619047619048, 0.9047619047619048, 1.0, 1.0, 0.8047619047619048, 0.6666666666666666, 0.75, 1.0, 1.0, 1.0, 1.0, 1.0, 1.0, 1.0, 1.0, 1.0, 1.0, 1.0, 0.9047619047619048, 0.9047619047619048, 0.9047619047619048, 0.9199999999999999, 1.0, 0.8266666666666668, 1.0, 0.6742857142857143, 1.0, 0.9047619047619048, 0.9047619047619048, 0.9047619047619048, 0.9047619047619048, 1.0, 1.0, 1.0, 1.0, 0.9047619047619048, 1.0, 1.0, 0.9047619047619048, 0.9047619047619048, 0.9047619047619048, 1.0, 1.0, 0.9047619047619048, 0.8266666666666668, 1.0, 1.0, 1.0, 1.0, 1.0, 1.0, 0.9199999999999999, 1.0, 1.0, 1.0, 0.9047619047619048, 0.9047619047619048, 0.9047619047619048, 1.0, 0.8333333333333333, 0.9047619047619048, 1.0, 0.8333333333333333, 1.0, 1.0, 1.0, 1.0, 1.0, 0.9199999999999999, 1.0, 0.9047619047619048, 0.9047619047619048, 1.0, 0.9047619047619048, 0.9047619047619048, 1.0, 0.9199999999999999, 0.9199999999999999]"
   ]
  },
  {
   "cell_type": "code",
   "execution_count": 9,
   "id": "828ce38e-9cf5-4667-8204-321fcec6b765",
   "metadata": {},
   "outputs": [
    {
     "data": {
      "image/png": "[encoded data removed]",
      "text/plain": [
       "<Figure size 640x480 with 1 Axes>"
      ]
     },
     "metadata": {},
     "output_type": "display_data"
    }
   ],
   "source": [
    "plot_metric(accuracy_list, 'Accuracy', model=\"resnext50_32x4d\", save=True, show=show_, output=f\"output/tl/2024-02-24\", num_epochs=num_epochs, test_ratio=0.3)\n",
    "plot_metric(precision_list, 'Precision', model=\"resnext50_32x4d\", save=True, show=show_,output=f\"output/tl/2024-02-24\", num_epochs=num_epochs, test_ratio=0.3)\n",
    "plot_metric(recall_list, 'Recall', model=\"resnext50_32x4d\", save=True, show=show_,output=f\"output/tl/2024-02-24\", num_epochs=num_epochs, test_ratio=0.3)\n",
    "plot_metric(f1_list, 'F1 Score', model=\"resnext50_32x4d\", save=True, show=show_,output=f\"output/tl/2024-02-24\", num_epochs=num_epochs, test_ratio=0.3)"
   ]
  },
  {
   "cell_type": "code",
   "execution_count": 6,
   "id": "2015dd62-def5-4390-937d-a18dbbd36526",
   "metadata": {},
   "outputs": [
    {
     "data": {
      "image/png": "[encoded data removed]",
      "text/plain": [
       "<Figure size 640x480 with 1 Axes>"
      ]
     },
     "metadata": {},
     "output_type": "display_data"
    }
   ],
   "source": [
    "show_ = False\n",
    "num_epochs = 30\n",
    "plot_metric(accuracy_list, 'Accuracy', model=\"resnext50_32x4d\", save=True, show=show_, output=f\"output/tl+rotation/2024-02-25\", num_epochs=num_epochs, test_ratio=0.3)\n",
    "plot_metric(precision_list, 'Precision', model=\"resnext50_32x4d\", save=True, show=show_,output=f\"output/tl+rotation/2024-02-25\", num_epochs=num_epochs, test_ratio=0.3)\n",
    "plot_metric(recall_list, 'Recall', model=\"resnext50_32x4d\", save=True, show=show_,output=f\"output/tl+rotation/2024-02-25\", num_epochs=num_epochs, test_ratio=0.3)\n",
    "plot_metric(f1_list, 'F1 Score', model=\"resnext50_32x4d\", save=True, show=show_,output=f\"output/tl+rotation/2024-02-25\", num_epochs=num_epochs, test_ratio=0.3)"
   ]
  },
  {
   "cell_type": "code",
   "execution_count": null,
   "id": "63513399-f01e-4fb2-b729-4075b61d32e0",
   "metadata": {},
   "outputs": [],
   "source": []
  }
 ],
 "metadata": {
  "kernelspec": {
   "display_name": "Python 3 (ipykernel)",
   "language": "python",
   "name": "python3"
  },
  "language_info": {
   "codemirror_mode": {
    "name": "ipython",
    "version": 3
   },
   "file_extension": ".py",
   "mimetype": "text/x-python",
   "name": "python",
   "nbconvert_exporter": "python",
   "pygments_lexer": "ipython3",
   "version": "3.8.16"
  }
 },
 "nbformat": 4,
 "nbformat_minor": 5
}
